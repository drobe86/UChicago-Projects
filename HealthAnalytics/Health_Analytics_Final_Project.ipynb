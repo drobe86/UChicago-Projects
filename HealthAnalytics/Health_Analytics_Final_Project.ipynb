{
 "cells": [
  {
   "cell_type": "markdown",
   "metadata": {
    "colab_type": "text",
    "id": "view-in-github"
   },
   "source": [
    "<a href=\"https://colab.research.google.com/github/drobe86/Health-Analytics/blob/main/Health_Analytics_Final_Project.ipynb\" target=\"_parent\"><img src=\"https://colab.research.google.com/assets/colab-badge.svg\" alt=\"Open In Colab\"/></a>"
   ]
  },
  {
   "cell_type": "markdown",
   "metadata": {
    "id": "P9TR4T18QrMY"
   },
   "source": [
    "## **HEALTH ANALYTICS FINAL PROJECT**\n",
    "\n",
    "The purpose of this code notebook is to:\n",
    "\n",
    "- clean BRFSS data into a useable format for machine learning alogrithms.\n",
    "- create and train models to determine if an individual has one of several different chronic conditions"
   ]
  },
  {
   "cell_type": "markdown",
   "metadata": {
    "id": "q62EFCy9Q-Xs"
   },
   "source": [
    "# **1. Background**\n",
    "Chronic Conditions are a growing problem both financially and health-risk-wise ​\n",
    "\n",
    "In 2016, the total costs in the U.S. for direct health care treatment for chronic health conditions totaled $1.1 trillion (Milken Institute)​\n",
    "\n",
    "Chronic diseases are estimated to kill almost 41 million people a year worldwide, making up seven out of ten deaths globally. Of these deaths, approximately 17 million are classed as premature, with people dying significantly younger than expected on average (World Health Organization)​\n",
    "\n",
    "​\n",
    "\n",
    "https://milkeninstitute.org/report/costs-chronic-disease-us#:~:text=Key%20findings%3A,percent%20of%20the%20nation's%20GDP."
   ]
  },
  {
   "cell_type": "markdown",
   "metadata": {
    "id": "l52qhm2-Rld0"
   },
   "source": [
    "# **2. Data source**\n",
    "We accessed publicly available 2015 BRFSS data, which contain 279 variables on 464,644 subjects. https://www.cdc.gov/brfss/annual_data/annual_2015.html"
   ]
  },
  {
   "cell_type": "markdown",
   "metadata": {
    "id": "nMJ1p8zqRuRx"
   },
   "source": [
    "\n",
    "# **3. Dataset Considerations**\n",
    "Features\n",
    "## **The Dependent Variables are:**\n",
    "\n",
    "- Do you have, or have you ever had (in the case of women who only have diabetes during pregnancy), diabetes? --> DIABETE3\n",
    "- Do you have Coronary Heart Disease? --> CVDCRHD4\n",
    "- Have you ever suffered a Stroke? --> CVDSTRK3\n",
    "- Have you ever suffered a Heart Attack? --> CVDINFR4\n",
    "- Do you have Kidney Disease? --> CHCKIDNY\n",
    "## **The independent variables were:**\n",
    "### High Blood Pressure\n",
    "- Adults who have been told they have high blood pressure by a doctor, nurse, or other health professional --> _RFHYPE5\n",
    "### High Cholesterol\n",
    "- Have you EVER been told by a doctor, nurse or other health professional that your blood cholesterol is high? --> TOLDHI2\n",
    "- Cholesterol check within past five years --> _CHOLCHK\n",
    "### BMI\n",
    "- Body Mass Index (BMI) --> _BMI5\n",
    "### Smoking\n",
    "- Have you smoked at least 100 cigarettes in your entire life? [Note: 5 packs = 100 cigarettes] --> SMOKE100\n",
    "### Physical Activity\n",
    "- Adults who reported doing physical activity or exercise during the past 30 days other than their regular job --> _TOTINDA\n",
    "### Diet\n",
    "- Consume Fruit 1 or more times per day --> _FRTLT1\n",
    "- Consume Vegetables 1 or more times per day --> _VEGLT1\n",
    "### Alcohol Consumption\n",
    "- Heavy drinkers (adult men having more than 14 drinks per week and adult women having more than 7 drinks per week) --> _RFDRHV5\n",
    "### Health Care\n",
    "- Do you have any kind of health care coverage, including health insurance, prepaid plans such as HMOs, or government plans such as Medicare, or Indian Health Service? --> HLTHPLN1\n",
    "- Was there a time in the past 12 months when you needed to see a doctor but could not because of cost? --> MEDCOST\n",
    "### Health General and Mental Health\n",
    "- Would you say that in general your health is: --> GENHLTH\n",
    "- Now thinking about your mental health, which includes stress, depression, and problems with emotions, for how many days during the past 30 days was your mental health not good? --> MENTHLTH\n",
    "- Now thinking about your physical health, which includes physical illness and injury, for how many days during the past 30 days was your physical health not good? --> PHYSHLTH\n",
    "- Do you have serious difficulty walking or climbing stairs? --> DIFFWALK\n",
    "### Demographics\n",
    "- Indicate sex of respondent. --> SEX\n",
    "- Fourteen-level age category --> _AGEG5YR\n",
    "- What is the highest grade or year of school you completed? --> EDUCA\n",
    "- Is your annual household income from all sources: (If respondent refuses at any income level, code \"Refused.\") --> INCOME2\n",
    "\n",
    "#### **Note: Variables that were used as dependent variables in some cases were also included as independent variables when modeling other chronic conditions"
   ]
  },
  {
   "cell_type": "code",
   "execution_count": null,
   "metadata": {
    "id": "QgaSU0ekRnjK"
   },
   "outputs": [],
   "source": [
    "import os\n",
    "import pandas as pd\n",
    "import numpy as np\n",
    "import random\n",
    "random.seed(1)"
   ]
  },
  {
   "cell_type": "code",
   "execution_count": null,
   "metadata": {
    "id": "19oqxZlTShU3"
   },
   "outputs": [],
   "source": [
    "year = '2015'\n",
    "brfss_2015_dataset = pd.read_csv(f'{year}.csv')"
   ]
  },
  {
   "cell_type": "code",
   "execution_count": null,
   "metadata": {
    "id": "VGcBfw0PTBeC"
   },
   "outputs": [],
   "source": [
    "brfss_df_selected = brfss_2015_dataset[['DIABETE3', 'CVDINFR4',\n",
    "                                        'CVDCRHD4', 'CVDSTRK3',\n",
    "                                        'CHCKIDNY',\n",
    "                                         '_RFHYPE5',  \n",
    "                                         'TOLDHI2', '_CHOLCHK', \n",
    "                                         '_BMI5', \n",
    "                                         'SMOKE100',  \n",
    "                                         '_TOTINDA', \n",
    "                                         '_FRTLT1', '_VEGLT1', \n",
    "                                         '_RFDRHV5', \n",
    "                                         'HLTHPLN1', 'MEDCOST', \n",
    "                                         'GENHLTH', 'MENTHLTH', 'PHYSHLTH', 'DIFFWALK', \n",
    "                                         'SEX', '_AGEG5YR', 'EDUCA', 'INCOME2' ]]"
   ]
  },
  {
   "cell_type": "code",
   "execution_count": null,
   "metadata": {
    "colab": {
     "base_uri": "https://localhost:8080/"
    },
    "id": "LNPfMe7NTE78",
    "outputId": "49149b21-69f5-42df-fb9c-be21b37c4101"
   },
   "outputs": [
    {
     "data": {
      "text/plain": [
       "(5055, 24)"
      ]
     },
     "execution_count": 6,
     "metadata": {},
     "output_type": "execute_result"
    }
   ],
   "source": [
    "brfss_df_selected.shape"
   ]
  },
  {
   "cell_type": "code",
   "execution_count": null,
   "metadata": {
    "colab": {
     "base_uri": "https://localhost:8080/",
     "height": 270
    },
    "id": "OGAVe7gATGFr",
    "outputId": "a9bdb42d-7264-47fa-81d0-01f99484ea45"
   },
   "outputs": [
    {
     "data": {
      "text/html": [
       "\n",
       "  <div id=\"df-99730537-bf79-49ab-8dac-578a9097dbfd\">\n",
       "    <div class=\"colab-df-container\">\n",
       "      <div>\n",
       "<style scoped>\n",
       "    .dataframe tbody tr th:only-of-type {\n",
       "        vertical-align: middle;\n",
       "    }\n",
       "\n",
       "    .dataframe tbody tr th {\n",
       "        vertical-align: top;\n",
       "    }\n",
       "\n",
       "    .dataframe thead th {\n",
       "        text-align: right;\n",
       "    }\n",
       "</style>\n",
       "<table border=\"1\" class=\"dataframe\">\n",
       "  <thead>\n",
       "    <tr style=\"text-align: right;\">\n",
       "      <th></th>\n",
       "      <th>DIABETE3</th>\n",
       "      <th>CVDINFR4</th>\n",
       "      <th>CVDCRHD4</th>\n",
       "      <th>CVDSTRK3</th>\n",
       "      <th>CHCKIDNY</th>\n",
       "      <th>_RFHYPE5</th>\n",
       "      <th>TOLDHI2</th>\n",
       "      <th>_CHOLCHK</th>\n",
       "      <th>_BMI5</th>\n",
       "      <th>SMOKE100</th>\n",
       "      <th>_TOTINDA</th>\n",
       "      <th>_FRTLT1</th>\n",
       "      <th>_VEGLT1</th>\n",
       "      <th>_RFDRHV5</th>\n",
       "      <th>HLTHPLN1</th>\n",
       "      <th>MEDCOST</th>\n",
       "      <th>GENHLTH</th>\n",
       "      <th>MENTHLTH</th>\n",
       "      <th>PHYSHLTH</th>\n",
       "      <th>DIFFWALK</th>\n",
       "      <th>SEX</th>\n",
       "      <th>_AGEG5YR</th>\n",
       "      <th>EDUCA</th>\n",
       "      <th>INCOME2</th>\n",
       "    </tr>\n",
       "  </thead>\n",
       "  <tbody>\n",
       "    <tr>\n",
       "      <th>0</th>\n",
       "      <td>3.0</td>\n",
       "      <td>2.0</td>\n",
       "      <td>2.0</td>\n",
       "      <td>2.0</td>\n",
       "      <td>2.0</td>\n",
       "      <td>2.0</td>\n",
       "      <td>1.0</td>\n",
       "      <td>1.0</td>\n",
       "      <td>4018.0</td>\n",
       "      <td>1.0</td>\n",
       "      <td>2.0</td>\n",
       "      <td>2.0</td>\n",
       "      <td>1.0</td>\n",
       "      <td>1.0</td>\n",
       "      <td>1.0</td>\n",
       "      <td>2.0</td>\n",
       "      <td>5.0</td>\n",
       "      <td>18.0</td>\n",
       "      <td>15.0</td>\n",
       "      <td>1.0</td>\n",
       "      <td>2.0</td>\n",
       "      <td>9.0</td>\n",
       "      <td>4.0</td>\n",
       "      <td>3.0</td>\n",
       "    </tr>\n",
       "    <tr>\n",
       "      <th>1</th>\n",
       "      <td>3.0</td>\n",
       "      <td>2.0</td>\n",
       "      <td>2.0</td>\n",
       "      <td>2.0</td>\n",
       "      <td>2.0</td>\n",
       "      <td>1.0</td>\n",
       "      <td>2.0</td>\n",
       "      <td>2.0</td>\n",
       "      <td>2509.0</td>\n",
       "      <td>1.0</td>\n",
       "      <td>1.0</td>\n",
       "      <td>2.0</td>\n",
       "      <td>2.0</td>\n",
       "      <td>1.0</td>\n",
       "      <td>2.0</td>\n",
       "      <td>1.0</td>\n",
       "      <td>3.0</td>\n",
       "      <td>88.0</td>\n",
       "      <td>88.0</td>\n",
       "      <td>2.0</td>\n",
       "      <td>2.0</td>\n",
       "      <td>7.0</td>\n",
       "      <td>6.0</td>\n",
       "      <td>1.0</td>\n",
       "    </tr>\n",
       "    <tr>\n",
       "      <th>2</th>\n",
       "      <td>3.0</td>\n",
       "      <td>7.0</td>\n",
       "      <td>2.0</td>\n",
       "      <td>1.0</td>\n",
       "      <td>2.0</td>\n",
       "      <td>1.0</td>\n",
       "      <td>1.0</td>\n",
       "      <td>1.0</td>\n",
       "      <td>2204.0</td>\n",
       "      <td>NaN</td>\n",
       "      <td>9.0</td>\n",
       "      <td>9.0</td>\n",
       "      <td>9.0</td>\n",
       "      <td>9.0</td>\n",
       "      <td>1.0</td>\n",
       "      <td>2.0</td>\n",
       "      <td>4.0</td>\n",
       "      <td>88.0</td>\n",
       "      <td>15.0</td>\n",
       "      <td>NaN</td>\n",
       "      <td>2.0</td>\n",
       "      <td>11.0</td>\n",
       "      <td>4.0</td>\n",
       "      <td>99.0</td>\n",
       "    </tr>\n",
       "    <tr>\n",
       "      <th>3</th>\n",
       "      <td>3.0</td>\n",
       "      <td>2.0</td>\n",
       "      <td>2.0</td>\n",
       "      <td>2.0</td>\n",
       "      <td>2.0</td>\n",
       "      <td>2.0</td>\n",
       "      <td>1.0</td>\n",
       "      <td>1.0</td>\n",
       "      <td>2819.0</td>\n",
       "      <td>2.0</td>\n",
       "      <td>2.0</td>\n",
       "      <td>1.0</td>\n",
       "      <td>2.0</td>\n",
       "      <td>1.0</td>\n",
       "      <td>1.0</td>\n",
       "      <td>1.0</td>\n",
       "      <td>5.0</td>\n",
       "      <td>30.0</td>\n",
       "      <td>30.0</td>\n",
       "      <td>1.0</td>\n",
       "      <td>2.0</td>\n",
       "      <td>9.0</td>\n",
       "      <td>4.0</td>\n",
       "      <td>8.0</td>\n",
       "    </tr>\n",
       "    <tr>\n",
       "      <th>4</th>\n",
       "      <td>3.0</td>\n",
       "      <td>2.0</td>\n",
       "      <td>2.0</td>\n",
       "      <td>2.0</td>\n",
       "      <td>2.0</td>\n",
       "      <td>1.0</td>\n",
       "      <td>2.0</td>\n",
       "      <td>1.0</td>\n",
       "      <td>2437.0</td>\n",
       "      <td>2.0</td>\n",
       "      <td>2.0</td>\n",
       "      <td>9.0</td>\n",
       "      <td>1.0</td>\n",
       "      <td>1.0</td>\n",
       "      <td>1.0</td>\n",
       "      <td>2.0</td>\n",
       "      <td>5.0</td>\n",
       "      <td>88.0</td>\n",
       "      <td>20.0</td>\n",
       "      <td>2.0</td>\n",
       "      <td>2.0</td>\n",
       "      <td>9.0</td>\n",
       "      <td>5.0</td>\n",
       "      <td>77.0</td>\n",
       "    </tr>\n",
       "  </tbody>\n",
       "</table>\n",
       "</div>\n",
       "      <button class=\"colab-df-convert\" onclick=\"convertToInteractive('df-99730537-bf79-49ab-8dac-578a9097dbfd')\"\n",
       "              title=\"Convert this dataframe to an interactive table.\"\n",
       "              style=\"display:none;\">\n",
       "        \n",
       "  <svg xmlns=\"http://www.w3.org/2000/svg\" height=\"24px\"viewBox=\"0 0 24 24\"\n",
       "       width=\"24px\">\n",
       "    <path d=\"M0 0h24v24H0V0z\" fill=\"none\"/>\n",
       "    <path d=\"M18.56 5.44l.94 2.06.94-2.06 2.06-.94-2.06-.94-.94-2.06-.94 2.06-2.06.94zm-11 1L8.5 8.5l.94-2.06 2.06-.94-2.06-.94L8.5 2.5l-.94 2.06-2.06.94zm10 10l.94 2.06.94-2.06 2.06-.94-2.06-.94-.94-2.06-.94 2.06-2.06.94z\"/><path d=\"M17.41 7.96l-1.37-1.37c-.4-.4-.92-.59-1.43-.59-.52 0-1.04.2-1.43.59L10.3 9.45l-7.72 7.72c-.78.78-.78 2.05 0 2.83L4 21.41c.39.39.9.59 1.41.59.51 0 1.02-.2 1.41-.59l7.78-7.78 2.81-2.81c.8-.78.8-2.07 0-2.86zM5.41 20L4 18.59l7.72-7.72 1.47 1.35L5.41 20z\"/>\n",
       "  </svg>\n",
       "      </button>\n",
       "      \n",
       "  <style>\n",
       "    .colab-df-container {\n",
       "      display:flex;\n",
       "      flex-wrap:wrap;\n",
       "      gap: 12px;\n",
       "    }\n",
       "\n",
       "    .colab-df-convert {\n",
       "      background-color: #E8F0FE;\n",
       "      border: none;\n",
       "      border-radius: 50%;\n",
       "      cursor: pointer;\n",
       "      display: none;\n",
       "      fill: #1967D2;\n",
       "      height: 32px;\n",
       "      padding: 0 0 0 0;\n",
       "      width: 32px;\n",
       "    }\n",
       "\n",
       "    .colab-df-convert:hover {\n",
       "      background-color: #E2EBFA;\n",
       "      box-shadow: 0px 1px 2px rgba(60, 64, 67, 0.3), 0px 1px 3px 1px rgba(60, 64, 67, 0.15);\n",
       "      fill: #174EA6;\n",
       "    }\n",
       "\n",
       "    [theme=dark] .colab-df-convert {\n",
       "      background-color: #3B4455;\n",
       "      fill: #D2E3FC;\n",
       "    }\n",
       "\n",
       "    [theme=dark] .colab-df-convert:hover {\n",
       "      background-color: #434B5C;\n",
       "      box-shadow: 0px 1px 3px 1px rgba(0, 0, 0, 0.15);\n",
       "      filter: drop-shadow(0px 1px 2px rgba(0, 0, 0, 0.3));\n",
       "      fill: #FFFFFF;\n",
       "    }\n",
       "  </style>\n",
       "\n",
       "      <script>\n",
       "        const buttonEl =\n",
       "          document.querySelector('#df-99730537-bf79-49ab-8dac-578a9097dbfd button.colab-df-convert');\n",
       "        buttonEl.style.display =\n",
       "          google.colab.kernel.accessAllowed ? 'block' : 'none';\n",
       "\n",
       "        async function convertToInteractive(key) {\n",
       "          const element = document.querySelector('#df-99730537-bf79-49ab-8dac-578a9097dbfd');\n",
       "          const dataTable =\n",
       "            await google.colab.kernel.invokeFunction('convertToInteractive',\n",
       "                                                     [key], {});\n",
       "          if (!dataTable) return;\n",
       "\n",
       "          const docLinkHtml = 'Like what you see? Visit the ' +\n",
       "            '<a target=\"_blank\" href=https://colab.research.google.com/notebooks/data_table.ipynb>data table notebook</a>'\n",
       "            + ' to learn more about interactive tables.';\n",
       "          element.innerHTML = '';\n",
       "          dataTable['output_type'] = 'display_data';\n",
       "          await google.colab.output.renderOutput(dataTable, element);\n",
       "          const docLink = document.createElement('div');\n",
       "          docLink.innerHTML = docLinkHtml;\n",
       "          element.appendChild(docLink);\n",
       "        }\n",
       "      </script>\n",
       "    </div>\n",
       "  </div>\n",
       "  "
      ],
      "text/plain": [
       "   DIABETE3  CVDINFR4  CVDCRHD4  CVDSTRK3  CHCKIDNY  _RFHYPE5  TOLDHI2  \\\n",
       "0       3.0       2.0       2.0       2.0       2.0       2.0      1.0   \n",
       "1       3.0       2.0       2.0       2.0       2.0       1.0      2.0   \n",
       "2       3.0       7.0       2.0       1.0       2.0       1.0      1.0   \n",
       "3       3.0       2.0       2.0       2.0       2.0       2.0      1.0   \n",
       "4       3.0       2.0       2.0       2.0       2.0       1.0      2.0   \n",
       "\n",
       "   _CHOLCHK   _BMI5  SMOKE100  _TOTINDA  _FRTLT1  _VEGLT1  _RFDRHV5  HLTHPLN1  \\\n",
       "0       1.0  4018.0       1.0       2.0      2.0      1.0       1.0       1.0   \n",
       "1       2.0  2509.0       1.0       1.0      2.0      2.0       1.0       2.0   \n",
       "2       1.0  2204.0       NaN       9.0      9.0      9.0       9.0       1.0   \n",
       "3       1.0  2819.0       2.0       2.0      1.0      2.0       1.0       1.0   \n",
       "4       1.0  2437.0       2.0       2.0      9.0      1.0       1.0       1.0   \n",
       "\n",
       "   MEDCOST  GENHLTH  MENTHLTH  PHYSHLTH  DIFFWALK  SEX  _AGEG5YR  EDUCA  \\\n",
       "0      2.0      5.0      18.0      15.0       1.0  2.0       9.0    4.0   \n",
       "1      1.0      3.0      88.0      88.0       2.0  2.0       7.0    6.0   \n",
       "2      2.0      4.0      88.0      15.0       NaN  2.0      11.0    4.0   \n",
       "3      1.0      5.0      30.0      30.0       1.0  2.0       9.0    4.0   \n",
       "4      2.0      5.0      88.0      20.0       2.0  2.0       9.0    5.0   \n",
       "\n",
       "   INCOME2  \n",
       "0      3.0  \n",
       "1      1.0  \n",
       "2     99.0  \n",
       "3      8.0  \n",
       "4     77.0  "
      ]
     },
     "execution_count": 7,
     "metadata": {},
     "output_type": "execute_result"
    }
   ],
   "source": [
    "brfss_df_selected.head()"
   ]
  },
  {
   "cell_type": "markdown",
   "metadata": {
    "id": "iKZKcNUUTJ2s"
   },
   "source": [
    "# **4. Clean the data**"
   ]
  },
  {
   "cell_type": "markdown",
   "metadata": {
    "id": "THW4uC4EVwIA"
   },
   "source": [
    "## 4.1 Drop missing values"
   ]
  },
  {
   "cell_type": "code",
   "execution_count": null,
   "metadata": {
    "colab": {
     "base_uri": "https://localhost:8080/"
    },
    "id": "knbuJWOdTGaW",
    "outputId": "af999cf8-5d70-4204-c404-6f5ea8b98efe"
   },
   "outputs": [
    {
     "data": {
      "text/plain": [
       "(4117, 24)"
      ]
     },
     "execution_count": 8,
     "metadata": {},
     "output_type": "execute_result"
    }
   ],
   "source": [
    "brfss_df_selected = brfss_df_selected.dropna()\n",
    "brfss_df_selected.shape"
   ]
  },
  {
   "cell_type": "markdown",
   "metadata": {
    "id": "J4v41CJWTlNS"
   },
   "source": [
    "## 4.2 Modify and clean the values to be more suitable to ML algorithms\n",
    "In order to do this we referenced the codebook which says what each column/feature/question is: https://www.cdc.gov/brfss/annual_data/2015/pdf/codebook15_llcp.pdf"
   ]
  },
  {
   "cell_type": "code",
   "execution_count": null,
   "metadata": {
    "colab": {
     "base_uri": "https://localhost:8080/"
    },
    "id": "EPphUQUlTjXf",
    "outputId": "67e5e7aa-8d1a-4a7e-88de-bca1a4077f6a"
   },
   "outputs": [
    {
     "name": "stderr",
     "output_type": "stream",
     "text": [
      "/usr/local/lib/python3.7/dist-packages/ipykernel_launcher.py:5: SettingWithCopyWarning: \n",
      "A value is trying to be set on a copy of a slice from a DataFrame.\n",
      "Try using .loc[row_indexer,col_indexer] = value instead\n",
      "\n",
      "See the caveats in the documentation: https://pandas.pydata.org/pandas-docs/stable/user_guide/indexing.html#returning-a-view-versus-a-copy\n",
      "  \"\"\"\n"
     ]
    },
    {
     "data": {
      "text/plain": [
       "array([0., 2., 1.])"
      ]
     },
     "execution_count": 9,
     "metadata": {},
     "output_type": "execute_result"
    }
   ],
   "source": [
    "# DIABETE3\n",
    "# Making this ordinal. 0 for no diabetes or only during pregnancy, 1 for pre-diabetes or borderline diabetes, 2 for diabetes\n",
    "# Remove all 7 (dont knows)\n",
    "# Remove all 9 (refused)\n",
    "brfss_df_selected['DIABETE3'] = brfss_df_selected['DIABETE3'].replace({2:0, 3:0, 1:2, 4:1})\n",
    "brfss_df_selected = brfss_df_selected[brfss_df_selected.DIABETE3 != 7]\n",
    "brfss_df_selected = brfss_df_selected[brfss_df_selected.DIABETE3 != 9]\n",
    "brfss_df_selected.DIABETE3.unique()"
   ]
  },
  {
   "cell_type": "code",
   "execution_count": null,
   "metadata": {
    "colab": {
     "base_uri": "https://localhost:8080/"
    },
    "id": "cJb2yNNqZfw_",
    "outputId": "fa3b11c5-f0ce-4eb0-92bf-41c43437ca11"
   },
   "outputs": [
    {
     "data": {
      "text/plain": [
       "array([0., 1.])"
      ]
     },
     "execution_count": 10,
     "metadata": {},
     "output_type": "execute_result"
    }
   ],
   "source": [
    "# CVDINFR4\n",
    "# Change 2 to 0 so it represents no heart attack\n",
    "# Remove all 7 (dont knows)\n",
    "# Remove all 9 (refused)\n",
    "brfss_df_selected['CVDINFR4'] = brfss_df_selected['CVDINFR4'].replace({2:0})\n",
    "brfss_df_selected = brfss_df_selected[brfss_df_selected.CVDINFR4 != 7]\n",
    "brfss_df_selected = brfss_df_selected[brfss_df_selected.CVDINFR4 != 9]\n",
    "brfss_df_selected.CVDINFR4.unique()"
   ]
  },
  {
   "cell_type": "code",
   "execution_count": null,
   "metadata": {
    "colab": {
     "base_uri": "https://localhost:8080/"
    },
    "id": "9idu9hfVZf5F",
    "outputId": "55995418-06e2-419e-db15-b21aa36896b2"
   },
   "outputs": [
    {
     "data": {
      "text/plain": [
       "array([0., 1.])"
      ]
     },
     "execution_count": 11,
     "metadata": {},
     "output_type": "execute_result"
    }
   ],
   "source": [
    "# CVDCRHD4\n",
    "# Change 2 to 0 so it represents no heart disease\n",
    "# Remove all 7 (dont knows)\n",
    "# Remove all 9 (refused)\n",
    "brfss_df_selected['CVDCRHD4'] = brfss_df_selected['CVDCRHD4'].replace({2:0})\n",
    "brfss_df_selected = brfss_df_selected[brfss_df_selected.CVDCRHD4 != 7]\n",
    "brfss_df_selected = brfss_df_selected[brfss_df_selected.CVDCRHD4 != 9]\n",
    "brfss_df_selected.CVDCRHD4.unique()"
   ]
  },
  {
   "cell_type": "code",
   "execution_count": null,
   "metadata": {
    "colab": {
     "base_uri": "https://localhost:8080/"
    },
    "id": "DtC_M2UcZgBR",
    "outputId": "dc702a55-b4ab-4f64-853b-89f198c6e20d"
   },
   "outputs": [
    {
     "data": {
      "text/plain": [
       "array([0., 1.])"
      ]
     },
     "execution_count": 12,
     "metadata": {},
     "output_type": "execute_result"
    }
   ],
   "source": [
    "# CHCKIDNY\n",
    "# Change 2 to 0 so it represents no kidney disease\n",
    "# Remove all 7 (dont knows)\n",
    "# Remove all 9 (refused)\n",
    "brfss_df_selected['CHCKIDNY'] = brfss_df_selected['CHCKIDNY'].replace({2:0})\n",
    "brfss_df_selected = brfss_df_selected[brfss_df_selected.CHCKIDNY != 7]\n",
    "brfss_df_selected = brfss_df_selected[brfss_df_selected.CHCKIDNY != 9]\n",
    "brfss_df_selected.CHCKIDNY.unique()"
   ]
  },
  {
   "cell_type": "code",
   "execution_count": null,
   "metadata": {
    "colab": {
     "base_uri": "https://localhost:8080/"
    },
    "id": "M5IzTQTfTppc",
    "outputId": "1945d77d-8de8-45ed-a482-9a8089a41433"
   },
   "outputs": [
    {
     "data": {
      "text/plain": [
       "array([1., 0.])"
      ]
     },
     "execution_count": 13,
     "metadata": {},
     "output_type": "execute_result"
    }
   ],
   "source": [
    "# _RFHYPE5\n",
    "#Change 1 to 0 so it represents No high blood pressure and 2 to 1 so it represents high blood pressure\n",
    "brfss_df_selected['_RFHYPE5'] = brfss_df_selected['_RFHYPE5'].replace({1:0, 2:1})\n",
    "brfss_df_selected = brfss_df_selected[brfss_df_selected._RFHYPE5 != 9]\n",
    "brfss_df_selected._RFHYPE5.unique()"
   ]
  },
  {
   "cell_type": "code",
   "execution_count": null,
   "metadata": {
    "colab": {
     "base_uri": "https://localhost:8080/"
    },
    "id": "nkhbeCTjTq8W",
    "outputId": "4b118ee1-c22c-430a-c5fb-5d75a4d2642e"
   },
   "outputs": [
    {
     "name": "stderr",
     "output_type": "stream",
     "text": [
      "/usr/local/lib/python3.7/dist-packages/ipykernel_launcher.py:5: SettingWithCopyWarning: \n",
      "A value is trying to be set on a copy of a slice from a DataFrame.\n",
      "Try using .loc[row_indexer,col_indexer] = value instead\n",
      "\n",
      "See the caveats in the documentation: https://pandas.pydata.org/pandas-docs/stable/user_guide/indexing.html#returning-a-view-versus-a-copy\n",
      "  \"\"\"\n"
     ]
    },
    {
     "data": {
      "text/plain": [
       "array([1., 0.])"
      ]
     },
     "execution_count": 14,
     "metadata": {},
     "output_type": "execute_result"
    }
   ],
   "source": [
    "# TOLDHI2\n",
    "# Change 2 to 0 so it represents no high cholesterol\n",
    "# Remove all 7 (dont knows)\n",
    "# Remove all 9 (refused)\n",
    "brfss_df_selected['TOLDHI2'] = brfss_df_selected['TOLDHI2'].replace({2:0})\n",
    "brfss_df_selected = brfss_df_selected[brfss_df_selected.TOLDHI2 != 7]\n",
    "brfss_df_selected = brfss_df_selected[brfss_df_selected.TOLDHI2 != 9]\n",
    "brfss_df_selected.TOLDHI2.unique()"
   ]
  },
  {
   "cell_type": "code",
   "execution_count": null,
   "metadata": {
    "colab": {
     "base_uri": "https://localhost:8080/"
    },
    "id": "qeddqHrvTslG",
    "outputId": "8f85d168-e21d-4fdd-c250-051923419d96"
   },
   "outputs": [
    {
     "data": {
      "text/plain": [
       "array([1., 0.])"
      ]
     },
     "execution_count": 15,
     "metadata": {},
     "output_type": "execute_result"
    }
   ],
   "source": [
    "# _CHOLCHK\n",
    "# Change 3 to 0 and 2 to 0 for Not checked cholesterol in past 5 years\n",
    "# Remove 9\n",
    "brfss_df_selected['_CHOLCHK'] = brfss_df_selected['_CHOLCHK'].replace({3:0,2:0})\n",
    "brfss_df_selected = brfss_df_selected[brfss_df_selected._CHOLCHK != 9]\n",
    "brfss_df_selected._CHOLCHK.unique()"
   ]
  },
  {
   "cell_type": "code",
   "execution_count": null,
   "metadata": {
    "colab": {
     "base_uri": "https://localhost:8080/"
    },
    "id": "sfPYEBjkTuNR",
    "outputId": "9924b743-8d05-4369-f99c-0ee889dcbbe1"
   },
   "outputs": [
    {
     "data": {
      "text/plain": [
       "array([40., 25., 28., 24., 27., 30., 26., 23., 34., 33., 21., 22., 31.,\n",
       "       38., 20., 19., 32., 46., 41., 37., 36., 29., 35., 18., 54., 45.,\n",
       "       39., 47., 43., 55., 49., 42., 17., 16., 48., 44., 50., 59., 15.,\n",
       "       52., 53., 57., 51., 14., 58., 63., 61.])"
      ]
     },
     "execution_count": 16,
     "metadata": {},
     "output_type": "execute_result"
    }
   ],
   "source": [
    "# _BMI5 \n",
    "# Divide values by 100, as the survey dataset includes BMI values * 100\n",
    "brfss_df_selected['_BMI5'] = brfss_df_selected['_BMI5'].div(100).round(0)\n",
    "brfss_df_selected._BMI5.unique()"
   ]
  },
  {
   "cell_type": "code",
   "execution_count": null,
   "metadata": {
    "colab": {
     "base_uri": "https://localhost:8080/"
    },
    "id": "7WvD_aR-TwC4",
    "outputId": "2aca8dfe-aa97-49c7-e5ec-3dffbed73153"
   },
   "outputs": [
    {
     "data": {
      "text/plain": [
       "array([1., 0.])"
      ]
     },
     "execution_count": 17,
     "metadata": {},
     "output_type": "execute_result"
    }
   ],
   "source": [
    "# SMOKE100\n",
    "# Change 2 to 0 so it represents no smoking\n",
    "# Remove all 7 (dont knows)\n",
    "# Remove all 9 (refused)\n",
    "brfss_df_selected['SMOKE100'] = brfss_df_selected['SMOKE100'].replace({2:0})\n",
    "brfss_df_selected = brfss_df_selected[brfss_df_selected.SMOKE100 != 7]\n",
    "brfss_df_selected = brfss_df_selected[brfss_df_selected.SMOKE100 != 9]\n",
    "brfss_df_selected.SMOKE100.unique()"
   ]
  },
  {
   "cell_type": "code",
   "execution_count": null,
   "metadata": {
    "colab": {
     "base_uri": "https://localhost:8080/"
    },
    "id": "WaVroRVdTxwQ",
    "outputId": "dbd6ed9a-b353-4fe4-dba2-cdee99ec5073"
   },
   "outputs": [
    {
     "data": {
      "text/plain": [
       "array([0., 1.])"
      ]
     },
     "execution_count": 18,
     "metadata": {},
     "output_type": "execute_result"
    }
   ],
   "source": [
    "# CVDSTRK3\n",
    "# Change 2 to 0 so it represents no stroke\n",
    "# Remove all 7 (dont knows)\n",
    "# Remove all 9 (refused)\n",
    "brfss_df_selected['CVDSTRK3'] = brfss_df_selected['CVDSTRK3'].replace({2:0})\n",
    "brfss_df_selected = brfss_df_selected[brfss_df_selected.CVDSTRK3 != 7]\n",
    "brfss_df_selected = brfss_df_selected[brfss_df_selected.CVDSTRK3 != 9]\n",
    "brfss_df_selected.CVDSTRK3.unique()"
   ]
  },
  {
   "cell_type": "code",
   "execution_count": null,
   "metadata": {
    "colab": {
     "base_uri": "https://localhost:8080/"
    },
    "id": "WUGvtQHfURuB",
    "outputId": "d6207897-7cc5-421e-ad05-a12587e2a185"
   },
   "outputs": [
    {
     "data": {
      "text/plain": [
       "array([0., 1.])"
      ]
     },
     "execution_count": 19,
     "metadata": {},
     "output_type": "execute_result"
    }
   ],
   "source": [
    "# _TOTINDA\n",
    "# change 2 to 0 so it represents no physical activity\n",
    "# Remove all 9 (don't know/refused)\n",
    "brfss_df_selected['_TOTINDA'] = brfss_df_selected['_TOTINDA'].replace({2:0})\n",
    "brfss_df_selected = brfss_df_selected[brfss_df_selected._TOTINDA != 9]\n",
    "brfss_df_selected._TOTINDA.unique()"
   ]
  },
  {
   "cell_type": "code",
   "execution_count": null,
   "metadata": {
    "colab": {
     "base_uri": "https://localhost:8080/"
    },
    "id": "DMfaoRBrUUMh",
    "outputId": "c18af4ec-63be-43b5-d3d3-a49bd4ab69e6"
   },
   "outputs": [
    {
     "name": "stderr",
     "output_type": "stream",
     "text": [
      "/usr/local/lib/python3.7/dist-packages/ipykernel_launcher.py:4: SettingWithCopyWarning: \n",
      "A value is trying to be set on a copy of a slice from a DataFrame.\n",
      "Try using .loc[row_indexer,col_indexer] = value instead\n",
      "\n",
      "See the caveats in the documentation: https://pandas.pydata.org/pandas-docs/stable/user_guide/indexing.html#returning-a-view-versus-a-copy\n",
      "  after removing the cwd from sys.path.\n"
     ]
    },
    {
     "data": {
      "text/plain": [
       "array([0., 1.])"
      ]
     },
     "execution_count": 20,
     "metadata": {},
     "output_type": "execute_result"
    }
   ],
   "source": [
    "# _FRTLT1\n",
    "# Change 2 to 0 for no fruit consumed per day. 1 will mean consumed 1 or more pieces of fruit per day \n",
    "# remove all dont knows and missing 9\n",
    "brfss_df_selected['_FRTLT1'] = brfss_df_selected['_FRTLT1'].replace({2:0})\n",
    "brfss_df_selected = brfss_df_selected[brfss_df_selected._FRTLT1 != 9]\n",
    "brfss_df_selected._FRTLT1.unique()"
   ]
  },
  {
   "cell_type": "code",
   "execution_count": null,
   "metadata": {
    "colab": {
     "base_uri": "https://localhost:8080/"
    },
    "id": "1obUPGJIUVqA",
    "outputId": "99126e18-96b8-40da-e325-0d3233ccc31e"
   },
   "outputs": [
    {
     "data": {
      "text/plain": [
       "array([1., 0.])"
      ]
     },
     "execution_count": 21,
     "metadata": {},
     "output_type": "execute_result"
    }
   ],
   "source": [
    "# _VEGLT1\n",
    "# Change 2 to 0 for no vegetables consumed per day. 1 will mean consumed 1 or more pieces of vegetable per day \n",
    "# remove all dont knows and missing 9\n",
    "brfss_df_selected['_VEGLT1'] = brfss_df_selected['_VEGLT1'].replace({2:0})\n",
    "brfss_df_selected = brfss_df_selected[brfss_df_selected._VEGLT1 != 9]\n",
    "brfss_df_selected._VEGLT1.unique()"
   ]
  },
  {
   "cell_type": "code",
   "execution_count": null,
   "metadata": {
    "colab": {
     "base_uri": "https://localhost:8080/"
    },
    "id": "WWcFKfmLUXPg",
    "outputId": "038ca30d-30a4-4a58-fac8-55a942ae87b9"
   },
   "outputs": [
    {
     "data": {
      "text/plain": [
       "array([0., 1.])"
      ]
     },
     "execution_count": 22,
     "metadata": {},
     "output_type": "execute_result"
    }
   ],
   "source": [
    "# _RFDRHV5\n",
    "# Change 1 to 0 (1 was no for heavy drinking). change 2 to 1 (2 was yes for heavy drinking)\n",
    "# remove all dont knows and missing 9\n",
    "brfss_df_selected['_RFDRHV5'] = brfss_df_selected['_RFDRHV5'].replace({1:0, 2:1})\n",
    "brfss_df_selected = brfss_df_selected[brfss_df_selected._RFDRHV5 != 9]\n",
    "brfss_df_selected._RFDRHV5.unique()"
   ]
  },
  {
   "cell_type": "code",
   "execution_count": null,
   "metadata": {
    "colab": {
     "base_uri": "https://localhost:8080/"
    },
    "id": "8sEoQSUcUYlW",
    "outputId": "8cd19e70-ba44-4d66-8245-628c74d5073e"
   },
   "outputs": [
    {
     "data": {
      "text/plain": [
       "array([1., 0.])"
      ]
     },
     "execution_count": 23,
     "metadata": {},
     "output_type": "execute_result"
    }
   ],
   "source": [
    "# HLTHPLN1\n",
    "# Change 2 to 0 because it represents no health care access\n",
    "# remove 7 and 9 for don't know or refused\n",
    "brfss_df_selected['HLTHPLN1'] = brfss_df_selected['HLTHPLN1'].replace({2:0})\n",
    "brfss_df_selected = brfss_df_selected[brfss_df_selected.HLTHPLN1 != 7]\n",
    "brfss_df_selected = brfss_df_selected[brfss_df_selected.HLTHPLN1 != 9]\n",
    "brfss_df_selected.HLTHPLN1.unique()"
   ]
  },
  {
   "cell_type": "code",
   "execution_count": null,
   "metadata": {
    "colab": {
     "base_uri": "https://localhost:8080/"
    },
    "id": "4WPiGfeKUZ2d",
    "outputId": "620fe69b-cdef-49e2-a583-836e60a80bde"
   },
   "outputs": [
    {
     "data": {
      "text/plain": [
       "array([0., 1.])"
      ]
     },
     "execution_count": 24,
     "metadata": {},
     "output_type": "execute_result"
    }
   ],
   "source": [
    "# MEDCOST\n",
    "# Change 2 to 0 because it represents no doctor because of cost constraints\n",
    "# remove 7 for don/t know and 9 for refused\n",
    "brfss_df_selected['MEDCOST'] = brfss_df_selected['MEDCOST'].replace({2:0})\n",
    "brfss_df_selected = brfss_df_selected[brfss_df_selected.MEDCOST != 7]\n",
    "brfss_df_selected = brfss_df_selected[brfss_df_selected.MEDCOST != 9]\n",
    "brfss_df_selected.MEDCOST.unique()"
   ]
  },
  {
   "cell_type": "code",
   "execution_count": null,
   "metadata": {
    "colab": {
     "base_uri": "https://localhost:8080/"
    },
    "id": "9rLumRMgUbHf",
    "outputId": "0560dab1-68a2-41ec-ef5d-704cde3d5b48"
   },
   "outputs": [
    {
     "data": {
      "text/plain": [
       "array([5., 3., 2., 4., 1.])"
      ]
     },
     "execution_count": 25,
     "metadata": {},
     "output_type": "execute_result"
    }
   ],
   "source": [
    "# GENHLTH\n",
    "# Ordinal variable (1 is Excellent -> 5 is Poor)\n",
    "# Remove 7 and 9 for don't know and refused\n",
    "brfss_df_selected = brfss_df_selected[brfss_df_selected.GENHLTH != 7]\n",
    "brfss_df_selected = brfss_df_selected[brfss_df_selected.GENHLTH != 9]\n",
    "brfss_df_selected.GENHLTH.unique()"
   ]
  },
  {
   "cell_type": "code",
   "execution_count": null,
   "metadata": {
    "colab": {
     "base_uri": "https://localhost:8080/"
    },
    "id": "cdyUr19HUcvs",
    "outputId": "87e102e4-fa81-43c1-afb9-19c60c04156a"
   },
   "outputs": [
    {
     "data": {
      "text/plain": [
       "array([18.,  0., 30.,  3.,  5., 15., 10.,  6., 20.,  2., 25.,  1., 29.,\n",
       "        4.,  7.,  8., 21., 14., 26.,  9., 16., 28., 11., 12., 24., 17.,\n",
       "       13., 23., 27.])"
      ]
     },
     "execution_count": 26,
     "metadata": {},
     "output_type": "execute_result"
    }
   ],
   "source": [
    "# MENTHLTH\n",
    "# Measured in days/month, 0-30\n",
    "# change 88 to 0 because it means none (no bad mental health days)\n",
    "# remove 77 and 99 for don't know not sure and refused\n",
    "brfss_df_selected['MENTHLTH'] = brfss_df_selected['MENTHLTH'].replace({88:0})\n",
    "brfss_df_selected = brfss_df_selected[brfss_df_selected.MENTHLTH != 77]\n",
    "brfss_df_selected = brfss_df_selected[brfss_df_selected.MENTHLTH != 99]\n",
    "brfss_df_selected.MENTHLTH.unique()"
   ]
  },
  {
   "cell_type": "code",
   "execution_count": null,
   "metadata": {
    "colab": {
     "base_uri": "https://localhost:8080/"
    },
    "id": "HYBBbI_eUhwa",
    "outputId": "25fae4ba-c1ef-4f58-90f6-62bf55930297"
   },
   "outputs": [
    {
     "data": {
      "text/plain": [
       "array([15.,  0., 30.,  2., 14., 28.,  7., 20.,  3., 10.,  1.,  5., 17.,\n",
       "        4., 19.,  6., 21., 12.,  8., 25., 27., 22., 29., 24.,  9., 16.,\n",
       "       18., 23., 13.])"
      ]
     },
     "execution_count": 27,
     "metadata": {},
     "output_type": "execute_result"
    }
   ],
   "source": [
    "# PHYSHLTH\n",
    "# Measured in days/month, 0-30\n",
    "# change 88 to 0 because it means none (no physical health days)\n",
    "# remove 77 and 99 for don't know not sure and refused\n",
    "brfss_df_selected['PHYSHLTH'] = brfss_df_selected['PHYSHLTH'].replace({88:0})\n",
    "brfss_df_selected = brfss_df_selected[brfss_df_selected.PHYSHLTH != 77]\n",
    "brfss_df_selected = brfss_df_selected[brfss_df_selected.PHYSHLTH != 99]\n",
    "brfss_df_selected.PHYSHLTH.unique()"
   ]
  },
  {
   "cell_type": "code",
   "execution_count": null,
   "metadata": {
    "colab": {
     "base_uri": "https://localhost:8080/"
    },
    "id": "BACTL-XYUlg6",
    "outputId": "c74e28c8-5138-4e1a-ba38-6e6568c98261"
   },
   "outputs": [
    {
     "data": {
      "text/plain": [
       "array([1., 0.])"
      ]
     },
     "execution_count": 28,
     "metadata": {},
     "output_type": "execute_result"
    }
   ],
   "source": [
    "# DIFFWALK\n",
    "# change 2 to 0 for no\n",
    "# remove 7 and 9 for don't know not sure and refused\n",
    "brfss_df_selected['DIFFWALK'] = brfss_df_selected['DIFFWALK'].replace({2:0})\n",
    "brfss_df_selected = brfss_df_selected[brfss_df_selected.DIFFWALK != 7]\n",
    "brfss_df_selected = brfss_df_selected[brfss_df_selected.DIFFWALK != 9]\n",
    "brfss_df_selected.DIFFWALK.unique()"
   ]
  },
  {
   "cell_type": "code",
   "execution_count": null,
   "metadata": {
    "colab": {
     "base_uri": "https://localhost:8080/"
    },
    "id": "tdp6cKGoUnD8",
    "outputId": "3ff2b25b-95ee-4618-c157-62add8fc86bc"
   },
   "outputs": [
    {
     "data": {
      "text/plain": [
       "array([0., 1.])"
      ]
     },
     "execution_count": 29,
     "metadata": {},
     "output_type": "execute_result"
    }
   ],
   "source": [
    "# SEX\n",
    "# Male is 1, female is 0\n",
    "brfss_df_selected['SEX'] = brfss_df_selected['SEX'].replace({2:0})\n",
    "brfss_df_selected.SEX.unique()"
   ]
  },
  {
   "cell_type": "code",
   "execution_count": null,
   "metadata": {
    "colab": {
     "base_uri": "https://localhost:8080/"
    },
    "id": "xkMYQp9LUoWa",
    "outputId": "d6117881-cf2d-47c2-b776-809090f8696c"
   },
   "outputs": [
    {
     "data": {
      "text/plain": [
       "array([ 9.,  7., 11., 10., 13.,  8.,  4.,  6.,  2., 12.,  5.,  1.,  3.])"
      ]
     },
     "execution_count": 30,
     "metadata": {},
     "output_type": "execute_result"
    }
   ],
   "source": [
    "# _AGEG5YR\n",
    "# Ordinal, 1 is 18-24, 13 is 80 and older. 5 year increments.\n",
    "# remove 14 because it is don't know or missing\n",
    "brfss_df_selected = brfss_df_selected[brfss_df_selected._AGEG5YR != 14]\n",
    "brfss_df_selected._AGEG5YR.unique()"
   ]
  },
  {
   "cell_type": "code",
   "execution_count": null,
   "metadata": {
    "colab": {
     "base_uri": "https://localhost:8080/"
    },
    "id": "UjACjFIHUpbL",
    "outputId": "f8c593db-4ead-4b7a-89fa-a5ea52049981"
   },
   "outputs": [
    {
     "data": {
      "text/plain": [
       "array([4., 6., 3., 5., 2., 1.])"
      ]
     },
     "execution_count": 31,
     "metadata": {},
     "output_type": "execute_result"
    }
   ],
   "source": [
    "# EDUCA\n",
    "# Ordinal, 1 being never attended school or kindergarten only, 6 being college 4 years or more\n",
    "# Remove 9 for refused:\n",
    "brfss_df_selected = brfss_df_selected[brfss_df_selected.EDUCA != 9]\n",
    "brfss_df_selected.EDUCA.unique()"
   ]
  },
  {
   "cell_type": "code",
   "execution_count": null,
   "metadata": {
    "colab": {
     "base_uri": "https://localhost:8080/"
    },
    "id": "vQIfAiYlUslc",
    "outputId": "d5e26730-fb32-48bd-adc1-623a97a85bc0"
   },
   "outputs": [
    {
     "data": {
      "text/plain": [
       "array([3., 1., 8., 6., 4., 7., 2., 5.])"
      ]
     },
     "execution_count": 32,
     "metadata": {},
     "output_type": "execute_result"
    }
   ],
   "source": [
    "# INCOME2\n",
    "# Ordinal, 1 being less than $10,000, 8 being $75,000 or more\n",
    "# Remove 77 and 99 for don't know and refused\n",
    "brfss_df_selected = brfss_df_selected[brfss_df_selected.INCOME2 != 77]\n",
    "brfss_df_selected = brfss_df_selected[brfss_df_selected.INCOME2 != 99]\n",
    "brfss_df_selected.INCOME2.unique()"
   ]
  },
  {
   "cell_type": "code",
   "execution_count": null,
   "metadata": {
    "colab": {
     "base_uri": "https://localhost:8080/"
    },
    "id": "_UHD_SpGUt6K",
    "outputId": "c0b82b33-df60-4bc7-d745-e19eabd96b41"
   },
   "outputs": [
    {
     "data": {
      "text/plain": [
       "(2774, 24)"
      ]
     },
     "execution_count": 33,
     "metadata": {},
     "output_type": "execute_result"
    }
   ],
   "source": [
    "brfss_df_selected.shape"
   ]
  },
  {
   "cell_type": "code",
   "execution_count": null,
   "metadata": {
    "colab": {
     "base_uri": "https://localhost:8080/",
     "height": 270
    },
    "id": "ZLsKPejBUvjH",
    "outputId": "a1de9bb3-9b3b-4395-bf98-2192280b23b9"
   },
   "outputs": [
    {
     "data": {
      "text/html": [
       "\n",
       "  <div id=\"df-1dd2cd50-3c58-465d-b2ac-0935b17cfc4d\">\n",
       "    <div class=\"colab-df-container\">\n",
       "      <div>\n",
       "<style scoped>\n",
       "    .dataframe tbody tr th:only-of-type {\n",
       "        vertical-align: middle;\n",
       "    }\n",
       "\n",
       "    .dataframe tbody tr th {\n",
       "        vertical-align: top;\n",
       "    }\n",
       "\n",
       "    .dataframe thead th {\n",
       "        text-align: right;\n",
       "    }\n",
       "</style>\n",
       "<table border=\"1\" class=\"dataframe\">\n",
       "  <thead>\n",
       "    <tr style=\"text-align: right;\">\n",
       "      <th></th>\n",
       "      <th>DIABETE3</th>\n",
       "      <th>CVDINFR4</th>\n",
       "      <th>CVDCRHD4</th>\n",
       "      <th>CVDSTRK3</th>\n",
       "      <th>CHCKIDNY</th>\n",
       "      <th>_RFHYPE5</th>\n",
       "      <th>TOLDHI2</th>\n",
       "      <th>_CHOLCHK</th>\n",
       "      <th>_BMI5</th>\n",
       "      <th>SMOKE100</th>\n",
       "      <th>_TOTINDA</th>\n",
       "      <th>_FRTLT1</th>\n",
       "      <th>_VEGLT1</th>\n",
       "      <th>_RFDRHV5</th>\n",
       "      <th>HLTHPLN1</th>\n",
       "      <th>MEDCOST</th>\n",
       "      <th>GENHLTH</th>\n",
       "      <th>MENTHLTH</th>\n",
       "      <th>PHYSHLTH</th>\n",
       "      <th>DIFFWALK</th>\n",
       "      <th>SEX</th>\n",
       "      <th>_AGEG5YR</th>\n",
       "      <th>EDUCA</th>\n",
       "      <th>INCOME2</th>\n",
       "    </tr>\n",
       "  </thead>\n",
       "  <tbody>\n",
       "    <tr>\n",
       "      <th>0</th>\n",
       "      <td>0.0</td>\n",
       "      <td>0.0</td>\n",
       "      <td>0.0</td>\n",
       "      <td>0.0</td>\n",
       "      <td>0.0</td>\n",
       "      <td>1.0</td>\n",
       "      <td>1.0</td>\n",
       "      <td>1.0</td>\n",
       "      <td>40.0</td>\n",
       "      <td>1.0</td>\n",
       "      <td>0.0</td>\n",
       "      <td>0.0</td>\n",
       "      <td>1.0</td>\n",
       "      <td>0.0</td>\n",
       "      <td>1.0</td>\n",
       "      <td>0.0</td>\n",
       "      <td>5.0</td>\n",
       "      <td>18.0</td>\n",
       "      <td>15.0</td>\n",
       "      <td>1.0</td>\n",
       "      <td>0.0</td>\n",
       "      <td>9.0</td>\n",
       "      <td>4.0</td>\n",
       "      <td>3.0</td>\n",
       "    </tr>\n",
       "    <tr>\n",
       "      <th>1</th>\n",
       "      <td>0.0</td>\n",
       "      <td>0.0</td>\n",
       "      <td>0.0</td>\n",
       "      <td>0.0</td>\n",
       "      <td>0.0</td>\n",
       "      <td>0.0</td>\n",
       "      <td>0.0</td>\n",
       "      <td>0.0</td>\n",
       "      <td>25.0</td>\n",
       "      <td>1.0</td>\n",
       "      <td>1.0</td>\n",
       "      <td>0.0</td>\n",
       "      <td>0.0</td>\n",
       "      <td>0.0</td>\n",
       "      <td>0.0</td>\n",
       "      <td>1.0</td>\n",
       "      <td>3.0</td>\n",
       "      <td>0.0</td>\n",
       "      <td>0.0</td>\n",
       "      <td>0.0</td>\n",
       "      <td>0.0</td>\n",
       "      <td>7.0</td>\n",
       "      <td>6.0</td>\n",
       "      <td>1.0</td>\n",
       "    </tr>\n",
       "    <tr>\n",
       "      <th>3</th>\n",
       "      <td>0.0</td>\n",
       "      <td>0.0</td>\n",
       "      <td>0.0</td>\n",
       "      <td>0.0</td>\n",
       "      <td>0.0</td>\n",
       "      <td>1.0</td>\n",
       "      <td>1.0</td>\n",
       "      <td>1.0</td>\n",
       "      <td>28.0</td>\n",
       "      <td>0.0</td>\n",
       "      <td>0.0</td>\n",
       "      <td>1.0</td>\n",
       "      <td>0.0</td>\n",
       "      <td>0.0</td>\n",
       "      <td>1.0</td>\n",
       "      <td>1.0</td>\n",
       "      <td>5.0</td>\n",
       "      <td>30.0</td>\n",
       "      <td>30.0</td>\n",
       "      <td>1.0</td>\n",
       "      <td>0.0</td>\n",
       "      <td>9.0</td>\n",
       "      <td>4.0</td>\n",
       "      <td>8.0</td>\n",
       "    </tr>\n",
       "    <tr>\n",
       "      <th>5</th>\n",
       "      <td>0.0</td>\n",
       "      <td>0.0</td>\n",
       "      <td>0.0</td>\n",
       "      <td>0.0</td>\n",
       "      <td>0.0</td>\n",
       "      <td>1.0</td>\n",
       "      <td>0.0</td>\n",
       "      <td>1.0</td>\n",
       "      <td>27.0</td>\n",
       "      <td>0.0</td>\n",
       "      <td>1.0</td>\n",
       "      <td>1.0</td>\n",
       "      <td>1.0</td>\n",
       "      <td>0.0</td>\n",
       "      <td>1.0</td>\n",
       "      <td>0.0</td>\n",
       "      <td>2.0</td>\n",
       "      <td>0.0</td>\n",
       "      <td>0.0</td>\n",
       "      <td>0.0</td>\n",
       "      <td>0.0</td>\n",
       "      <td>11.0</td>\n",
       "      <td>3.0</td>\n",
       "      <td>6.0</td>\n",
       "    </tr>\n",
       "    <tr>\n",
       "      <th>6</th>\n",
       "      <td>0.0</td>\n",
       "      <td>0.0</td>\n",
       "      <td>0.0</td>\n",
       "      <td>0.0</td>\n",
       "      <td>0.0</td>\n",
       "      <td>1.0</td>\n",
       "      <td>1.0</td>\n",
       "      <td>1.0</td>\n",
       "      <td>24.0</td>\n",
       "      <td>0.0</td>\n",
       "      <td>1.0</td>\n",
       "      <td>1.0</td>\n",
       "      <td>1.0</td>\n",
       "      <td>0.0</td>\n",
       "      <td>1.0</td>\n",
       "      <td>0.0</td>\n",
       "      <td>2.0</td>\n",
       "      <td>3.0</td>\n",
       "      <td>0.0</td>\n",
       "      <td>0.0</td>\n",
       "      <td>0.0</td>\n",
       "      <td>11.0</td>\n",
       "      <td>5.0</td>\n",
       "      <td>4.0</td>\n",
       "    </tr>\n",
       "  </tbody>\n",
       "</table>\n",
       "</div>\n",
       "      <button class=\"colab-df-convert\" onclick=\"convertToInteractive('df-1dd2cd50-3c58-465d-b2ac-0935b17cfc4d')\"\n",
       "              title=\"Convert this dataframe to an interactive table.\"\n",
       "              style=\"display:none;\">\n",
       "        \n",
       "  <svg xmlns=\"http://www.w3.org/2000/svg\" height=\"24px\"viewBox=\"0 0 24 24\"\n",
       "       width=\"24px\">\n",
       "    <path d=\"M0 0h24v24H0V0z\" fill=\"none\"/>\n",
       "    <path d=\"M18.56 5.44l.94 2.06.94-2.06 2.06-.94-2.06-.94-.94-2.06-.94 2.06-2.06.94zm-11 1L8.5 8.5l.94-2.06 2.06-.94-2.06-.94L8.5 2.5l-.94 2.06-2.06.94zm10 10l.94 2.06.94-2.06 2.06-.94-2.06-.94-.94-2.06-.94 2.06-2.06.94z\"/><path d=\"M17.41 7.96l-1.37-1.37c-.4-.4-.92-.59-1.43-.59-.52 0-1.04.2-1.43.59L10.3 9.45l-7.72 7.72c-.78.78-.78 2.05 0 2.83L4 21.41c.39.39.9.59 1.41.59.51 0 1.02-.2 1.41-.59l7.78-7.78 2.81-2.81c.8-.78.8-2.07 0-2.86zM5.41 20L4 18.59l7.72-7.72 1.47 1.35L5.41 20z\"/>\n",
       "  </svg>\n",
       "      </button>\n",
       "      \n",
       "  <style>\n",
       "    .colab-df-container {\n",
       "      display:flex;\n",
       "      flex-wrap:wrap;\n",
       "      gap: 12px;\n",
       "    }\n",
       "\n",
       "    .colab-df-convert {\n",
       "      background-color: #E8F0FE;\n",
       "      border: none;\n",
       "      border-radius: 50%;\n",
       "      cursor: pointer;\n",
       "      display: none;\n",
       "      fill: #1967D2;\n",
       "      height: 32px;\n",
       "      padding: 0 0 0 0;\n",
       "      width: 32px;\n",
       "    }\n",
       "\n",
       "    .colab-df-convert:hover {\n",
       "      background-color: #E2EBFA;\n",
       "      box-shadow: 0px 1px 2px rgba(60, 64, 67, 0.3), 0px 1px 3px 1px rgba(60, 64, 67, 0.15);\n",
       "      fill: #174EA6;\n",
       "    }\n",
       "\n",
       "    [theme=dark] .colab-df-convert {\n",
       "      background-color: #3B4455;\n",
       "      fill: #D2E3FC;\n",
       "    }\n",
       "\n",
       "    [theme=dark] .colab-df-convert:hover {\n",
       "      background-color: #434B5C;\n",
       "      box-shadow: 0px 1px 3px 1px rgba(0, 0, 0, 0.15);\n",
       "      filter: drop-shadow(0px 1px 2px rgba(0, 0, 0, 0.3));\n",
       "      fill: #FFFFFF;\n",
       "    }\n",
       "  </style>\n",
       "\n",
       "      <script>\n",
       "        const buttonEl =\n",
       "          document.querySelector('#df-1dd2cd50-3c58-465d-b2ac-0935b17cfc4d button.colab-df-convert');\n",
       "        buttonEl.style.display =\n",
       "          google.colab.kernel.accessAllowed ? 'block' : 'none';\n",
       "\n",
       "        async function convertToInteractive(key) {\n",
       "          const element = document.querySelector('#df-1dd2cd50-3c58-465d-b2ac-0935b17cfc4d');\n",
       "          const dataTable =\n",
       "            await google.colab.kernel.invokeFunction('convertToInteractive',\n",
       "                                                     [key], {});\n",
       "          if (!dataTable) return;\n",
       "\n",
       "          const docLinkHtml = 'Like what you see? Visit the ' +\n",
       "            '<a target=\"_blank\" href=https://colab.research.google.com/notebooks/data_table.ipynb>data table notebook</a>'\n",
       "            + ' to learn more about interactive tables.';\n",
       "          element.innerHTML = '';\n",
       "          dataTable['output_type'] = 'display_data';\n",
       "          await google.colab.output.renderOutput(dataTable, element);\n",
       "          const docLink = document.createElement('div');\n",
       "          docLink.innerHTML = docLinkHtml;\n",
       "          element.appendChild(docLink);\n",
       "        }\n",
       "      </script>\n",
       "    </div>\n",
       "  </div>\n",
       "  "
      ],
      "text/plain": [
       "   DIABETE3  CVDINFR4  CVDCRHD4  CVDSTRK3  CHCKIDNY  _RFHYPE5  TOLDHI2  \\\n",
       "0       0.0       0.0       0.0       0.0       0.0       1.0      1.0   \n",
       "1       0.0       0.0       0.0       0.0       0.0       0.0      0.0   \n",
       "3       0.0       0.0       0.0       0.0       0.0       1.0      1.0   \n",
       "5       0.0       0.0       0.0       0.0       0.0       1.0      0.0   \n",
       "6       0.0       0.0       0.0       0.0       0.0       1.0      1.0   \n",
       "\n",
       "   _CHOLCHK  _BMI5  SMOKE100  _TOTINDA  _FRTLT1  _VEGLT1  _RFDRHV5  HLTHPLN1  \\\n",
       "0       1.0   40.0       1.0       0.0      0.0      1.0       0.0       1.0   \n",
       "1       0.0   25.0       1.0       1.0      0.0      0.0       0.0       0.0   \n",
       "3       1.0   28.0       0.0       0.0      1.0      0.0       0.0       1.0   \n",
       "5       1.0   27.0       0.0       1.0      1.0      1.0       0.0       1.0   \n",
       "6       1.0   24.0       0.0       1.0      1.0      1.0       0.0       1.0   \n",
       "\n",
       "   MEDCOST  GENHLTH  MENTHLTH  PHYSHLTH  DIFFWALK  SEX  _AGEG5YR  EDUCA  \\\n",
       "0      0.0      5.0      18.0      15.0       1.0  0.0       9.0    4.0   \n",
       "1      1.0      3.0       0.0       0.0       0.0  0.0       7.0    6.0   \n",
       "3      1.0      5.0      30.0      30.0       1.0  0.0       9.0    4.0   \n",
       "5      0.0      2.0       0.0       0.0       0.0  0.0      11.0    3.0   \n",
       "6      0.0      2.0       3.0       0.0       0.0  0.0      11.0    5.0   \n",
       "\n",
       "   INCOME2  \n",
       "0      3.0  \n",
       "1      1.0  \n",
       "3      8.0  \n",
       "5      6.0  \n",
       "6      4.0  "
      ]
     },
     "execution_count": 34,
     "metadata": {},
     "output_type": "execute_result"
    }
   ],
   "source": [
    "brfss_df_selected.head()"
   ]
  },
  {
   "cell_type": "code",
   "execution_count": null,
   "metadata": {
    "colab": {
     "base_uri": "https://localhost:8080/"
    },
    "id": "t5UFwS93UxCZ",
    "outputId": "395e5639-601c-48e5-930e-ee317cb8fd09"
   },
   "outputs": [
    {
     "data": {
      "text/plain": [
       "DIABETE3\n",
       "0.0    2151\n",
       "1.0      49\n",
       "2.0     574\n",
       "dtype: int64"
      ]
     },
     "execution_count": 35,
     "metadata": {},
     "output_type": "execute_result"
    }
   ],
   "source": [
    "#Check Class Sizes of the diabetes column\n",
    "#will need to use SMOTE for balance of the data set. Also to remove type 1 diabetes\n",
    "brfss_df_selected.groupby(['DIABETE3']).size()"
   ]
  },
  {
   "cell_type": "code",
   "execution_count": null,
   "metadata": {
    "id": "QSiGxga5UyXu"
   },
   "outputs": [],
   "source": [
    "#Rename the columns\n",
    "brfss = brfss_df_selected.rename(columns = {'DIABETE3':'Diabetes_012',\n",
    "                                         'CVDINFR4':'HeartAttack',\n",
    "                                         'CVDCRHD4':'CoronaryHeartDisease',\n",
    "                                         'CHCKIDNY':'KidneyDisease',\n",
    "                                         '_RFHYPE5':'HighBP',  \n",
    "                                         'TOLDHI2':'HighChol', '_CHOLCHK':'CholCheck', \n",
    "                                         '_BMI5':'BMI', \n",
    "                                         'SMOKE100':'Smoker', \n",
    "                                         'CVDSTRK3':'Stroke', \n",
    "                                         '_TOTINDA':'PhysActivity', \n",
    "                                         '_FRTLT1':'Fruits', '_VEGLT1':\"Veggies\", \n",
    "                                         '_RFDRHV5':'HvyAlcoholConsump', \n",
    "                                         'HLTHPLN1':'AnyHealthcare', 'MEDCOST':'NoDocbcCost', \n",
    "                                         'GENHLTH':'GenHlth', 'MENTHLTH':'MentHlth', 'PHYSHLTH':'PhysHlth', 'DIFFWALK':'DiffWalk', \n",
    "                                         'SEX':'Sex', '_AGEG5YR':'Age', 'EDUCA':'Education', 'INCOME2':'Income' })"
   ]
  },
  {
   "cell_type": "code",
   "execution_count": null,
   "metadata": {
    "colab": {
     "base_uri": "https://localhost:8080/",
     "height": 270
    },
    "id": "tagQSo_ZU0ga",
    "outputId": "7b500d05-e40e-4229-a3f0-1c0670de9a62"
   },
   "outputs": [
    {
     "data": {
      "text/html": [
       "\n",
       "  <div id=\"df-fa08f879-f65f-4c4d-bab2-77b847a59b35\">\n",
       "    <div class=\"colab-df-container\">\n",
       "      <div>\n",
       "<style scoped>\n",
       "    .dataframe tbody tr th:only-of-type {\n",
       "        vertical-align: middle;\n",
       "    }\n",
       "\n",
       "    .dataframe tbody tr th {\n",
       "        vertical-align: top;\n",
       "    }\n",
       "\n",
       "    .dataframe thead th {\n",
       "        text-align: right;\n",
       "    }\n",
       "</style>\n",
       "<table border=\"1\" class=\"dataframe\">\n",
       "  <thead>\n",
       "    <tr style=\"text-align: right;\">\n",
       "      <th></th>\n",
       "      <th>Diabetes_012</th>\n",
       "      <th>HeartAttack</th>\n",
       "      <th>CoronaryHeartDisease</th>\n",
       "      <th>Stroke</th>\n",
       "      <th>KidneyDisease</th>\n",
       "      <th>HighBP</th>\n",
       "      <th>HighChol</th>\n",
       "      <th>CholCheck</th>\n",
       "      <th>BMI</th>\n",
       "      <th>Smoker</th>\n",
       "      <th>PhysActivity</th>\n",
       "      <th>Fruits</th>\n",
       "      <th>Veggies</th>\n",
       "      <th>HvyAlcoholConsump</th>\n",
       "      <th>AnyHealthcare</th>\n",
       "      <th>NoDocbcCost</th>\n",
       "      <th>GenHlth</th>\n",
       "      <th>MentHlth</th>\n",
       "      <th>PhysHlth</th>\n",
       "      <th>DiffWalk</th>\n",
       "      <th>Sex</th>\n",
       "      <th>Age</th>\n",
       "      <th>Education</th>\n",
       "      <th>Income</th>\n",
       "    </tr>\n",
       "  </thead>\n",
       "  <tbody>\n",
       "    <tr>\n",
       "      <th>0</th>\n",
       "      <td>0.0</td>\n",
       "      <td>0.0</td>\n",
       "      <td>0.0</td>\n",
       "      <td>0.0</td>\n",
       "      <td>0.0</td>\n",
       "      <td>1.0</td>\n",
       "      <td>1.0</td>\n",
       "      <td>1.0</td>\n",
       "      <td>40.0</td>\n",
       "      <td>1.0</td>\n",
       "      <td>0.0</td>\n",
       "      <td>0.0</td>\n",
       "      <td>1.0</td>\n",
       "      <td>0.0</td>\n",
       "      <td>1.0</td>\n",
       "      <td>0.0</td>\n",
       "      <td>5.0</td>\n",
       "      <td>18.0</td>\n",
       "      <td>15.0</td>\n",
       "      <td>1.0</td>\n",
       "      <td>0.0</td>\n",
       "      <td>9.0</td>\n",
       "      <td>4.0</td>\n",
       "      <td>3.0</td>\n",
       "    </tr>\n",
       "    <tr>\n",
       "      <th>1</th>\n",
       "      <td>0.0</td>\n",
       "      <td>0.0</td>\n",
       "      <td>0.0</td>\n",
       "      <td>0.0</td>\n",
       "      <td>0.0</td>\n",
       "      <td>0.0</td>\n",
       "      <td>0.0</td>\n",
       "      <td>0.0</td>\n",
       "      <td>25.0</td>\n",
       "      <td>1.0</td>\n",
       "      <td>1.0</td>\n",
       "      <td>0.0</td>\n",
       "      <td>0.0</td>\n",
       "      <td>0.0</td>\n",
       "      <td>0.0</td>\n",
       "      <td>1.0</td>\n",
       "      <td>3.0</td>\n",
       "      <td>0.0</td>\n",
       "      <td>0.0</td>\n",
       "      <td>0.0</td>\n",
       "      <td>0.0</td>\n",
       "      <td>7.0</td>\n",
       "      <td>6.0</td>\n",
       "      <td>1.0</td>\n",
       "    </tr>\n",
       "    <tr>\n",
       "      <th>3</th>\n",
       "      <td>0.0</td>\n",
       "      <td>0.0</td>\n",
       "      <td>0.0</td>\n",
       "      <td>0.0</td>\n",
       "      <td>0.0</td>\n",
       "      <td>1.0</td>\n",
       "      <td>1.0</td>\n",
       "      <td>1.0</td>\n",
       "      <td>28.0</td>\n",
       "      <td>0.0</td>\n",
       "      <td>0.0</td>\n",
       "      <td>1.0</td>\n",
       "      <td>0.0</td>\n",
       "      <td>0.0</td>\n",
       "      <td>1.0</td>\n",
       "      <td>1.0</td>\n",
       "      <td>5.0</td>\n",
       "      <td>30.0</td>\n",
       "      <td>30.0</td>\n",
       "      <td>1.0</td>\n",
       "      <td>0.0</td>\n",
       "      <td>9.0</td>\n",
       "      <td>4.0</td>\n",
       "      <td>8.0</td>\n",
       "    </tr>\n",
       "    <tr>\n",
       "      <th>5</th>\n",
       "      <td>0.0</td>\n",
       "      <td>0.0</td>\n",
       "      <td>0.0</td>\n",
       "      <td>0.0</td>\n",
       "      <td>0.0</td>\n",
       "      <td>1.0</td>\n",
       "      <td>0.0</td>\n",
       "      <td>1.0</td>\n",
       "      <td>27.0</td>\n",
       "      <td>0.0</td>\n",
       "      <td>1.0</td>\n",
       "      <td>1.0</td>\n",
       "      <td>1.0</td>\n",
       "      <td>0.0</td>\n",
       "      <td>1.0</td>\n",
       "      <td>0.0</td>\n",
       "      <td>2.0</td>\n",
       "      <td>0.0</td>\n",
       "      <td>0.0</td>\n",
       "      <td>0.0</td>\n",
       "      <td>0.0</td>\n",
       "      <td>11.0</td>\n",
       "      <td>3.0</td>\n",
       "      <td>6.0</td>\n",
       "    </tr>\n",
       "    <tr>\n",
       "      <th>6</th>\n",
       "      <td>0.0</td>\n",
       "      <td>0.0</td>\n",
       "      <td>0.0</td>\n",
       "      <td>0.0</td>\n",
       "      <td>0.0</td>\n",
       "      <td>1.0</td>\n",
       "      <td>1.0</td>\n",
       "      <td>1.0</td>\n",
       "      <td>24.0</td>\n",
       "      <td>0.0</td>\n",
       "      <td>1.0</td>\n",
       "      <td>1.0</td>\n",
       "      <td>1.0</td>\n",
       "      <td>0.0</td>\n",
       "      <td>1.0</td>\n",
       "      <td>0.0</td>\n",
       "      <td>2.0</td>\n",
       "      <td>3.0</td>\n",
       "      <td>0.0</td>\n",
       "      <td>0.0</td>\n",
       "      <td>0.0</td>\n",
       "      <td>11.0</td>\n",
       "      <td>5.0</td>\n",
       "      <td>4.0</td>\n",
       "    </tr>\n",
       "  </tbody>\n",
       "</table>\n",
       "</div>\n",
       "      <button class=\"colab-df-convert\" onclick=\"convertToInteractive('df-fa08f879-f65f-4c4d-bab2-77b847a59b35')\"\n",
       "              title=\"Convert this dataframe to an interactive table.\"\n",
       "              style=\"display:none;\">\n",
       "        \n",
       "  <svg xmlns=\"http://www.w3.org/2000/svg\" height=\"24px\"viewBox=\"0 0 24 24\"\n",
       "       width=\"24px\">\n",
       "    <path d=\"M0 0h24v24H0V0z\" fill=\"none\"/>\n",
       "    <path d=\"M18.56 5.44l.94 2.06.94-2.06 2.06-.94-2.06-.94-.94-2.06-.94 2.06-2.06.94zm-11 1L8.5 8.5l.94-2.06 2.06-.94-2.06-.94L8.5 2.5l-.94 2.06-2.06.94zm10 10l.94 2.06.94-2.06 2.06-.94-2.06-.94-.94-2.06-.94 2.06-2.06.94z\"/><path d=\"M17.41 7.96l-1.37-1.37c-.4-.4-.92-.59-1.43-.59-.52 0-1.04.2-1.43.59L10.3 9.45l-7.72 7.72c-.78.78-.78 2.05 0 2.83L4 21.41c.39.39.9.59 1.41.59.51 0 1.02-.2 1.41-.59l7.78-7.78 2.81-2.81c.8-.78.8-2.07 0-2.86zM5.41 20L4 18.59l7.72-7.72 1.47 1.35L5.41 20z\"/>\n",
       "  </svg>\n",
       "      </button>\n",
       "      \n",
       "  <style>\n",
       "    .colab-df-container {\n",
       "      display:flex;\n",
       "      flex-wrap:wrap;\n",
       "      gap: 12px;\n",
       "    }\n",
       "\n",
       "    .colab-df-convert {\n",
       "      background-color: #E8F0FE;\n",
       "      border: none;\n",
       "      border-radius: 50%;\n",
       "      cursor: pointer;\n",
       "      display: none;\n",
       "      fill: #1967D2;\n",
       "      height: 32px;\n",
       "      padding: 0 0 0 0;\n",
       "      width: 32px;\n",
       "    }\n",
       "\n",
       "    .colab-df-convert:hover {\n",
       "      background-color: #E2EBFA;\n",
       "      box-shadow: 0px 1px 2px rgba(60, 64, 67, 0.3), 0px 1px 3px 1px rgba(60, 64, 67, 0.15);\n",
       "      fill: #174EA6;\n",
       "    }\n",
       "\n",
       "    [theme=dark] .colab-df-convert {\n",
       "      background-color: #3B4455;\n",
       "      fill: #D2E3FC;\n",
       "    }\n",
       "\n",
       "    [theme=dark] .colab-df-convert:hover {\n",
       "      background-color: #434B5C;\n",
       "      box-shadow: 0px 1px 3px 1px rgba(0, 0, 0, 0.15);\n",
       "      filter: drop-shadow(0px 1px 2px rgba(0, 0, 0, 0.3));\n",
       "      fill: #FFFFFF;\n",
       "    }\n",
       "  </style>\n",
       "\n",
       "      <script>\n",
       "        const buttonEl =\n",
       "          document.querySelector('#df-fa08f879-f65f-4c4d-bab2-77b847a59b35 button.colab-df-convert');\n",
       "        buttonEl.style.display =\n",
       "          google.colab.kernel.accessAllowed ? 'block' : 'none';\n",
       "\n",
       "        async function convertToInteractive(key) {\n",
       "          const element = document.querySelector('#df-fa08f879-f65f-4c4d-bab2-77b847a59b35');\n",
       "          const dataTable =\n",
       "            await google.colab.kernel.invokeFunction('convertToInteractive',\n",
       "                                                     [key], {});\n",
       "          if (!dataTable) return;\n",
       "\n",
       "          const docLinkHtml = 'Like what you see? Visit the ' +\n",
       "            '<a target=\"_blank\" href=https://colab.research.google.com/notebooks/data_table.ipynb>data table notebook</a>'\n",
       "            + ' to learn more about interactive tables.';\n",
       "          element.innerHTML = '';\n",
       "          dataTable['output_type'] = 'display_data';\n",
       "          await google.colab.output.renderOutput(dataTable, element);\n",
       "          const docLink = document.createElement('div');\n",
       "          docLink.innerHTML = docLinkHtml;\n",
       "          element.appendChild(docLink);\n",
       "        }\n",
       "      </script>\n",
       "    </div>\n",
       "  </div>\n",
       "  "
      ],
      "text/plain": [
       "   Diabetes_012  HeartAttack  CoronaryHeartDisease  Stroke  KidneyDisease  \\\n",
       "0           0.0          0.0                   0.0     0.0            0.0   \n",
       "1           0.0          0.0                   0.0     0.0            0.0   \n",
       "3           0.0          0.0                   0.0     0.0            0.0   \n",
       "5           0.0          0.0                   0.0     0.0            0.0   \n",
       "6           0.0          0.0                   0.0     0.0            0.0   \n",
       "\n",
       "   HighBP  HighChol  CholCheck   BMI  Smoker  PhysActivity  Fruits  Veggies  \\\n",
       "0     1.0       1.0        1.0  40.0     1.0           0.0     0.0      1.0   \n",
       "1     0.0       0.0        0.0  25.0     1.0           1.0     0.0      0.0   \n",
       "3     1.0       1.0        1.0  28.0     0.0           0.0     1.0      0.0   \n",
       "5     1.0       0.0        1.0  27.0     0.0           1.0     1.0      1.0   \n",
       "6     1.0       1.0        1.0  24.0     0.0           1.0     1.0      1.0   \n",
       "\n",
       "   HvyAlcoholConsump  AnyHealthcare  NoDocbcCost  GenHlth  MentHlth  PhysHlth  \\\n",
       "0                0.0            1.0          0.0      5.0      18.0      15.0   \n",
       "1                0.0            0.0          1.0      3.0       0.0       0.0   \n",
       "3                0.0            1.0          1.0      5.0      30.0      30.0   \n",
       "5                0.0            1.0          0.0      2.0       0.0       0.0   \n",
       "6                0.0            1.0          0.0      2.0       3.0       0.0   \n",
       "\n",
       "   DiffWalk  Sex   Age  Education  Income  \n",
       "0       1.0  0.0   9.0        4.0     3.0  \n",
       "1       0.0  0.0   7.0        6.0     1.0  \n",
       "3       1.0  0.0   9.0        4.0     8.0  \n",
       "5       0.0  0.0  11.0        3.0     6.0  \n",
       "6       0.0  0.0  11.0        5.0     4.0  "
      ]
     },
     "execution_count": 37,
     "metadata": {},
     "output_type": "execute_result"
    }
   ],
   "source": [
    "brfss.head()"
   ]
  },
  {
   "cell_type": "code",
   "execution_count": null,
   "metadata": {
    "colab": {
     "base_uri": "https://localhost:8080/"
    },
    "id": "ftfl4saAU2Ka",
    "outputId": "a83b0f53-97f7-424d-bd59-4cf16a49ba70"
   },
   "outputs": [
    {
     "data": {
      "text/plain": [
       "(2774, 24)"
      ]
     },
     "execution_count": 38,
     "metadata": {},
     "output_type": "execute_result"
    }
   ],
   "source": [
    "brfss.shape"
   ]
  },
  {
   "cell_type": "markdown",
   "metadata": {
    "id": "M33HQAwqU7U2"
   },
   "source": [
    "# **5. Create Binary Dataset for diabetes vs. no diabetes**\n",
    "If we want to do binary classification of diabtes vs no diabetes that can be accomplished by either joining the prediabetics with the diabetics, with the non-diabetics, or removing them entirely.\n",
    "\n",
    "We can start by adding them to the diabetic group, as being told by a doctor you are prediabetic is an indication of diabetes risk and ultimately we are interested in risk.\n",
    "\n",
    "We need to also use SMOTE to help with the class imbalance\n",
    "\n",
    "Note that because it is a survey it is always possible (actually likely) that some individuals will not have been diagnosed yet but are either pre-diabetic or diabetic."
   ]
  },
  {
   "cell_type": "code",
   "execution_count": null,
   "metadata": {
    "colab": {
     "base_uri": "https://localhost:8080/"
    },
    "id": "LqQM4wWmU4Yp",
    "outputId": "c7a3fac4-732a-429d-e34f-8cfae8a59251"
   },
   "outputs": [
    {
     "data": {
      "text/plain": [
       "array([0., 1.])"
      ]
     },
     "execution_count": 39,
     "metadata": {},
     "output_type": "execute_result"
    }
   ],
   "source": [
    "brfss_binary = brfss\n",
    "#Change the diabetics 2 to a 1 and pre-diabetics 1 to a 0, so 0 means non-diabetic and pre-diabetic and 1 means diabetic\n",
    "brfss_binary['Diabetes_012'] = brfss_binary['Diabetes_012'].replace({1:0})\n",
    "brfss_binary['Diabetes_012'] = brfss_binary['Diabetes_012'].replace({2:1})\n",
    "\n",
    "brfss_binary = brfss_binary.rename(columns = {'Diabetes_012': 'Diabetes_binary'})\n",
    "brfss_binary.Diabetes_binary.unique()"
   ]
  },
  {
   "cell_type": "code",
   "execution_count": null,
   "metadata": {
    "colab": {
     "base_uri": "https://localhost:8080/"
    },
    "id": "Kcd9YfL5VBXC",
    "outputId": "8604ce56-0204-4b05-efb6-cb75ab95bf22"
   },
   "outputs": [
    {
     "data": {
      "text/html": [
       "\n",
       "  <div id=\"df-6070e287-d8ec-41e1-a90a-e0bf04c0fd57\">\n",
       "    <div class=\"colab-df-container\">\n",
       "      <div>\n",
       "<style scoped>\n",
       "    .dataframe tbody tr th:only-of-type {\n",
       "        vertical-align: middle;\n",
       "    }\n",
       "\n",
       "    .dataframe tbody tr th {\n",
       "        vertical-align: top;\n",
       "    }\n",
       "\n",
       "    .dataframe thead th {\n",
       "        text-align: right;\n",
       "    }\n",
       "</style>\n",
       "<table border=\"1\" class=\"dataframe\">\n",
       "  <thead>\n",
       "    <tr style=\"text-align: right;\">\n",
       "      <th></th>\n",
       "      <th>Diabetes_binary</th>\n",
       "      <th>HeartAttack</th>\n",
       "      <th>CoronaryHeartDisease</th>\n",
       "      <th>Stroke</th>\n",
       "      <th>KidneyDisease</th>\n",
       "      <th>HighBP</th>\n",
       "      <th>HighChol</th>\n",
       "      <th>CholCheck</th>\n",
       "      <th>BMI</th>\n",
       "      <th>Smoker</th>\n",
       "      <th>PhysActivity</th>\n",
       "      <th>Fruits</th>\n",
       "      <th>Veggies</th>\n",
       "      <th>HvyAlcoholConsump</th>\n",
       "      <th>AnyHealthcare</th>\n",
       "      <th>NoDocbcCost</th>\n",
       "      <th>GenHlth</th>\n",
       "      <th>MentHlth</th>\n",
       "      <th>PhysHlth</th>\n",
       "      <th>DiffWalk</th>\n",
       "      <th>Sex</th>\n",
       "      <th>Age</th>\n",
       "      <th>Education</th>\n",
       "      <th>Income</th>\n",
       "    </tr>\n",
       "  </thead>\n",
       "  <tbody>\n",
       "    <tr>\n",
       "      <th>0</th>\n",
       "      <td>0.0</td>\n",
       "      <td>0.0</td>\n",
       "      <td>0.0</td>\n",
       "      <td>0.0</td>\n",
       "      <td>0.0</td>\n",
       "      <td>1.0</td>\n",
       "      <td>1.0</td>\n",
       "      <td>1.0</td>\n",
       "      <td>40.0</td>\n",
       "      <td>1.0</td>\n",
       "      <td>0.0</td>\n",
       "      <td>0.0</td>\n",
       "      <td>1.0</td>\n",
       "      <td>0.0</td>\n",
       "      <td>1.0</td>\n",
       "      <td>0.0</td>\n",
       "      <td>5.0</td>\n",
       "      <td>18.0</td>\n",
       "      <td>15.0</td>\n",
       "      <td>1.0</td>\n",
       "      <td>0.0</td>\n",
       "      <td>9.0</td>\n",
       "      <td>4.0</td>\n",
       "      <td>3.0</td>\n",
       "    </tr>\n",
       "    <tr>\n",
       "      <th>1</th>\n",
       "      <td>0.0</td>\n",
       "      <td>0.0</td>\n",
       "      <td>0.0</td>\n",
       "      <td>0.0</td>\n",
       "      <td>0.0</td>\n",
       "      <td>0.0</td>\n",
       "      <td>0.0</td>\n",
       "      <td>0.0</td>\n",
       "      <td>25.0</td>\n",
       "      <td>1.0</td>\n",
       "      <td>1.0</td>\n",
       "      <td>0.0</td>\n",
       "      <td>0.0</td>\n",
       "      <td>0.0</td>\n",
       "      <td>0.0</td>\n",
       "      <td>1.0</td>\n",
       "      <td>3.0</td>\n",
       "      <td>0.0</td>\n",
       "      <td>0.0</td>\n",
       "      <td>0.0</td>\n",
       "      <td>0.0</td>\n",
       "      <td>7.0</td>\n",
       "      <td>6.0</td>\n",
       "      <td>1.0</td>\n",
       "    </tr>\n",
       "    <tr>\n",
       "      <th>3</th>\n",
       "      <td>0.0</td>\n",
       "      <td>0.0</td>\n",
       "      <td>0.0</td>\n",
       "      <td>0.0</td>\n",
       "      <td>0.0</td>\n",
       "      <td>1.0</td>\n",
       "      <td>1.0</td>\n",
       "      <td>1.0</td>\n",
       "      <td>28.0</td>\n",
       "      <td>0.0</td>\n",
       "      <td>0.0</td>\n",
       "      <td>1.0</td>\n",
       "      <td>0.0</td>\n",
       "      <td>0.0</td>\n",
       "      <td>1.0</td>\n",
       "      <td>1.0</td>\n",
       "      <td>5.0</td>\n",
       "      <td>30.0</td>\n",
       "      <td>30.0</td>\n",
       "      <td>1.0</td>\n",
       "      <td>0.0</td>\n",
       "      <td>9.0</td>\n",
       "      <td>4.0</td>\n",
       "      <td>8.0</td>\n",
       "    </tr>\n",
       "    <tr>\n",
       "      <th>5</th>\n",
       "      <td>0.0</td>\n",
       "      <td>0.0</td>\n",
       "      <td>0.0</td>\n",
       "      <td>0.0</td>\n",
       "      <td>0.0</td>\n",
       "      <td>1.0</td>\n",
       "      <td>0.0</td>\n",
       "      <td>1.0</td>\n",
       "      <td>27.0</td>\n",
       "      <td>0.0</td>\n",
       "      <td>1.0</td>\n",
       "      <td>1.0</td>\n",
       "      <td>1.0</td>\n",
       "      <td>0.0</td>\n",
       "      <td>1.0</td>\n",
       "      <td>0.0</td>\n",
       "      <td>2.0</td>\n",
       "      <td>0.0</td>\n",
       "      <td>0.0</td>\n",
       "      <td>0.0</td>\n",
       "      <td>0.0</td>\n",
       "      <td>11.0</td>\n",
       "      <td>3.0</td>\n",
       "      <td>6.0</td>\n",
       "    </tr>\n",
       "    <tr>\n",
       "      <th>6</th>\n",
       "      <td>0.0</td>\n",
       "      <td>0.0</td>\n",
       "      <td>0.0</td>\n",
       "      <td>0.0</td>\n",
       "      <td>0.0</td>\n",
       "      <td>1.0</td>\n",
       "      <td>1.0</td>\n",
       "      <td>1.0</td>\n",
       "      <td>24.0</td>\n",
       "      <td>0.0</td>\n",
       "      <td>1.0</td>\n",
       "      <td>1.0</td>\n",
       "      <td>1.0</td>\n",
       "      <td>0.0</td>\n",
       "      <td>1.0</td>\n",
       "      <td>0.0</td>\n",
       "      <td>2.0</td>\n",
       "      <td>3.0</td>\n",
       "      <td>0.0</td>\n",
       "      <td>0.0</td>\n",
       "      <td>0.0</td>\n",
       "      <td>11.0</td>\n",
       "      <td>5.0</td>\n",
       "      <td>4.0</td>\n",
       "    </tr>\n",
       "  </tbody>\n",
       "</table>\n",
       "</div>\n",
       "      <button class=\"colab-df-convert\" onclick=\"convertToInteractive('df-6070e287-d8ec-41e1-a90a-e0bf04c0fd57')\"\n",
       "              title=\"Convert this dataframe to an interactive table.\"\n",
       "              style=\"display:none;\">\n",
       "        \n",
       "  <svg xmlns=\"http://www.w3.org/2000/svg\" height=\"24px\"viewBox=\"0 0 24 24\"\n",
       "       width=\"24px\">\n",
       "    <path d=\"M0 0h24v24H0V0z\" fill=\"none\"/>\n",
       "    <path d=\"M18.56 5.44l.94 2.06.94-2.06 2.06-.94-2.06-.94-.94-2.06-.94 2.06-2.06.94zm-11 1L8.5 8.5l.94-2.06 2.06-.94-2.06-.94L8.5 2.5l-.94 2.06-2.06.94zm10 10l.94 2.06.94-2.06 2.06-.94-2.06-.94-.94-2.06-.94 2.06-2.06.94z\"/><path d=\"M17.41 7.96l-1.37-1.37c-.4-.4-.92-.59-1.43-.59-.52 0-1.04.2-1.43.59L10.3 9.45l-7.72 7.72c-.78.78-.78 2.05 0 2.83L4 21.41c.39.39.9.59 1.41.59.51 0 1.02-.2 1.41-.59l7.78-7.78 2.81-2.81c.8-.78.8-2.07 0-2.86zM5.41 20L4 18.59l7.72-7.72 1.47 1.35L5.41 20z\"/>\n",
       "  </svg>\n",
       "      </button>\n",
       "      \n",
       "  <style>\n",
       "    .colab-df-container {\n",
       "      display:flex;\n",
       "      flex-wrap:wrap;\n",
       "      gap: 12px;\n",
       "    }\n",
       "\n",
       "    .colab-df-convert {\n",
       "      background-color: #E8F0FE;\n",
       "      border: none;\n",
       "      border-radius: 50%;\n",
       "      cursor: pointer;\n",
       "      display: none;\n",
       "      fill: #1967D2;\n",
       "      height: 32px;\n",
       "      padding: 0 0 0 0;\n",
       "      width: 32px;\n",
       "    }\n",
       "\n",
       "    .colab-df-convert:hover {\n",
       "      background-color: #E2EBFA;\n",
       "      box-shadow: 0px 1px 2px rgba(60, 64, 67, 0.3), 0px 1px 3px 1px rgba(60, 64, 67, 0.15);\n",
       "      fill: #174EA6;\n",
       "    }\n",
       "\n",
       "    [theme=dark] .colab-df-convert {\n",
       "      background-color: #3B4455;\n",
       "      fill: #D2E3FC;\n",
       "    }\n",
       "\n",
       "    [theme=dark] .colab-df-convert:hover {\n",
       "      background-color: #434B5C;\n",
       "      box-shadow: 0px 1px 3px 1px rgba(0, 0, 0, 0.15);\n",
       "      filter: drop-shadow(0px 1px 2px rgba(0, 0, 0, 0.3));\n",
       "      fill: #FFFFFF;\n",
       "    }\n",
       "  </style>\n",
       "\n",
       "      <script>\n",
       "        const buttonEl =\n",
       "          document.querySelector('#df-6070e287-d8ec-41e1-a90a-e0bf04c0fd57 button.colab-df-convert');\n",
       "        buttonEl.style.display =\n",
       "          google.colab.kernel.accessAllowed ? 'block' : 'none';\n",
       "\n",
       "        async function convertToInteractive(key) {\n",
       "          const element = document.querySelector('#df-6070e287-d8ec-41e1-a90a-e0bf04c0fd57');\n",
       "          const dataTable =\n",
       "            await google.colab.kernel.invokeFunction('convertToInteractive',\n",
       "                                                     [key], {});\n",
       "          if (!dataTable) return;\n",
       "\n",
       "          const docLinkHtml = 'Like what you see? Visit the ' +\n",
       "            '<a target=\"_blank\" href=https://colab.research.google.com/notebooks/data_table.ipynb>data table notebook</a>'\n",
       "            + ' to learn more about interactive tables.';\n",
       "          element.innerHTML = '';\n",
       "          dataTable['output_type'] = 'display_data';\n",
       "          await google.colab.output.renderOutput(dataTable, element);\n",
       "          const docLink = document.createElement('div');\n",
       "          docLink.innerHTML = docLinkHtml;\n",
       "          element.appendChild(docLink);\n",
       "        }\n",
       "      </script>\n",
       "    </div>\n",
       "  </div>\n",
       "  "
      ],
      "text/plain": [
       "   Diabetes_binary  HeartAttack  CoronaryHeartDisease  Stroke  KidneyDisease  \\\n",
       "0              0.0          0.0                   0.0     0.0            0.0   \n",
       "1              0.0          0.0                   0.0     0.0            0.0   \n",
       "3              0.0          0.0                   0.0     0.0            0.0   \n",
       "5              0.0          0.0                   0.0     0.0            0.0   \n",
       "6              0.0          0.0                   0.0     0.0            0.0   \n",
       "\n",
       "   HighBP  HighChol  CholCheck   BMI  Smoker  PhysActivity  Fruits  Veggies  \\\n",
       "0     1.0       1.0        1.0  40.0     1.0           0.0     0.0      1.0   \n",
       "1     0.0       0.0        0.0  25.0     1.0           1.0     0.0      0.0   \n",
       "3     1.0       1.0        1.0  28.0     0.0           0.0     1.0      0.0   \n",
       "5     1.0       0.0        1.0  27.0     0.0           1.0     1.0      1.0   \n",
       "6     1.0       1.0        1.0  24.0     0.0           1.0     1.0      1.0   \n",
       "\n",
       "   HvyAlcoholConsump  AnyHealthcare  NoDocbcCost  GenHlth  MentHlth  PhysHlth  \\\n",
       "0                0.0            1.0          0.0      5.0      18.0      15.0   \n",
       "1                0.0            0.0          1.0      3.0       0.0       0.0   \n",
       "3                0.0            1.0          1.0      5.0      30.0      30.0   \n",
       "5                0.0            1.0          0.0      2.0       0.0       0.0   \n",
       "6                0.0            1.0          0.0      2.0       3.0       0.0   \n",
       "\n",
       "   DiffWalk  Sex   Age  Education  Income  \n",
       "0       1.0  0.0   9.0        4.0     3.0  \n",
       "1       0.0  0.0   7.0        6.0     1.0  \n",
       "3       1.0  0.0   9.0        4.0     8.0  \n",
       "5       0.0  0.0  11.0        3.0     6.0  \n",
       "6       0.0  0.0  11.0        5.0     4.0  "
      ]
     },
     "execution_count": 40,
     "metadata": {},
     "output_type": "execute_result"
    }
   ],
   "source": [
    "brfss_binary.head()"
   ]
  },
  {
   "cell_type": "code",
   "execution_count": null,
   "metadata": {
    "colab": {
     "base_uri": "https://localhost:8080/"
    },
    "id": "jc5yBZ8RVCrs",
    "outputId": "bb2a5149-897c-4f0f-e88f-1d4492f175b7"
   },
   "outputs": [
    {
     "data": {
      "text/plain": [
       "Diabetes_binary\n",
       "0.0    2200\n",
       "1.0     574\n",
       "dtype: int64"
      ]
     },
     "execution_count": 41,
     "metadata": {},
     "output_type": "execute_result"
    }
   ],
   "source": [
    "brfss_binary.groupby(['Diabetes_binary']).size()"
   ]
  },
  {
   "cell_type": "markdown",
   "metadata": {
    "id": "xP_fYyJqVOc0"
   },
   "source": [
    "## **5.1. Train Test Split - Stratified Sampling**\n",
    "Stratified sampling is a solution to this. Stratified sampling will force the same class balance on the train and test dataset as the original data. You can do stratified sampling using scikitlearn’s train_test_split as follows:"
   ]
  },
  {
   "cell_type": "code",
   "execution_count": null,
   "metadata": {
    "id": "RNpwJzkaVEHK"
   },
   "outputs": [],
   "source": [
    "from sklearn.model_selection import train_test_split\n",
    "train, test = train_test_split(brfss_binary, test_size = 0.3, stratify=brfss_binary.Diabetes_binary)"
   ]
  },
  {
   "cell_type": "code",
   "execution_count": null,
   "metadata": {
    "colab": {
     "base_uri": "https://localhost:8080/"
    },
    "id": "N5IcoxVNVd9c",
    "outputId": "c7ca871e-3b75-4bc2-e9ce-7cea9a90081c"
   },
   "outputs": [
    {
     "data": {
      "text/plain": [
       "<matplotlib.axes._subplots.AxesSubplot at 0x7f66457db5d0>"
      ]
     },
     "execution_count": 43,
     "metadata": {},
     "output_type": "execute_result"
    },
    {
     "data": {
      "image/png": "[encoded data removed]",
      "text/plain": [
       "<Figure size 432x288 with 1 Axes>"
      ]
     },
     "metadata": {
      "needs_background": "light"
     },
     "output_type": "display_data"
    }
   ],
   "source": [
    "train.pivot_table(index='Diabetes_binary', aggfunc='size').plot(kind='bar', title='Verify that class distributuion in train is same as input data')"
   ]
  },
  {
   "cell_type": "code",
   "execution_count": null,
   "metadata": {
    "colab": {
     "base_uri": "https://localhost:8080/"
    },
    "id": "HEpOzJWGVfan",
    "outputId": "0253fc06-a958-4a01-9570-a5b6f293365a"
   },
   "outputs": [
    {
     "data": {
      "text/plain": [
       "<matplotlib.axes._subplots.AxesSubplot at 0x7f66456c4210>"
      ]
     },
     "execution_count": 44,
     "metadata": {},
     "output_type": "execute_result"
    },
    {
     "data": {
      "image/png": "[encoded data removed]",
      "text/plain": [
       "<Figure size 432x288 with 1 Axes>"
      ]
     },
     "metadata": {
      "needs_background": "light"
     },
     "output_type": "display_data"
    }
   ],
   "source": [
    "test.pivot_table(index='Diabetes_binary', aggfunc='size').plot(kind='bar', title='Verify that class distributuion in test is same as input data')"
   ]
  },
  {
   "cell_type": "markdown",
   "metadata": {
    "id": "KFipwxuDVj6j"
   },
   "source": [
    "# **6. Benchmark Model**"
   ]
  },
  {
   "cell_type": "code",
   "execution_count": null,
   "metadata": {
    "colab": {
     "base_uri": "https://localhost:8080/"
    },
    "id": "unVt_2vRVf2F",
    "outputId": "cce7639d-4f81-485b-9784-2e6e57e97017"
   },
   "outputs": [
    {
     "name": "stderr",
     "output_type": "stream",
     "text": [
      "/usr/local/lib/python3.7/dist-packages/sklearn/linear_model/_logistic.py:818: ConvergenceWarning: lbfgs failed to converge (status=1):\n",
      "STOP: TOTAL NO. of ITERATIONS REACHED LIMIT.\n",
      "\n",
      "Increase the number of iterations (max_iter) or scale the data as shown in:\n",
      "    https://scikit-learn.org/stable/modules/preprocessing.html\n",
      "Please also refer to the documentation for alternative solver options:\n",
      "    https://scikit-learn.org/stable/modules/linear_model.html#logistic-regression\n",
      "  extra_warning_msg=_LOGISTIC_SOLVER_CONVERGENCE_MSG,\n"
     ]
    }
   ],
   "source": [
    "#Using this as our benchmark before SMOTE\n",
    "from sklearn.linear_model import LogisticRegression\n",
    "\n",
    "#X Y Split\n",
    "X_train = train.drop('Diabetes_binary', axis = 1)\n",
    "y_train = train.Diabetes_binary\n",
    "\n",
    "X_test = test.drop('Diabetes_binary', axis = 1)\n",
    "y_test = test.Diabetes_binary\n",
    "\n",
    "\n",
    "lrmodel = LogisticRegression()\n",
    "\n",
    "lrmodel.fit(X_train, y_train)\n",
    "\n",
    "lrpreds = lrmodel.predict(X_test)\n"
   ]
  },
  {
   "cell_type": "code",
   "execution_count": null,
   "metadata": {
    "colab": {
     "base_uri": "https://localhost:8080/"
    },
    "id": "b-AUoJVIV08r",
    "outputId": "625a3539-4d05-48d0-f87c-256183053191"
   },
   "outputs": [
    {
     "name": "stdout",
     "output_type": "stream",
     "text": [
      "True negatives:  637 \n",
      "False positives:  24 \n",
      "False negatives:  148 \n",
      "True Positives:  24\n"
     ]
    }
   ],
   "source": [
    "from sklearn.metrics import confusion_matrix\n",
    "tn, fp, fn, tp = confusion_matrix(y_test, lrpreds).ravel()\n",
    "print('True negatives: ', tn, '\\nFalse positives: ', fp, '\\nFalse negatives: ', fn, '\\nTrue Positives: ', tp)"
   ]
  },
  {
   "cell_type": "code",
   "execution_count": null,
   "metadata": {
    "colab": {
     "base_uri": "https://localhost:8080/"
    },
    "id": "haaayIscV2C7",
    "outputId": "2695693a-f69e-49a2-aa13-6ee9428fcb75"
   },
   "outputs": [
    {
     "name": "stdout",
     "output_type": "stream",
     "text": [
      "              precision    recall  f1-score   support\n",
      "\n",
      "         0.0       0.81      0.96      0.88       661\n",
      "         1.0       0.50      0.14      0.22       172\n",
      "\n",
      "    accuracy                           0.79       833\n",
      "   macro avg       0.66      0.55      0.55       833\n",
      "weighted avg       0.75      0.79      0.74       833\n",
      "\n"
     ]
    }
   ],
   "source": [
    "from sklearn.metrics import classification_report\n",
    "print(classification_report(y_test, lrpreds))"
   ]
  },
  {
   "cell_type": "code",
   "execution_count": null,
   "metadata": {
    "colab": {
     "base_uri": "https://localhost:8080/"
    },
    "id": "Al87XBmLMOq0",
    "outputId": "6a68d2de-519b-4df0-a83c-e0f2b9cb1599"
   },
   "outputs": [
    {
     "name": "stdout",
     "output_type": "stream",
     "text": [
      "brier score: 0.14654481507348363\n"
     ]
    }
   ],
   "source": [
    "from sklearn.metrics import brier_score_loss\n",
    "lrprobs = lrmodel.predict_proba(X_test)\n",
    "lrprobs = lrprobs[:, 1]\n",
    "lrloss = brier_score_loss(y_test, lrprobs)\n",
    "print(\"brier score:\", lrloss)"
   ]
  },
  {
   "cell_type": "markdown",
   "metadata": {
    "id": "293FuYczV_e5"
   },
   "source": [
    "# **7. SMOTE**\n",
    "In tabular data, you could think about adding small random noise to the values so that they are slightly different from the original. You can also create synthetic data based on the original data.\n",
    "\n",
    "SMOTE is an algorithm that performs data augmentation by creating synthetic data points based on the original data points. SMOTE can be seen as an advanced version of oversampling, or as a specific algorithm for data augmentation. The advantage of SMOTE is that you are not generating duplicates, but rather creating synthetic data points that are slightly different from the original data points.\n",
    "\n",
    "The SMOTE algorithm works as follows:\n",
    "\n",
    "- You draw a random sample from the minority class.\n",
    "- For the observations in this sample, you will identify the k nearest neighbors.\n",
    "- You will then take one of those neighbors and identify the vector between the current data point and the selected neighbor.\n",
    "- You multiply the vector by a random number between 0 and 1.\n",
    "- To obtain the synthetic data point, you add this to the current data point.\n",
    "\n",
    "This operation is actually very much like slightly moving the data point in the direction of its neighbor. This way, you make sure that your synthetic data point is not an exact copy of an existing data point while making sure that it is also not too different from the known observations in your minority class.\n",
    "\n",
    "Using SMOTE we can tweak the model to reduce false negatives, at the cost of increasing false positives. The result of using SMOTE is generally an increase in recall, at the cost of lower precision. This means that we will add more predictions of the minority class: some of them correct (increasing recall), but some of them wrong (decreasing precision)."
   ]
  },
  {
   "cell_type": "code",
   "execution_count": null,
   "metadata": {
    "id": "N6K3GeEvV4Kb"
   },
   "outputs": [],
   "source": [
    "from imblearn.over_sampling import SMOTE\n",
    "X_resampled, y_resampled = SMOTE().fit_resample(X_train,y_train)"
   ]
  },
  {
   "cell_type": "code",
   "execution_count": null,
   "metadata": {
    "colab": {
     "base_uri": "https://localhost:8080/",
     "height": 319
    },
    "id": "aHWS6sCS9V3H",
    "outputId": "80afd950-6a6a-48bb-e4aa-0ef558a6d868"
   },
   "outputs": [
    {
     "data": {
      "text/plain": [
       "<matplotlib.axes._subplots.AxesSubplot at 0x7f664170c810>"
      ]
     },
     "execution_count": 50,
     "metadata": {},
     "output_type": "execute_result"
    },
    {
     "data": {
      "image/png": "[encoded data removed]",
      "text/plain": [
       "<Figure size 432x288 with 1 Axes>"
      ]
     },
     "metadata": {
      "needs_background": "light"
     },
     "output_type": "display_data"
    }
   ],
   "source": [
    "pd.Series(y_train).value_counts().plot(kind='bar', title='Class distribution Before appying SMOTE', xlabel='diabetes')"
   ]
  },
  {
   "cell_type": "code",
   "execution_count": null,
   "metadata": {
    "colab": {
     "base_uri": "https://localhost:8080/",
     "height": 319
    },
    "id": "PA2AGTlTWPFQ",
    "outputId": "52de6a2d-92b3-4a69-de11-d9599b57d54d"
   },
   "outputs": [
    {
     "data": {
      "text/plain": [
       "<matplotlib.axes._subplots.AxesSubplot at 0x7f664168e3d0>"
      ]
     },
     "execution_count": 51,
     "metadata": {},
     "output_type": "execute_result"
    },
    {
     "data": {
      "image/png": "[encoded data removed]",
      "text/plain": [
       "<Figure size 432x288 with 1 Axes>"
      ]
     },
     "metadata": {
      "needs_background": "light"
     },
     "output_type": "display_data"
    }
   ],
   "source": [
    "pd.Series(y_resampled).value_counts().plot(kind='bar', title='Class distribution after appying SMOTE', xlabel='diabetes')"
   ]
  },
  {
   "cell_type": "code",
   "execution_count": null,
   "metadata": {
    "colab": {
     "base_uri": "https://localhost:8080/"
    },
    "id": "yTLRkt4kWQZC",
    "outputId": "132f8044-93b9-4332-fcb1-57a62fc1afcf"
   },
   "outputs": [
    {
     "name": "stderr",
     "output_type": "stream",
     "text": [
      "/usr/local/lib/python3.7/dist-packages/sklearn/linear_model/_logistic.py:818: ConvergenceWarning: lbfgs failed to converge (status=1):\n",
      "STOP: TOTAL NO. of ITERATIONS REACHED LIMIT.\n",
      "\n",
      "Increase the number of iterations (max_iter) or scale the data as shown in:\n",
      "    https://scikit-learn.org/stable/modules/preprocessing.html\n",
      "Please also refer to the documentation for alternative solver options:\n",
      "    https://scikit-learn.org/stable/modules/linear_model.html#logistic-regression\n",
      "  extra_warning_msg=_LOGISTIC_SOLVER_CONVERGENCE_MSG,\n"
     ]
    }
   ],
   "source": [
    "# Instantiate the new Logistic Regression\n",
    "lrmodel2 = LogisticRegression()\n",
    "\n",
    "# Fit the model with the data that has been resampled with SMOTE\n",
    "lrmodel2.fit(X_resampled, y_resampled)\n",
    "\n",
    "# Predict on the test set (not resampled to obtain honest evaluation)\n",
    "lrpreds2 = lrmodel2.predict(X_test)"
   ]
  },
  {
   "cell_type": "code",
   "execution_count": null,
   "metadata": {
    "colab": {
     "base_uri": "https://localhost:8080/"
    },
    "id": "Jsln7Ju_WSC8",
    "outputId": "490a4f87-7092-4a49-cec0-5ada730c1432"
   },
   "outputs": [
    {
     "name": "stdout",
     "output_type": "stream",
     "text": [
      "True negatives:  444 \n",
      "False positives:  217 \n",
      "False negatives:  57 \n",
      "True positives:  115\n"
     ]
    }
   ],
   "source": [
    "tn, fp, fn, tp = confusion_matrix(y_test, lrpreds2).ravel()\n",
    "print('True negatives: ', tn, '\\nFalse positives: ', fp, '\\nFalse negatives: ', fn, '\\nTrue positives: ', tp)"
   ]
  },
  {
   "cell_type": "code",
   "execution_count": null,
   "metadata": {
    "colab": {
     "base_uri": "https://localhost:8080/"
    },
    "id": "hB4Ih_ENWTnP",
    "outputId": "969437af-7b95-4cb6-faff-ac44f1e086b5"
   },
   "outputs": [
    {
     "name": "stdout",
     "output_type": "stream",
     "text": [
      "              precision    recall  f1-score   support\n",
      "\n",
      "         0.0       0.89      0.67      0.76       661\n",
      "         1.0       0.35      0.67      0.46       172\n",
      "\n",
      "    accuracy                           0.67       833\n",
      "   macro avg       0.62      0.67      0.61       833\n",
      "weighted avg       0.77      0.67      0.70       833\n",
      "\n"
     ]
    }
   ],
   "source": [
    "#Here we can see the overall accuracy went down, but our recall percentage for the minority class went up a ton\n",
    "\n",
    "print(classification_report(y_test, lrpreds2))"
   ]
  },
  {
   "cell_type": "code",
   "execution_count": null,
   "metadata": {
    "colab": {
     "base_uri": "https://localhost:8080/"
    },
    "id": "iVcidvkoMm4i",
    "outputId": "725ed91b-9c48-458d-a49e-d4343d0cb985"
   },
   "outputs": [
    {
     "name": "stdout",
     "output_type": "stream",
     "text": [
      "brier score: 0.20411651904805153\n"
     ]
    }
   ],
   "source": [
    "lrprobs2 = lrmodel2.predict_proba(X_test)\n",
    "lrprobs2 = lrprobs2[:, 1]\n",
    "lrloss2 = brier_score_loss(y_test, lrprobs2)\n",
    "print(\"brier score:\", lrloss2)"
   ]
  },
  {
   "cell_type": "markdown",
   "metadata": {
    "id": "QSsRR_Y-XELi"
   },
   "source": [
    "## **7.1 Summary Of Smote**\n",
    "- Recall of invidivuals without diabetes went down from 0.97 to 0.72: there are more individuals without diabetes that we did not succeed to find\n",
    "- Recall of individuals with diabetes went up from 0.17 to 0.75: we succeeded to identify many more individuals with diabetes\n",
    "- The precision of individuals with diabetes went down from 0.52 to 0.31: the cost of correctly identifying more individuals with diabetes is that we now also incorrectly identify more individuals with diabetes (identifying individuals without diabetes as having diabetes)\n",
    "- The Brier Score increased from 0.098 to 0.180: The assigned probability of each patient having diabetes decreased in accuracy when comparing to the binary diabetes outcome"
   ]
  },
  {
   "cell_type": "markdown",
   "metadata": {
    "id": "OeSAn4yyjiP0"
   },
   "source": [
    "# 8. Modeling Diabetes prediction using different modeling techniques, utilizing both the original dataset and Smote dataset"
   ]
  },
  {
   "cell_type": "markdown",
   "metadata": {
    "id": "gu7tEkSukCoK"
   },
   "source": [
    "## 8.1 Modeling Diabetes prediction with Random Forest"
   ]
  },
  {
   "cell_type": "code",
   "execution_count": null,
   "metadata": {
    "colab": {
     "base_uri": "https://localhost:8080/"
    },
    "id": "5-43d6EUs1NC",
    "outputId": "cf837880-89d3-4c89-da25-f0522e5ff3f6"
   },
   "outputs": [
    {
     "name": "stdout",
     "output_type": "stream",
     "text": [
      "True negatives:  633 \n",
      "False positives:  28 \n",
      "False negatives:  145 \n",
      "True Positives:  27\n",
      "              precision    recall  f1-score   support\n",
      "\n",
      "         0.0       0.81      0.96      0.88       661\n",
      "         1.0       0.49      0.16      0.24       172\n",
      "\n",
      "    accuracy                           0.79       833\n",
      "   macro avg       0.65      0.56      0.56       833\n",
      "weighted avg       0.75      0.79      0.75       833\n",
      "\n",
      "brier score: 0.14820996398559425\n",
      "feature importances:\n",
      " BMI                     0.161645\n",
      "Age                     0.115217\n",
      "Income                  0.088654\n",
      "GenHlth                 0.074081\n",
      "PhysHlth                0.071559\n",
      "Education               0.069469\n",
      "MentHlth                0.057563\n",
      "HighBP                  0.042734\n",
      "DiffWalk                0.036967\n",
      "HighChol                0.035326\n",
      "Smoker                  0.032166\n",
      "Sex                     0.029844\n",
      "PhysActivity            0.029149\n",
      "Fruits                  0.028759\n",
      "Veggies                 0.026583\n",
      "CoronaryHeartDisease    0.018098\n",
      "Stroke                  0.018084\n",
      "NoDocbcCost             0.016917\n",
      "HeartAttack             0.016489\n",
      "KidneyDisease           0.011251\n",
      "AnyHealthcare           0.009973\n",
      "HvyAlcoholConsump       0.007513\n",
      "CholCheck               0.001959\n",
      "dtype: float64\n"
     ]
    }
   ],
   "source": [
    "from sklearn.ensemble import RandomForestClassifier\n",
    "\n",
    "# Modeling with Original Dataset\n",
    "X_train = train.drop('Diabetes_binary', axis = 1)\n",
    "y_train = train.Diabetes_binary\n",
    "\n",
    "X_test = test.drop('Diabetes_binary', axis = 1)\n",
    "y_test = test.Diabetes_binary\n",
    "\n",
    "\n",
    "rfmodel = RandomForestClassifier()\n",
    "\n",
    "rfmodel.fit(X_train, y_train)\n",
    "\n",
    "rfpreds = rfmodel.predict(X_test)\n",
    "\n",
    "tn, fp, fn, tp = confusion_matrix(y_test, rfpreds).ravel()\n",
    "print('True negatives: ', tn, '\\nFalse positives: ', fp, '\\nFalse negatives: ', fn, '\\nTrue Positives: ', tp)\n",
    "\n",
    "print(classification_report(y_test, rfpreds))\n",
    "\n",
    "rfprobs = rfmodel.predict_proba(X_test)\n",
    "rfprobs = rfprobs[:, 1]\n",
    "rfloss = brier_score_loss(y_test, rfprobs)\n",
    "print(\"brier score:\", rfloss)\n",
    "\n",
    "\n",
    "important_features = pd.Series(data=rfmodel.feature_importances_,index=X_test.columns)\n",
    "important_features.sort_values(ascending=False,inplace=True)\n",
    "print(\"feature importances:\\n\", important_features)\n"
   ]
  },
  {
   "cell_type": "code",
   "execution_count": null,
   "metadata": {
    "colab": {
     "base_uri": "https://localhost:8080/"
    },
    "id": "jm0TvSfKs1QG",
    "outputId": "64ca43cd-6c47-4f39-ff14-8fde01f140da"
   },
   "outputs": [
    {
     "name": "stdout",
     "output_type": "stream",
     "text": [
      "True negatives:  615 \n",
      "False positives:  46 \n",
      "False negatives:  143 \n",
      "True positives:  29\n",
      "              precision    recall  f1-score   support\n",
      "\n",
      "         0.0       0.81      0.93      0.87       661\n",
      "         1.0       0.39      0.17      0.23       172\n",
      "\n",
      "    accuracy                           0.77       833\n",
      "   macro avg       0.60      0.55      0.55       833\n",
      "weighted avg       0.72      0.77      0.74       833\n",
      "\n",
      "brier score: 0.154584393757503\n",
      "feature importances:\n",
      " HighBP                  0.114527\n",
      "HighChol                0.106232\n",
      "BMI                     0.099961\n",
      "GenHlth                 0.088458\n",
      "Age                     0.087548\n",
      "Income                  0.064420\n",
      "DiffWalk                0.061524\n",
      "PhysActivity            0.050789\n",
      "Education               0.050016\n",
      "Smoker                  0.040143\n",
      "PhysHlth                0.037773\n",
      "Fruits                  0.035081\n",
      "Sex                     0.031003\n",
      "MentHlth                0.029395\n",
      "Veggies                 0.025642\n",
      "CoronaryHeartDisease    0.017501\n",
      "NoDocbcCost             0.015199\n",
      "Stroke                  0.013468\n",
      "HeartAttack             0.012180\n",
      "KidneyDisease           0.007201\n",
      "AnyHealthcare           0.006546\n",
      "HvyAlcoholConsump       0.004377\n",
      "CholCheck               0.001016\n",
      "dtype: float64\n"
     ]
    }
   ],
   "source": [
    "# Modeling with SMOTE-trasnformed data\n",
    "X_resampled, y_resampled = SMOTE().fit_resample(X_train,y_train)\n",
    "\n",
    "rfmodel2 = RandomForestClassifier()\n",
    "\n",
    "rfmodel2.fit(X_resampled, y_resampled)\n",
    "\n",
    "rfpreds2 = rfmodel2.predict(X_test)\n",
    "\n",
    "tn, fp, fn, tp = confusion_matrix(y_test, rfpreds2).ravel()\n",
    "print('True negatives: ', tn, '\\nFalse positives: ', fp, '\\nFalse negatives: ', fn, '\\nTrue positives: ', tp)\n",
    "\n",
    "print(classification_report(y_test, rfpreds2))\n",
    "\n",
    "rfprobs2 = rfmodel2.predict_proba(X_test)\n",
    "rfprobs2 = rfprobs2[:, 1]\n",
    "rfloss2 = brier_score_loss(y_test, rfprobs2)\n",
    "print(\"brier score:\", rfloss2)\n",
    "\n",
    "important_features = pd.Series(data=rfmodel2.feature_importances_,index=X_test.columns)\n",
    "important_features.sort_values(ascending=False,inplace=True)\n",
    "print(\"feature importances:\\n\", important_features)"
   ]
  },
  {
   "cell_type": "markdown",
   "metadata": {
    "id": "PYFBKoqUmP0S"
   },
   "source": [
    "## 8.2 Modeling Diabetes Prediction with a Multi Layer Perceptron"
   ]
  },
  {
   "cell_type": "code",
   "execution_count": null,
   "metadata": {
    "colab": {
     "base_uri": "https://localhost:8080/"
    },
    "id": "CNXaVgris1St",
    "outputId": "f1072ec2-a041-41ab-9f5e-35ee9c029423"
   },
   "outputs": [
    {
     "name": "stdout",
     "output_type": "stream",
     "text": [
      "True negatives:  593 \n",
      "False positives:  68 \n",
      "False negatives:  122 \n",
      "True Positives:  50\n",
      "              precision    recall  f1-score   support\n",
      "\n",
      "         0.0       0.83      0.90      0.86       661\n",
      "         1.0       0.42      0.29      0.34       172\n",
      "\n",
      "    accuracy                           0.77       833\n",
      "   macro avg       0.63      0.59      0.60       833\n",
      "weighted avg       0.75      0.77      0.76       833\n",
      "\n",
      "brier score: 0.15631478676961122\n"
     ]
    }
   ],
   "source": [
    "from sklearn.neural_network import MLPClassifier\n",
    "\n",
    "# Modeling with Original Dataset\n",
    "X_train = train.drop('Diabetes_binary', axis = 1)\n",
    "y_train = train.Diabetes_binary\n",
    "\n",
    "X_test = test.drop('Diabetes_binary', axis = 1)\n",
    "y_test = test.Diabetes_binary\n",
    "\n",
    "\n",
    "MLPmodel = MLPClassifier()\n",
    "\n",
    "MLPmodel.fit(X_train, y_train)\n",
    "\n",
    "MLPpreds = MLPmodel.predict(X_test)\n",
    "\n",
    "tn, fp, fn, tp = confusion_matrix(y_test, MLPpreds).ravel()\n",
    "print('True negatives: ', tn, '\\nFalse positives: ', fp, '\\nFalse negatives: ', fn, '\\nTrue Positives: ', tp)\n",
    "\n",
    "print(classification_report(y_test, MLPpreds))\n",
    "\n",
    "MLPprobs = MLPmodel.predict_proba(X_test)\n",
    "MLPprobs = MLPprobs[:, 1]\n",
    "MLPloss = brier_score_loss(y_test, MLPprobs)\n",
    "print(\"brier score:\", MLPloss)"
   ]
  },
  {
   "cell_type": "code",
   "execution_count": null,
   "metadata": {
    "colab": {
     "base_uri": "https://localhost:8080/"
    },
    "id": "KmjeN_bpmcOB",
    "outputId": "5024ea47-b7d1-44d4-925f-c8a53e92923d"
   },
   "outputs": [
    {
     "name": "stdout",
     "output_type": "stream",
     "text": [
      "True negatives:  504 \n",
      "False positives:  157 \n",
      "False negatives:  96 \n",
      "True positives:  76\n",
      "              precision    recall  f1-score   support\n",
      "\n",
      "         0.0       0.84      0.76      0.80       661\n",
      "         1.0       0.33      0.44      0.38       172\n",
      "\n",
      "    accuracy                           0.70       833\n",
      "   macro avg       0.58      0.60      0.59       833\n",
      "weighted avg       0.73      0.70      0.71       833\n",
      "\n",
      "brier score: 0.19709913605008325\n"
     ]
    },
    {
     "name": "stderr",
     "output_type": "stream",
     "text": [
      "/usr/local/lib/python3.7/dist-packages/sklearn/neural_network/_multilayer_perceptron.py:696: ConvergenceWarning: Stochastic Optimizer: Maximum iterations (200) reached and the optimization hasn't converged yet.\n",
      "  ConvergenceWarning,\n"
     ]
    }
   ],
   "source": [
    "# Modeling with SMOTE-trasnformed data\n",
    "X_resampled, y_resampled = SMOTE().fit_resample(X_train,y_train)\n",
    "\n",
    "MLPmodel2 = MLPClassifier()\n",
    "\n",
    "MLPmodel2.fit(X_resampled, y_resampled)\n",
    "\n",
    "MLPpreds2 = MLPmodel2.predict(X_test)\n",
    "\n",
    "tn, fp, fn, tp = confusion_matrix(y_test, MLPpreds2).ravel()\n",
    "print('True negatives: ', tn, '\\nFalse positives: ', fp, '\\nFalse negatives: ', fn, '\\nTrue positives: ', tp)\n",
    "\n",
    "print(classification_report(y_test, MLPpreds2))\n",
    "\n",
    "MLPprobs2 = MLPmodel2.predict_proba(X_test)\n",
    "MLPprobs2 = MLPprobs2[:, 1]\n",
    "MLPloss2 = brier_score_loss(y_test, MLPprobs2)\n",
    "print(\"brier score:\", MLPloss2)"
   ]
  },
  {
   "cell_type": "markdown",
   "metadata": {
    "id": "P5RUcZpvqCBU"
   },
   "source": [
    "## 8.3 Modeling Diabetes Prediction with a Support Vector Machine Classifier"
   ]
  },
  {
   "cell_type": "code",
   "execution_count": null,
   "metadata": {
    "colab": {
     "base_uri": "https://localhost:8080/"
    },
    "id": "CLc4ge8zqOPD",
    "outputId": "88241d92-965b-4834-8616-49002728f95d"
   },
   "outputs": [
    {
     "name": "stdout",
     "output_type": "stream",
     "text": [
      "True negatives:  659 \n",
      "False positives:  2 \n",
      "False negatives:  170 \n",
      "True Positives:  2\n",
      "              precision    recall  f1-score   support\n",
      "\n",
      "         0.0       0.79      1.00      0.88       661\n",
      "         1.0       0.50      0.01      0.02       172\n",
      "\n",
      "    accuracy                           0.79       833\n",
      "   macro avg       0.65      0.50      0.45       833\n",
      "weighted avg       0.73      0.79      0.71       833\n",
      "\n",
      "brier score: 0.16227462296240455\n"
     ]
    }
   ],
   "source": [
    "from sklearn.svm import SVC\n",
    "\n",
    "# Modeling with Original Dataset\n",
    "X_train = train.drop('Diabetes_binary', axis = 1)\n",
    "y_train = train.Diabetes_binary\n",
    "\n",
    "X_test = test.drop('Diabetes_binary', axis = 1)\n",
    "y_test = test.Diabetes_binary\n",
    "\n",
    "\n",
    "SVCmodel = SVC(probability=True)\n",
    "\n",
    "SVCmodel.fit(X_train, y_train)\n",
    "\n",
    "SVCpreds = SVCmodel.predict(X_test)\n",
    "\n",
    "tn, fp, fn, tp = confusion_matrix(y_test, SVCpreds).ravel()\n",
    "print('True negatives: ', tn, '\\nFalse positives: ', fp, '\\nFalse negatives: ', fn, '\\nTrue Positives: ', tp)\n",
    "\n",
    "print(classification_report(y_test, SVCpreds))\n",
    "\n",
    "SVCprobs = SVCmodel.predict_proba(X_test)\n",
    "SVCprobs = SVCprobs[:, 1]\n",
    "SVCloss = brier_score_loss(y_test, SVCprobs)\n",
    "print(\"brier score:\", SVCloss)"
   ]
  },
  {
   "cell_type": "code",
   "execution_count": null,
   "metadata": {
    "colab": {
     "base_uri": "https://localhost:8080/"
    },
    "id": "5EEVFCoNqSOY",
    "outputId": "cd163736-5045-4649-ae1e-986b408f1585"
   },
   "outputs": [
    {
     "name": "stdout",
     "output_type": "stream",
     "text": [
      "True negatives:  399 \n",
      "False positives:  262 \n",
      "False negatives:  41 \n",
      "True positives:  131\n",
      "              precision    recall  f1-score   support\n",
      "\n",
      "         0.0       0.91      0.60      0.72       661\n",
      "         1.0       0.33      0.76      0.46       172\n",
      "\n",
      "    accuracy                           0.64       833\n",
      "   macro avg       0.62      0.68      0.59       833\n",
      "weighted avg       0.79      0.64      0.67       833\n",
      "\n",
      "brier score: 0.2036951765011945\n"
     ]
    }
   ],
   "source": [
    "# Modeling with SMOTE-trasnformed data\n",
    "X_resampled, y_resampled = SMOTE().fit_resample(X_train,y_train)\n",
    "\n",
    "SVCmodel2 = SVC(probability=True)\n",
    "\n",
    "SVCmodel2.fit(X_resampled, y_resampled)\n",
    "\n",
    "SVCpreds2 = SVCmodel2.predict(X_test)\n",
    "\n",
    "tn, fp, fn, tp = confusion_matrix(y_test, SVCpreds2).ravel()\n",
    "print('True negatives: ', tn, '\\nFalse positives: ', fp, '\\nFalse negatives: ', fn, '\\nTrue positives: ', tp)\n",
    "\n",
    "print(classification_report(y_test, SVCpreds2))\n",
    "\n",
    "SVCprobs2 = SVCmodel2.predict_proba(X_test)\n",
    "SVCprobs2 = SVCprobs2[:, 1]\n",
    "SVCloss2 = brier_score_loss(y_test, SVCprobs2)\n",
    "print(\"brier score:\", SVCloss2)"
   ]
  },
  {
   "cell_type": "markdown",
   "metadata": {
    "id": "UW1zLrNgrEIE"
   },
   "source": [
    "## 8.4 Modeling Diabetes prediction using K Neighbors"
   ]
  },
  {
   "cell_type": "code",
   "execution_count": null,
   "metadata": {
    "colab": {
     "base_uri": "https://localhost:8080/"
    },
    "id": "OYE9WfibrLU8",
    "outputId": "63c40ca0-459e-43c4-97d0-c4be29025826"
   },
   "outputs": [
    {
     "name": "stdout",
     "output_type": "stream",
     "text": [
      "True negatives:  609 \n",
      "False positives:  52 \n",
      "False negatives:  139 \n",
      "True Positives:  33\n",
      "              precision    recall  f1-score   support\n",
      "\n",
      "         0.0       0.81      0.92      0.86       661\n",
      "         1.0       0.39      0.19      0.26       172\n",
      "\n",
      "    accuracy                           0.77       833\n",
      "   macro avg       0.60      0.56      0.56       833\n",
      "weighted avg       0.73      0.77      0.74       833\n",
      "\n",
      "brier score: 0.17517406962785115\n"
     ]
    }
   ],
   "source": [
    "from sklearn.neighbors import KNeighborsClassifier\n",
    "\n",
    "# Modeling with Original Dataset\n",
    "X_train = train.drop('Diabetes_binary', axis = 1)\n",
    "y_train = train.Diabetes_binary\n",
    "\n",
    "X_test = test.drop('Diabetes_binary', axis = 1)\n",
    "y_test = test.Diabetes_binary\n",
    "\n",
    "\n",
    "knmodel = KNeighborsClassifier()\n",
    "\n",
    "knmodel.fit(X_train, y_train)\n",
    "\n",
    "knpreds = knmodel.predict(X_test)\n",
    "\n",
    "tn, fp, fn, tp = confusion_matrix(y_test, knpreds).ravel()\n",
    "print('True negatives: ', tn, '\\nFalse positives: ', fp, '\\nFalse negatives: ', fn, '\\nTrue Positives: ', tp)\n",
    "\n",
    "print(classification_report(y_test, knpreds))\n",
    "\n",
    "knprobs = knmodel.predict_proba(X_test)\n",
    "knprobs = knprobs[:, 1]\n",
    "knloss = brier_score_loss(y_test, knprobs)\n",
    "print(\"brier score:\", knloss)"
   ]
  },
  {
   "cell_type": "code",
   "execution_count": null,
   "metadata": {
    "colab": {
     "base_uri": "https://localhost:8080/"
    },
    "id": "PsaE9Z2nrLjB",
    "outputId": "bc66072c-d2a8-44da-84c6-e09b1f74504e"
   },
   "outputs": [
    {
     "name": "stdout",
     "output_type": "stream",
     "text": [
      "True negatives:  401 \n",
      "False positives:  260 \n",
      "False negatives:  73 \n",
      "True positives:  99\n",
      "              precision    recall  f1-score   support\n",
      "\n",
      "         0.0       0.85      0.61      0.71       661\n",
      "         1.0       0.28      0.58      0.37       172\n",
      "\n",
      "    accuracy                           0.60       833\n",
      "   macro avg       0.56      0.59      0.54       833\n",
      "weighted avg       0.73      0.60      0.64       833\n",
      "\n",
      "brier score: 0.2732292917166867\n"
     ]
    }
   ],
   "source": [
    "# Modeling with SMOTE-trasnformed data\n",
    "X_resampled, y_resampled = SMOTE().fit_resample(X_train,y_train)\n",
    "\n",
    "knmodel2 = KNeighborsClassifier()\n",
    "\n",
    "knmodel2.fit(X_resampled, y_resampled)\n",
    "\n",
    "knpreds2 = knmodel2.predict(X_test)\n",
    "\n",
    "tn, fp, fn, tp = confusion_matrix(y_test, knpreds2).ravel()\n",
    "print('True negatives: ', tn, '\\nFalse positives: ', fp, '\\nFalse negatives: ', fn, '\\nTrue positives: ', tp)\n",
    "\n",
    "print(classification_report(y_test, knpreds2))\n",
    "\n",
    "knprobs2 = knmodel2.predict_proba(X_test)\n",
    "knprobs2 = knprobs2[:, 1]\n",
    "knloss2 = brier_score_loss(y_test, knprobs2)\n",
    "print(\"brier score:\", knloss2)\n"
   ]
  },
  {
   "cell_type": "markdown",
   "metadata": {
    "id": "pIcbIrrFr0Yz"
   },
   "source": [
    "## 8.5 Modeling Diabetes prediction using a Gaussian Process Classifier"
   ]
  },
  {
   "cell_type": "code",
   "execution_count": null,
   "metadata": {
    "colab": {
     "base_uri": "https://localhost:8080/"
    },
    "id": "sOKDEjv_r09C",
    "outputId": "085c46ed-de2c-4dda-9757-b78b6ccdc436"
   },
   "outputs": [
    {
     "name": "stdout",
     "output_type": "stream",
     "text": [
      "True negatives:  599 \n",
      "False positives:  62 \n",
      "False negatives:  137 \n",
      "True Positives:  35\n",
      "              precision    recall  f1-score   support\n",
      "\n",
      "         0.0       0.81      0.91      0.86       661\n",
      "         1.0       0.36      0.20      0.26       172\n",
      "\n",
      "    accuracy                           0.76       833\n",
      "   macro avg       0.59      0.55      0.56       833\n",
      "weighted avg       0.72      0.76      0.73       833\n",
      "\n",
      "brier score: 0.22959366759775227\n"
     ]
    }
   ],
   "source": [
    "from sklearn.gaussian_process import GaussianProcessClassifier\n",
    "\n",
    "# Modeling with Original Dataset\n",
    "X_train = train.drop('Diabetes_binary', axis = 1)\n",
    "y_train = train.Diabetes_binary\n",
    "\n",
    "X_test = test.drop('Diabetes_binary', axis = 1)\n",
    "y_test = test.Diabetes_binary\n",
    "\n",
    "\n",
    "gpmodel = GaussianProcessClassifier()\n",
    "\n",
    "gpmodel.fit(X_train, y_train)\n",
    "\n",
    "gppreds = gpmodel.predict(X_test)\n",
    "\n",
    "tn, fp, fn, tp = confusion_matrix(y_test, gppreds).ravel()\n",
    "print('True negatives: ', tn, '\\nFalse positives: ', fp, '\\nFalse negatives: ', fn, '\\nTrue Positives: ', tp)\n",
    "\n",
    "print(classification_report(y_test, gppreds))\n",
    "\n",
    "gpprobs = gpmodel.predict_proba(X_test)\n",
    "gpprobs = gpprobs[:, 1]\n",
    "gploss = brier_score_loss(y_test, gpprobs)\n",
    "print(\"brier score:\", gploss)"
   ]
  },
  {
   "cell_type": "code",
   "execution_count": null,
   "metadata": {
    "colab": {
     "base_uri": "https://localhost:8080/"
    },
    "id": "e4bZrUqWr1Zs",
    "outputId": "13873ec6-2c95-4106-e5f2-148ba2143230"
   },
   "outputs": [
    {
     "name": "stdout",
     "output_type": "stream",
     "text": [
      "True negatives:  479 \n",
      "False positives:  182 \n",
      "False negatives:  97 \n",
      "True positives:  75\n",
      "              precision    recall  f1-score   support\n",
      "\n",
      "         0.0       0.83      0.72      0.77       661\n",
      "         1.0       0.29      0.44      0.35       172\n",
      "\n",
      "    accuracy                           0.67       833\n",
      "   macro avg       0.56      0.58      0.56       833\n",
      "weighted avg       0.72      0.67      0.69       833\n",
      "\n",
      "brier score: 0.23700204663445737\n"
     ]
    }
   ],
   "source": [
    "# Modeling with SMOTE-trasnformed data\n",
    "X_resampled, y_resampled = SMOTE().fit_resample(X_train,y_train)\n",
    "\n",
    "gpmodel2 = GaussianProcessClassifier()\n",
    "\n",
    "gpmodel2.fit(X_resampled, y_resampled)\n",
    "\n",
    "gppreds2 = gpmodel2.predict(X_test)\n",
    "\n",
    "tn, fp, fn, tp = confusion_matrix(y_test, gppreds2).ravel()\n",
    "print('True negatives: ', tn, '\\nFalse positives: ', fp, '\\nFalse negatives: ', fn, '\\nTrue positives: ', tp)\n",
    "\n",
    "print(classification_report(y_test, gppreds2))\n",
    "\n",
    "gpprobs2 = gpmodel2.predict_proba(X_test)\n",
    "gpprobs2 = gpprobs2[:, 1]\n",
    "gploss2 = brier_score_loss(y_test, gpprobs2)\n",
    "print(\"brier score:\", gploss2)"
   ]
  },
  {
   "cell_type": "markdown",
   "metadata": {
    "id": "UxvxiyROsbbL"
   },
   "source": [
    "## 8.6 Modeling Diabetes Prediction using an AdaBoost Classifier"
   ]
  },
  {
   "cell_type": "code",
   "execution_count": null,
   "metadata": {
    "colab": {
     "base_uri": "https://localhost:8080/"
    },
    "id": "JTRPH7f0sbu4",
    "outputId": "d7aaf525-8266-41b1-8325-81be717ece50"
   },
   "outputs": [
    {
     "name": "stdout",
     "output_type": "stream",
     "text": [
      "True negatives:  620 \n",
      "False positives:  41 \n",
      "False negatives:  137 \n",
      "True Positives:  35\n",
      "              precision    recall  f1-score   support\n",
      "\n",
      "         0.0       0.82      0.94      0.87       661\n",
      "         1.0       0.46      0.20      0.28       172\n",
      "\n",
      "    accuracy                           0.79       833\n",
      "   macro avg       0.64      0.57      0.58       833\n",
      "weighted avg       0.74      0.79      0.75       833\n",
      "\n",
      "brier score: 0.23996508060279756\n"
     ]
    }
   ],
   "source": [
    "from sklearn.ensemble import AdaBoostClassifier\n",
    "\n",
    "# Modeling with Original Dataset\n",
    "X_train = train.drop('Diabetes_binary', axis = 1)\n",
    "y_train = train.Diabetes_binary\n",
    "\n",
    "X_test = test.drop('Diabetes_binary', axis = 1)\n",
    "y_test = test.Diabetes_binary\n",
    "\n",
    "\n",
    "ABmodel = AdaBoostClassifier()\n",
    "\n",
    "ABmodel.fit(X_train, y_train)\n",
    "\n",
    "ABpreds = ABmodel.predict(X_test)\n",
    "\n",
    "tn, fp, fn, tp = confusion_matrix(y_test, ABpreds).ravel()\n",
    "print('True negatives: ', tn, '\\nFalse positives: ', fp, '\\nFalse negatives: ', fn, '\\nTrue Positives: ', tp)\n",
    "\n",
    "print(classification_report(y_test, ABpreds))\n",
    "\n",
    "ABprobs = ABmodel.predict_proba(X_test)\n",
    "ABprobs = ABprobs[:, 1]\n",
    "ABloss = brier_score_loss(y_test, ABprobs)\n",
    "print(\"brier score:\", ABloss)"
   ]
  },
  {
   "cell_type": "code",
   "execution_count": null,
   "metadata": {
    "colab": {
     "base_uri": "https://localhost:8080/"
    },
    "id": "lIBrWlORsb8N",
    "outputId": "c6400c0e-4170-4f17-b5c8-60c940badd05"
   },
   "outputs": [
    {
     "name": "stdout",
     "output_type": "stream",
     "text": [
      "True negatives:  588 \n",
      "False positives:  73 \n",
      "False negatives:  120 \n",
      "True positives:  52\n",
      "              precision    recall  f1-score   support\n",
      "\n",
      "         0.0       0.83      0.89      0.86       661\n",
      "         1.0       0.42      0.30      0.35       172\n",
      "\n",
      "    accuracy                           0.77       833\n",
      "   macro avg       0.62      0.60      0.60       833\n",
      "weighted avg       0.74      0.77      0.75       833\n",
      "\n",
      "brier score: 0.24313979777881065\n"
     ]
    }
   ],
   "source": [
    "# Modeling with SMOTE-trasnformed data\n",
    "X_resampled, y_resampled = SMOTE().fit_resample(X_train,y_train)\n",
    "\n",
    "ABmodel2 = AdaBoostClassifier()\n",
    "\n",
    "ABmodel2.fit(X_resampled, y_resampled)\n",
    "\n",
    "ABpreds2 = ABmodel2.predict(X_test)\n",
    "\n",
    "tn, fp, fn, tp = confusion_matrix(y_test, ABpreds2).ravel()\n",
    "print('True negatives: ', tn, '\\nFalse positives: ', fp, '\\nFalse negatives: ', fn, '\\nTrue positives: ', tp)\n",
    "\n",
    "print(classification_report(y_test, ABpreds2))\n",
    "\n",
    "ABprobs2 = ABmodel2.predict_proba(X_test)\n",
    "ABprobs2 = ABprobs2[:, 1]\n",
    "ABloss2 = brier_score_loss(y_test, ABprobs2)\n",
    "print(\"brier score:\", ABloss2)"
   ]
  },
  {
   "cell_type": "markdown",
   "metadata": {
    "id": "XYHp_6Z2XDKr"
   },
   "source": [
    "# 9. Performing the above modeling steps, but instead using Coronary Heart Disease as the target variable"
   ]
  },
  {
   "cell_type": "markdown",
   "metadata": {
    "id": "GsCclPsEu92r"
   },
   "source": [
    "## 9.1 Modeling Heart Disease using Logistic Regression"
   ]
  },
  {
   "cell_type": "code",
   "execution_count": null,
   "metadata": {
    "colab": {
     "base_uri": "https://localhost:8080/"
    },
    "id": "CD0iPBQXeKNe",
    "outputId": "1e8112d6-f822-4694-9a42-6961e2eca9cf"
   },
   "outputs": [
    {
     "name": "stderr",
     "output_type": "stream",
     "text": [
      "/usr/local/lib/python3.7/dist-packages/sklearn/linear_model/_logistic.py:818: ConvergenceWarning: lbfgs failed to converge (status=1):\n",
      "STOP: TOTAL NO. of ITERATIONS REACHED LIMIT.\n",
      "\n",
      "Increase the number of iterations (max_iter) or scale the data as shown in:\n",
      "    https://scikit-learn.org/stable/modules/preprocessing.html\n",
      "Please also refer to the documentation for alternative solver options:\n",
      "    https://scikit-learn.org/stable/modules/linear_model.html#logistic-regression\n",
      "  extra_warning_msg=_LOGISTIC_SOLVER_CONVERGENCE_MSG,\n"
     ]
    }
   ],
   "source": [
    "train, test = train_test_split(brfss_binary, test_size = 0.3, stratify=brfss_binary.CoronaryHeartDisease)\n",
    "\n",
    "#X Y Split\n",
    "X_train = train.drop('CoronaryHeartDisease', axis = 1)\n",
    "y_train = train.CoronaryHeartDisease\n",
    "\n",
    "X_test = test.drop('CoronaryHeartDisease', axis = 1)\n",
    "y_test = test.CoronaryHeartDisease\n",
    "\n",
    "\n",
    "lrmodel = LogisticRegression()\n",
    "lrmodel.fit(X_train, y_train)\n",
    "lrpreds = lrmodel.predict(X_test)"
   ]
  },
  {
   "cell_type": "code",
   "execution_count": null,
   "metadata": {
    "colab": {
     "base_uri": "https://localhost:8080/"
    },
    "id": "rr2ykaN7eKQl",
    "outputId": "e11411d5-9527-4467-f1b5-110a762ae36b"
   },
   "outputs": [
    {
     "name": "stdout",
     "output_type": "stream",
     "text": [
      "True negatives:  760 \n",
      "False positives:  5 \n",
      "False negatives:  60 \n",
      "True Positives:  8\n"
     ]
    }
   ],
   "source": [
    "tn, fp, fn, tp = confusion_matrix(y_test, lrpreds).ravel()\n",
    "print('True negatives: ', tn, '\\nFalse positives: ', fp, '\\nFalse negatives: ', fn, '\\nTrue Positives: ', tp)"
   ]
  },
  {
   "cell_type": "code",
   "execution_count": null,
   "metadata": {
    "colab": {
     "base_uri": "https://localhost:8080/"
    },
    "id": "ERpiqwzceKTp",
    "outputId": "9275de1b-ccb6-4420-a6c8-f570475a20d9"
   },
   "outputs": [
    {
     "name": "stdout",
     "output_type": "stream",
     "text": [
      "              precision    recall  f1-score   support\n",
      "\n",
      "         0.0       0.93      0.99      0.96       765\n",
      "         1.0       0.62      0.12      0.20        68\n",
      "\n",
      "    accuracy                           0.92       833\n",
      "   macro avg       0.77      0.56      0.58       833\n",
      "weighted avg       0.90      0.92      0.90       833\n",
      "\n"
     ]
    }
   ],
   "source": [
    "print(classification_report(y_test, lrpreds))"
   ]
  },
  {
   "cell_type": "code",
   "execution_count": null,
   "metadata": {
    "colab": {
     "base_uri": "https://localhost:8080/"
    },
    "id": "RsZS4CoZf4Yo",
    "outputId": "562d45f5-e30b-464c-9713-323f14400c90"
   },
   "outputs": [
    {
     "name": "stdout",
     "output_type": "stream",
     "text": [
      "brier score: 0.06441022963797334\n"
     ]
    }
   ],
   "source": [
    "lrprobs = lrmodel.predict_proba(X_test)\n",
    "lrprobs = lrprobs[:, 1]\n",
    "lrloss = brier_score_loss(y_test, lrprobs)\n",
    "print(\"brier score:\", lrloss)"
   ]
  },
  {
   "cell_type": "code",
   "execution_count": null,
   "metadata": {
    "id": "RoGZBjN4eKYV"
   },
   "outputs": [],
   "source": [
    "X_resampled, y_resampled = SMOTE().fit_resample(X_train,y_train)"
   ]
  },
  {
   "cell_type": "code",
   "execution_count": null,
   "metadata": {
    "colab": {
     "base_uri": "https://localhost:8080/"
    },
    "id": "XxY3GXpLeKbf",
    "outputId": "fb0c56b9-f995-48d2-d2c5-822a4f55083b"
   },
   "outputs": [
    {
     "name": "stderr",
     "output_type": "stream",
     "text": [
      "/usr/local/lib/python3.7/dist-packages/sklearn/linear_model/_logistic.py:818: ConvergenceWarning: lbfgs failed to converge (status=1):\n",
      "STOP: TOTAL NO. of ITERATIONS REACHED LIMIT.\n",
      "\n",
      "Increase the number of iterations (max_iter) or scale the data as shown in:\n",
      "    https://scikit-learn.org/stable/modules/preprocessing.html\n",
      "Please also refer to the documentation for alternative solver options:\n",
      "    https://scikit-learn.org/stable/modules/linear_model.html#logistic-regression\n",
      "  extra_warning_msg=_LOGISTIC_SOLVER_CONVERGENCE_MSG,\n"
     ]
    }
   ],
   "source": [
    "lrmodel2 = LogisticRegression()\n",
    "lrmodel2.fit(X_resampled, y_resampled)\n",
    "\n",
    "lrpreds2 = lrmodel2.predict(X_test)"
   ]
  },
  {
   "cell_type": "code",
   "execution_count": null,
   "metadata": {
    "colab": {
     "base_uri": "https://localhost:8080/"
    },
    "id": "ZLpSo6X5eqUZ",
    "outputId": "d357dc36-6011-4494-c732-f876910cf41e"
   },
   "outputs": [
    {
     "name": "stdout",
     "output_type": "stream",
     "text": [
      "True negatives:  599 \n",
      "False positives:  166 \n",
      "False negatives:  26 \n",
      "True positives:  42\n"
     ]
    }
   ],
   "source": [
    "tn, fp, fn, tp = confusion_matrix(y_test, lrpreds2).ravel()\n",
    "print('True negatives: ', tn, '\\nFalse positives: ', fp, '\\nFalse negatives: ', fn, '\\nTrue positives: ', tp)"
   ]
  },
  {
   "cell_type": "code",
   "execution_count": null,
   "metadata": {
    "colab": {
     "base_uri": "https://localhost:8080/"
    },
    "id": "tdJecBOSeqXJ",
    "outputId": "e58e4144-cc9d-459a-db18-fcc1a427ef9f"
   },
   "outputs": [
    {
     "name": "stdout",
     "output_type": "stream",
     "text": [
      "              precision    recall  f1-score   support\n",
      "\n",
      "         0.0       0.96      0.78      0.86       765\n",
      "         1.0       0.20      0.62      0.30        68\n",
      "\n",
      "    accuracy                           0.77       833\n",
      "   macro avg       0.58      0.70      0.58       833\n",
      "weighted avg       0.90      0.77      0.82       833\n",
      "\n"
     ]
    }
   ],
   "source": [
    "print(classification_report(y_test, lrpreds2))"
   ]
  },
  {
   "cell_type": "code",
   "execution_count": null,
   "metadata": {
    "colab": {
     "base_uri": "https://localhost:8080/"
    },
    "id": "tZLEGnfgtkCi",
    "outputId": "18ed1e0b-ba18-479b-eee2-35b8db16de37"
   },
   "outputs": [
    {
     "name": "stdout",
     "output_type": "stream",
     "text": [
      "brier score: 0.16405104602564544\n"
     ]
    }
   ],
   "source": [
    "lrprobs2 = lrmodel2.predict_proba(X_test)\n",
    "lrprobs2 = lrprobs2[:, 1]\n",
    "lrloss2 = brier_score_loss(y_test, lrprobs2)\n",
    "print(\"brier score:\", lrloss2)"
   ]
  },
  {
   "cell_type": "markdown",
   "metadata": {
    "id": "XopW89T5vF2K"
   },
   "source": [
    "## 9.2 Modeling Heart Disease prediction with Random Forest"
   ]
  },
  {
   "cell_type": "code",
   "execution_count": null,
   "metadata": {
    "colab": {
     "base_uri": "https://localhost:8080/"
    },
    "id": "63CLX-i3xGqc",
    "outputId": "58232eb7-708f-4879-c721-a9a7a813fdc1"
   },
   "outputs": [
    {
     "name": "stdout",
     "output_type": "stream",
     "text": [
      "True negatives:  761 \n",
      "False positives:  4 \n",
      "False negatives:  65 \n",
      "True Positives:  3\n",
      "              precision    recall  f1-score   support\n",
      "\n",
      "         0.0       0.92      0.99      0.96       765\n",
      "         1.0       0.43      0.04      0.08        68\n",
      "\n",
      "    accuracy                           0.92       833\n",
      "   macro avg       0.67      0.52      0.52       833\n",
      "weighted avg       0.88      0.92      0.89       833\n",
      "\n",
      "brier score: 0.06785690276110444\n",
      "feature importances:\n",
      " BMI                  0.122672\n",
      "HeartAttack          0.103517\n",
      "Age                  0.092411\n",
      "Income               0.088524\n",
      "PhysHlth             0.072677\n",
      "GenHlth              0.072291\n",
      "Education            0.061489\n",
      "MentHlth             0.054722\n",
      "Stroke               0.035708\n",
      "HighChol             0.029786\n",
      "Fruits               0.029666\n",
      "Diabetes_binary      0.029314\n",
      "Smoker               0.029013\n",
      "PhysActivity         0.028758\n",
      "Veggies              0.027972\n",
      "DiffWalk             0.027735\n",
      "HighBP               0.025028\n",
      "Sex                  0.023822\n",
      "NoDocbcCost          0.016276\n",
      "KidneyDisease        0.012769\n",
      "HvyAlcoholConsump    0.007305\n",
      "AnyHealthcare        0.005741\n",
      "CholCheck            0.002803\n",
      "dtype: float64\n"
     ]
    }
   ],
   "source": [
    "# Modeling with Original Dataset\n",
    "X_train = train.drop('CoronaryHeartDisease', axis = 1)\n",
    "y_train = train.CoronaryHeartDisease\n",
    "\n",
    "X_test = test.drop('CoronaryHeartDisease', axis = 1)\n",
    "y_test = test.CoronaryHeartDisease\n",
    "\n",
    "\n",
    "rfmodel = RandomForestClassifier()\n",
    "\n",
    "rfmodel.fit(X_train, y_train)\n",
    "\n",
    "rfpreds = rfmodel.predict(X_test)\n",
    "\n",
    "tn, fp, fn, tp = confusion_matrix(y_test, rfpreds).ravel()\n",
    "print('True negatives: ', tn, '\\nFalse positives: ', fp, '\\nFalse negatives: ', fn, '\\nTrue Positives: ', tp)\n",
    "\n",
    "print(classification_report(y_test, rfpreds))\n",
    "\n",
    "rfprobs = rfmodel.predict_proba(X_test)\n",
    "rfprobs = rfprobs[:, 1]\n",
    "rfloss = brier_score_loss(y_test, rfprobs)\n",
    "print(\"brier score:\", rfloss)\n",
    "\n",
    "important_features = pd.Series(data=rfmodel.feature_importances_,index=X_test.columns)\n",
    "important_features.sort_values(ascending=False,inplace=True)\n",
    "print(\"feature importances:\\n\", important_features)"
   ]
  },
  {
   "cell_type": "code",
   "execution_count": null,
   "metadata": {
    "colab": {
     "base_uri": "https://localhost:8080/"
    },
    "id": "c43yXQEUxHY9",
    "outputId": "c8917a59-14fd-4027-c8b8-0558ae8740c0"
   },
   "outputs": [
    {
     "name": "stdout",
     "output_type": "stream",
     "text": [
      "True negatives:  755 \n",
      "False positives:  10 \n",
      "False negatives:  55 \n",
      "True positives:  13\n",
      "              precision    recall  f1-score   support\n",
      "\n",
      "         0.0       0.93      0.99      0.96       765\n",
      "         1.0       0.57      0.19      0.29        68\n",
      "\n",
      "    accuracy                           0.92       833\n",
      "   macro avg       0.75      0.59      0.62       833\n",
      "weighted avg       0.90      0.92      0.90       833\n",
      "\n",
      "brier score: 0.06796506602641056\n",
      "feature importances:\n",
      " HeartAttack          0.142519\n",
      "HighChol             0.129802\n",
      "HighBP               0.091394\n",
      "GenHlth              0.074026\n",
      "Age                  0.056948\n",
      "DiffWalk             0.055304\n",
      "Diabetes_binary      0.050638\n",
      "Smoker               0.044774\n",
      "Veggies              0.043242\n",
      "PhysActivity         0.040051\n",
      "BMI                  0.037868\n",
      "Education            0.033567\n",
      "Income               0.033078\n",
      "Fruits               0.032660\n",
      "PhysHlth             0.030586\n",
      "Stroke               0.029744\n",
      "Sex                  0.028754\n",
      "MentHlth             0.016358\n",
      "NoDocbcCost          0.012214\n",
      "KidneyDisease        0.007015\n",
      "HvyAlcoholConsump    0.005163\n",
      "AnyHealthcare        0.003147\n",
      "CholCheck            0.001148\n",
      "dtype: float64\n"
     ]
    }
   ],
   "source": [
    "# Modeling with SMOTE-trasnformed data\n",
    "X_resampled, y_resampled = SMOTE().fit_resample(X_train,y_train)\n",
    "\n",
    "rfmodel2 = RandomForestClassifier()\n",
    "\n",
    "rfmodel2.fit(X_resampled, y_resampled)\n",
    "\n",
    "rfpreds2 = rfmodel2.predict(X_test)\n",
    "\n",
    "tn, fp, fn, tp = confusion_matrix(y_test, rfpreds2).ravel()\n",
    "print('True negatives: ', tn, '\\nFalse positives: ', fp, '\\nFalse negatives: ', fn, '\\nTrue positives: ', tp)\n",
    "\n",
    "print(classification_report(y_test, rfpreds2))\n",
    "\n",
    "rfprobs2 = rfmodel2.predict_proba(X_test)\n",
    "rfprobs2 = rfprobs2[:, 1]\n",
    "rfloss2 = brier_score_loss(y_test, rfprobs2)\n",
    "print(\"brier score:\", rfloss2)\n",
    "\n",
    "important_features = pd.Series(data=rfmodel2.feature_importances_,index=X_test.columns)\n",
    "important_features.sort_values(ascending=False,inplace=True)\n",
    "print(\"feature importances:\\n\", important_features)"
   ]
  },
  {
   "cell_type": "markdown",
   "metadata": {
    "id": "cQcVqerRvF-I"
   },
   "source": [
    "## 9.3 Modeling Heart Disease prediction with a Multi Layer Perceptron"
   ]
  },
  {
   "cell_type": "code",
   "execution_count": null,
   "metadata": {
    "colab": {
     "base_uri": "https://localhost:8080/"
    },
    "id": "2mN2HTxOxICq",
    "outputId": "652ac499-2e5f-4960-cb35-454f69079cd6"
   },
   "outputs": [
    {
     "name": "stdout",
     "output_type": "stream",
     "text": [
      "True negatives:  752 \n",
      "False positives:  13 \n",
      "False negatives:  57 \n",
      "True Positives:  11\n",
      "              precision    recall  f1-score   support\n",
      "\n",
      "         0.0       0.93      0.98      0.96       765\n",
      "         1.0       0.46      0.16      0.24        68\n",
      "\n",
      "    accuracy                           0.92       833\n",
      "   macro avg       0.69      0.57      0.60       833\n",
      "weighted avg       0.89      0.92      0.90       833\n",
      "\n",
      "brier score: 0.06935675920362855\n"
     ]
    },
    {
     "name": "stderr",
     "output_type": "stream",
     "text": [
      "/usr/local/lib/python3.7/dist-packages/sklearn/neural_network/_multilayer_perceptron.py:696: ConvergenceWarning: Stochastic Optimizer: Maximum iterations (200) reached and the optimization hasn't converged yet.\n",
      "  ConvergenceWarning,\n"
     ]
    }
   ],
   "source": [
    "# Modeling with Original Dataset\n",
    "X_train = train.drop('CoronaryHeartDisease', axis = 1)\n",
    "y_train = train.CoronaryHeartDisease\n",
    "\n",
    "X_test = test.drop('CoronaryHeartDisease', axis = 1)\n",
    "y_test = test.CoronaryHeartDisease\n",
    "\n",
    "\n",
    "MLPmodel = MLPClassifier()\n",
    "\n",
    "MLPmodel.fit(X_train, y_train)\n",
    "\n",
    "MLPpreds = MLPmodel.predict(X_test)\n",
    "\n",
    "tn, fp, fn, tp = confusion_matrix(y_test, MLPpreds).ravel()\n",
    "print('True negatives: ', tn, '\\nFalse positives: ', fp, '\\nFalse negatives: ', fn, '\\nTrue Positives: ', tp)\n",
    "\n",
    "print(classification_report(y_test, MLPpreds))\n",
    "\n",
    "MLPprobs = MLPmodel.predict_proba(X_test)\n",
    "MLPprobs = MLPprobs[:, 1]\n",
    "MLPloss = brier_score_loss(y_test, MLPprobs)\n",
    "print(\"brier score:\", MLPloss)"
   ]
  },
  {
   "cell_type": "code",
   "execution_count": null,
   "metadata": {
    "colab": {
     "base_uri": "https://localhost:8080/"
    },
    "id": "vAUD2uHuxIZT",
    "outputId": "52d0c169-4eea-4d6a-d240-f5842aeb495b"
   },
   "outputs": [
    {
     "name": "stdout",
     "output_type": "stream",
     "text": [
      "True negatives:  675 \n",
      "False positives:  90 \n",
      "False negatives:  44 \n",
      "True positives:  24\n",
      "              precision    recall  f1-score   support\n",
      "\n",
      "         0.0       0.94      0.88      0.91       765\n",
      "         1.0       0.21      0.35      0.26        68\n",
      "\n",
      "    accuracy                           0.84       833\n",
      "   macro avg       0.57      0.62      0.59       833\n",
      "weighted avg       0.88      0.84      0.86       833\n",
      "\n",
      "brier score: 0.11977637489343855\n"
     ]
    },
    {
     "name": "stderr",
     "output_type": "stream",
     "text": [
      "/usr/local/lib/python3.7/dist-packages/sklearn/neural_network/_multilayer_perceptron.py:696: ConvergenceWarning: Stochastic Optimizer: Maximum iterations (200) reached and the optimization hasn't converged yet.\n",
      "  ConvergenceWarning,\n"
     ]
    }
   ],
   "source": [
    "# Modeling with SMOTE-trasnformed data\n",
    "X_resampled, y_resampled = SMOTE().fit_resample(X_train,y_train)\n",
    "\n",
    "MLPmodel2 = MLPClassifier()\n",
    "\n",
    "MLPmodel2.fit(X_resampled, y_resampled)\n",
    "\n",
    "MLPpreds2 = MLPmodel2.predict(X_test)\n",
    "\n",
    "tn, fp, fn, tp = confusion_matrix(y_test, MLPpreds2).ravel()\n",
    "print('True negatives: ', tn, '\\nFalse positives: ', fp, '\\nFalse negatives: ', fn, '\\nTrue positives: ', tp)\n",
    "\n",
    "print(classification_report(y_test, MLPpreds2))\n",
    "\n",
    "MLPprobs2 = MLPmodel2.predict_proba(X_test)\n",
    "MLPprobs2 = MLPprobs2[:, 1]\n",
    "MLPloss2 = brier_score_loss(y_test, MLPprobs2)\n",
    "print(\"brier score:\", MLPloss2)"
   ]
  },
  {
   "cell_type": "markdown",
   "metadata": {
    "id": "AdpVvdyHvGBc"
   },
   "source": [
    "## 9.4 Modeling Heart Disease prediction with a Support Vector Machine Classifier"
   ]
  },
  {
   "cell_type": "code",
   "execution_count": null,
   "metadata": {
    "colab": {
     "base_uri": "https://localhost:8080/"
    },
    "id": "bHnfv7TrxI-T",
    "outputId": "4f560dc6-f439-4b83-fd5c-4dc756604565"
   },
   "outputs": [
    {
     "name": "stdout",
     "output_type": "stream",
     "text": [
      "True negatives:  765 \n",
      "False positives:  0 \n",
      "False negatives:  68 \n",
      "True Positives:  0\n",
      "              precision    recall  f1-score   support\n",
      "\n",
      "         0.0       0.92      1.00      0.96       765\n",
      "         1.0       0.00      0.00      0.00        68\n",
      "\n",
      "    accuracy                           0.92       833\n",
      "   macro avg       0.46      0.50      0.48       833\n",
      "weighted avg       0.84      0.92      0.88       833\n",
      "\n",
      "brier score: 0.07151212527303313\n"
     ]
    },
    {
     "name": "stderr",
     "output_type": "stream",
     "text": [
      "/usr/local/lib/python3.7/dist-packages/sklearn/metrics/_classification.py:1318: UndefinedMetricWarning: Precision and F-score are ill-defined and being set to 0.0 in labels with no predicted samples. Use `zero_division` parameter to control this behavior.\n",
      "  _warn_prf(average, modifier, msg_start, len(result))\n",
      "/usr/local/lib/python3.7/dist-packages/sklearn/metrics/_classification.py:1318: UndefinedMetricWarning: Precision and F-score are ill-defined and being set to 0.0 in labels with no predicted samples. Use `zero_division` parameter to control this behavior.\n",
      "  _warn_prf(average, modifier, msg_start, len(result))\n",
      "/usr/local/lib/python3.7/dist-packages/sklearn/metrics/_classification.py:1318: UndefinedMetricWarning: Precision and F-score are ill-defined and being set to 0.0 in labels with no predicted samples. Use `zero_division` parameter to control this behavior.\n",
      "  _warn_prf(average, modifier, msg_start, len(result))\n"
     ]
    }
   ],
   "source": [
    "# Modeling with Original Dataset\n",
    "X_train = train.drop('CoronaryHeartDisease', axis = 1)\n",
    "y_train = train.CoronaryHeartDisease\n",
    "\n",
    "X_test = test.drop('CoronaryHeartDisease', axis = 1)\n",
    "y_test = test.CoronaryHeartDisease\n",
    "\n",
    "\n",
    "SVCmodel = SVC(probability=True)\n",
    "\n",
    "SVCmodel.fit(X_train, y_train)\n",
    "\n",
    "SVCpreds = SVCmodel.predict(X_test)\n",
    "\n",
    "tn, fp, fn, tp = confusion_matrix(y_test, SVCpreds).ravel()\n",
    "print('True negatives: ', tn, '\\nFalse positives: ', fp, '\\nFalse negatives: ', fn, '\\nTrue Positives: ', tp)\n",
    "\n",
    "print(classification_report(y_test, SVCpreds))\n",
    "\n",
    "SVCprobs = SVCmodel.predict_proba(X_test)\n",
    "SVCprobs = SVCprobs[:, 1]\n",
    "SVCloss = brier_score_loss(y_test, SVCprobs)\n",
    "print(\"brier score:\", SVCloss)"
   ]
  },
  {
   "cell_type": "code",
   "execution_count": null,
   "metadata": {
    "colab": {
     "base_uri": "https://localhost:8080/"
    },
    "id": "kbfbb_ndxI2N",
    "outputId": "af0145ce-15d4-4560-acde-e5897059b0ff"
   },
   "outputs": [
    {
     "name": "stdout",
     "output_type": "stream",
     "text": [
      "True negatives:  510 \n",
      "False positives:  255 \n",
      "False negatives:  16 \n",
      "True positives:  52\n",
      "              precision    recall  f1-score   support\n",
      "\n",
      "         0.0       0.97      0.67      0.79       765\n",
      "         1.0       0.17      0.76      0.28        68\n",
      "\n",
      "    accuracy                           0.67       833\n",
      "   macro avg       0.57      0.72      0.53       833\n",
      "weighted avg       0.90      0.67      0.75       833\n",
      "\n",
      "brier score: 0.19130102560831133\n"
     ]
    }
   ],
   "source": [
    "# Modeling with SMOTE-trasnformed data\n",
    "X_resampled, y_resampled = SMOTE().fit_resample(X_train,y_train)\n",
    "\n",
    "SVCmodel2 = SVC(probability=True)\n",
    "\n",
    "SVCmodel2.fit(X_resampled, y_resampled)\n",
    "\n",
    "SVCpreds2 = SVCmodel2.predict(X_test)\n",
    "\n",
    "tn, fp, fn, tp = confusion_matrix(y_test, SVCpreds2).ravel()\n",
    "print('True negatives: ', tn, '\\nFalse positives: ', fp, '\\nFalse negatives: ', fn, '\\nTrue positives: ', tp)\n",
    "\n",
    "print(classification_report(y_test, SVCpreds2))\n",
    "\n",
    "SVCprobs2 = SVCmodel2.predict_proba(X_test)\n",
    "SVCprobs2 = SVCprobs2[:, 1]\n",
    "SVCloss2 = brier_score_loss(y_test, SVCprobs2)\n",
    "print(\"brier score:\", SVCloss2)"
   ]
  },
  {
   "cell_type": "markdown",
   "metadata": {
    "id": "zmZeF9ejvGEd"
   },
   "source": [
    "## 9.5 Modeling Heart Disease prediction using K Neighbors"
   ]
  },
  {
   "cell_type": "code",
   "execution_count": null,
   "metadata": {
    "colab": {
     "base_uri": "https://localhost:8080/"
    },
    "id": "pLY_wfBHxJwR",
    "outputId": "82b4fef7-7eb7-4ada-9d36-b438fad25d40"
   },
   "outputs": [
    {
     "name": "stdout",
     "output_type": "stream",
     "text": [
      "True negatives:  760 \n",
      "False positives:  5 \n",
      "False negatives:  65 \n",
      "True Positives:  3\n",
      "              precision    recall  f1-score   support\n",
      "\n",
      "         0.0       0.92      0.99      0.96       765\n",
      "         1.0       0.38      0.04      0.08        68\n",
      "\n",
      "    accuracy                           0.92       833\n",
      "   macro avg       0.65      0.52      0.52       833\n",
      "weighted avg       0.88      0.92      0.88       833\n",
      "\n",
      "brier score: 0.07452581032412965\n"
     ]
    }
   ],
   "source": [
    "# Modeling with Original Dataset\n",
    "X_train = train.drop('CoronaryHeartDisease', axis = 1)\n",
    "y_train = train.CoronaryHeartDisease\n",
    "\n",
    "X_test = test.drop('CoronaryHeartDisease', axis = 1)\n",
    "y_test = test.CoronaryHeartDisease\n",
    "\n",
    "\n",
    "knmodel = KNeighborsClassifier()\n",
    "\n",
    "knmodel.fit(X_train, y_train)\n",
    "\n",
    "knpreds = knmodel.predict(X_test)\n",
    "\n",
    "tn, fp, fn, tp = confusion_matrix(y_test, knpreds).ravel()\n",
    "print('True negatives: ', tn, '\\nFalse positives: ', fp, '\\nFalse negatives: ', fn, '\\nTrue Positives: ', tp)\n",
    "\n",
    "print(classification_report(y_test, knpreds))\n",
    "\n",
    "knprobs = knmodel.predict_proba(X_test)\n",
    "knprobs = knprobs[:, 1]\n",
    "knloss = brier_score_loss(y_test, knprobs)\n",
    "print(\"brier score:\", knloss)"
   ]
  },
  {
   "cell_type": "code",
   "execution_count": null,
   "metadata": {
    "colab": {
     "base_uri": "https://localhost:8080/"
    },
    "id": "iubEO7VZxJnl",
    "outputId": "c62eade2-b9a4-4b46-b829-322f09d1bdf8"
   },
   "outputs": [
    {
     "name": "stdout",
     "output_type": "stream",
     "text": [
      "True negatives:  518 \n",
      "False positives:  247 \n",
      "False negatives:  25 \n",
      "True positives:  43\n",
      "              precision    recall  f1-score   support\n",
      "\n",
      "         0.0       0.95      0.68      0.79       765\n",
      "         1.0       0.15      0.63      0.24        68\n",
      "\n",
      "    accuracy                           0.67       833\n",
      "   macro avg       0.55      0.65      0.52       833\n",
      "weighted avg       0.89      0.67      0.75       833\n",
      "\n",
      "brier score: 0.23433373349339734\n"
     ]
    }
   ],
   "source": [
    "# Modeling with SMOTE-trasnformed data\n",
    "X_resampled, y_resampled = SMOTE().fit_resample(X_train,y_train)\n",
    "\n",
    "knmodel2 = KNeighborsClassifier()\n",
    "\n",
    "knmodel2.fit(X_resampled, y_resampled)\n",
    "\n",
    "knpreds2 = knmodel2.predict(X_test)\n",
    "\n",
    "tn, fp, fn, tp = confusion_matrix(y_test, knpreds2).ravel()\n",
    "print('True negatives: ', tn, '\\nFalse positives: ', fp, '\\nFalse negatives: ', fn, '\\nTrue positives: ', tp)\n",
    "\n",
    "print(classification_report(y_test, knpreds2))\n",
    "\n",
    "knprobs2 = knmodel2.predict_proba(X_test)\n",
    "knprobs2 = knprobs2[:, 1]\n",
    "knloss2 = brier_score_loss(y_test, knprobs2)\n",
    "print(\"brier score:\", knloss2)"
   ]
  },
  {
   "cell_type": "markdown",
   "metadata": {
    "id": "tuznahF2vGHu"
   },
   "source": [
    "## 9.6 Modeling Heart Disease prediction using a Gaussian Process Classifier"
   ]
  },
  {
   "cell_type": "code",
   "execution_count": null,
   "metadata": {
    "colab": {
     "base_uri": "https://localhost:8080/"
    },
    "id": "c7yDp90WxKq9",
    "outputId": "3a0f6473-62c2-4e90-8339-1597cc9621a9"
   },
   "outputs": [
    {
     "name": "stdout",
     "output_type": "stream",
     "text": [
      "True negatives:  735 \n",
      "False positives:  30 \n",
      "False negatives:  61 \n",
      "True Positives:  7\n",
      "              precision    recall  f1-score   support\n",
      "\n",
      "         0.0       0.92      0.96      0.94       765\n",
      "         1.0       0.19      0.10      0.13        68\n",
      "\n",
      "    accuracy                           0.89       833\n",
      "   macro avg       0.56      0.53      0.54       833\n",
      "weighted avg       0.86      0.89      0.88       833\n",
      "\n",
      "brier score: 0.2222047963294742\n"
     ]
    }
   ],
   "source": [
    "# Modeling with Original Dataset\n",
    "X_train = train.drop('CoronaryHeartDisease', axis = 1)\n",
    "y_train = train.CoronaryHeartDisease\n",
    "\n",
    "X_test = test.drop('CoronaryHeartDisease', axis = 1)\n",
    "y_test = test.CoronaryHeartDisease\n",
    "\n",
    "\n",
    "gpmodel = GaussianProcessClassifier()\n",
    "\n",
    "gpmodel.fit(X_train, y_train)\n",
    "\n",
    "gppreds = gpmodel.predict(X_test)\n",
    "\n",
    "tn, fp, fn, tp = confusion_matrix(y_test, gppreds).ravel()\n",
    "print('True negatives: ', tn, '\\nFalse positives: ', fp, '\\nFalse negatives: ', fn, '\\nTrue Positives: ', tp)\n",
    "\n",
    "print(classification_report(y_test, gppreds))\n",
    "\n",
    "gpprobs = gpmodel.predict_proba(X_test)\n",
    "gpprobs = gpprobs[:, 1]\n",
    "gploss = brier_score_loss(y_test, gpprobs)\n",
    "print(\"brier score:\", gploss)"
   ]
  },
  {
   "cell_type": "code",
   "execution_count": null,
   "metadata": {
    "colab": {
     "base_uri": "https://localhost:8080/"
    },
    "id": "WcjIkFmCxKih",
    "outputId": "fe8ea67e-3455-41e1-c495-2ca904b92d95"
   },
   "outputs": [
    {
     "name": "stdout",
     "output_type": "stream",
     "text": [
      "True negatives:  622 \n",
      "False positives:  143 \n",
      "False negatives:  32 \n",
      "True positives:  36\n",
      "              precision    recall  f1-score   support\n",
      "\n",
      "         0.0       0.95      0.81      0.88       765\n",
      "         1.0       0.20      0.53      0.29        68\n",
      "\n",
      "    accuracy                           0.79       833\n",
      "   macro avg       0.58      0.67      0.58       833\n",
      "weighted avg       0.89      0.79      0.83       833\n",
      "\n",
      "brier score: 0.23038931835933701\n"
     ]
    }
   ],
   "source": [
    "# Modeling with SMOTE-trasnformed data\n",
    "X_resampled, y_resampled = SMOTE().fit_resample(X_train,y_train)\n",
    "\n",
    "gpmodel2 = GaussianProcessClassifier()\n",
    "\n",
    "gpmodel2.fit(X_resampled, y_resampled)\n",
    "\n",
    "gppreds2 = gpmodel2.predict(X_test)\n",
    "\n",
    "tn, fp, fn, tp = confusion_matrix(y_test, gppreds2).ravel()\n",
    "print('True negatives: ', tn, '\\nFalse positives: ', fp, '\\nFalse negatives: ', fn, '\\nTrue positives: ', tp)\n",
    "\n",
    "print(classification_report(y_test, gppreds2))\n",
    "\n",
    "gpprobs2 = gpmodel2.predict_proba(X_test)\n",
    "gpprobs2 = gpprobs2[:, 1]\n",
    "gploss2 = brier_score_loss(y_test, gpprobs2)\n",
    "print(\"brier score:\", gploss2)"
   ]
  },
  {
   "cell_type": "markdown",
   "metadata": {
    "id": "Ap7prowFvGK8"
   },
   "source": [
    "## 9.7 Modeling Heart Disease prediction using an AdaBoost Classifier"
   ]
  },
  {
   "cell_type": "code",
   "execution_count": null,
   "metadata": {
    "colab": {
     "base_uri": "https://localhost:8080/"
    },
    "id": "HQWoH_GKxLoY",
    "outputId": "f90f2287-db00-4bba-b8c1-ecf9a1f207c4"
   },
   "outputs": [
    {
     "name": "stdout",
     "output_type": "stream",
     "text": [
      "True negatives:  752 \n",
      "False positives:  13 \n",
      "False negatives:  57 \n",
      "True Positives:  11\n",
      "              precision    recall  f1-score   support\n",
      "\n",
      "         0.0       0.93      0.98      0.96       765\n",
      "         1.0       0.46      0.16      0.24        68\n",
      "\n",
      "    accuracy                           0.92       833\n",
      "   macro avg       0.69      0.57      0.60       833\n",
      "weighted avg       0.89      0.92      0.90       833\n",
      "\n",
      "brier score: 0.23060975024560487\n"
     ]
    }
   ],
   "source": [
    "# Modeling with Original Dataset\n",
    "X_train = train.drop('CoronaryHeartDisease', axis = 1)\n",
    "y_train = train.CoronaryHeartDisease\n",
    "\n",
    "X_test = test.drop('CoronaryHeartDisease', axis = 1)\n",
    "y_test = test.CoronaryHeartDisease\n",
    "\n",
    "\n",
    "ABmodel = AdaBoostClassifier()\n",
    "\n",
    "ABmodel.fit(X_train, y_train)\n",
    "\n",
    "ABpreds = ABmodel.predict(X_test)\n",
    "\n",
    "tn, fp, fn, tp = confusion_matrix(y_test, ABpreds).ravel()\n",
    "print('True negatives: ', tn, '\\nFalse positives: ', fp, '\\nFalse negatives: ', fn, '\\nTrue Positives: ', tp)\n",
    "\n",
    "print(classification_report(y_test, ABpreds))\n",
    "\n",
    "ABprobs = ABmodel.predict_proba(X_test)\n",
    "ABprobs = ABprobs[:, 1]\n",
    "ABloss = brier_score_loss(y_test, ABprobs)\n",
    "print(\"brier score:\", ABloss)"
   ]
  },
  {
   "cell_type": "code",
   "execution_count": null,
   "metadata": {
    "colab": {
     "base_uri": "https://localhost:8080/"
    },
    "id": "iL79__Y1xLhZ",
    "outputId": "28c49514-7e3e-4f56-91e7-c3dcee33c8ac"
   },
   "outputs": [
    {
     "name": "stdout",
     "output_type": "stream",
     "text": [
      "True negatives:  740 \n",
      "False positives:  25 \n",
      "False negatives:  55 \n",
      "True positives:  13\n",
      "              precision    recall  f1-score   support\n",
      "\n",
      "         0.0       0.93      0.97      0.95       765\n",
      "         1.0       0.34      0.19      0.25        68\n",
      "\n",
      "    accuracy                           0.90       833\n",
      "   macro avg       0.64      0.58      0.60       833\n",
      "weighted avg       0.88      0.90      0.89       833\n",
      "\n",
      "brier score: 0.23550021268510177\n"
     ]
    }
   ],
   "source": [
    "# Modeling with SMOTE-trasnformed data\n",
    "X_resampled, y_resampled = SMOTE().fit_resample(X_train,y_train)\n",
    "\n",
    "ABmodel2 = AdaBoostClassifier()\n",
    "\n",
    "ABmodel2.fit(X_resampled, y_resampled)\n",
    "\n",
    "ABpreds2 = ABmodel2.predict(X_test)\n",
    "\n",
    "tn, fp, fn, tp = confusion_matrix(y_test, ABpreds2).ravel()\n",
    "print('True negatives: ', tn, '\\nFalse positives: ', fp, '\\nFalse negatives: ', fn, '\\nTrue positives: ', tp)\n",
    "\n",
    "print(classification_report(y_test, ABpreds2))\n",
    "\n",
    "ABprobs2 = ABmodel2.predict_proba(X_test)\n",
    "ABprobs2 = ABprobs2[:, 1]\n",
    "ABloss2 = brier_score_loss(y_test, ABprobs2)\n",
    "print(\"brier score:\", ABloss2)"
   ]
  },
  {
   "cell_type": "markdown",
   "metadata": {
    "id": "XSKQNiUKto5K"
   },
   "source": [
    "# 10. Performing the above modeling steps, but instead using Stroke as the target variable"
   ]
  },
  {
   "cell_type": "markdown",
   "metadata": {
    "id": "ao4ibZH9xQAD"
   },
   "source": [
    "## 10.1 Modeling Stroke prediction using Logistic Regression"
   ]
  },
  {
   "cell_type": "code",
   "execution_count": null,
   "metadata": {
    "colab": {
     "base_uri": "https://localhost:8080/"
    },
    "id": "Led2ntUCtkHN",
    "outputId": "0eba8f43-1de4-4a86-f36c-3a963f5360e6"
   },
   "outputs": [
    {
     "name": "stderr",
     "output_type": "stream",
     "text": [
      "/usr/local/lib/python3.7/dist-packages/sklearn/linear_model/_logistic.py:818: ConvergenceWarning: lbfgs failed to converge (status=1):\n",
      "STOP: TOTAL NO. of ITERATIONS REACHED LIMIT.\n",
      "\n",
      "Increase the number of iterations (max_iter) or scale the data as shown in:\n",
      "    https://scikit-learn.org/stable/modules/preprocessing.html\n",
      "Please also refer to the documentation for alternative solver options:\n",
      "    https://scikit-learn.org/stable/modules/linear_model.html#logistic-regression\n",
      "  extra_warning_msg=_LOGISTIC_SOLVER_CONVERGENCE_MSG,\n"
     ]
    }
   ],
   "source": [
    "train, test = train_test_split(brfss_binary, test_size = 0.3, stratify=brfss_binary.Stroke)\n",
    "\n",
    "#X Y Split\n",
    "X_train = train.drop('Stroke', axis = 1)\n",
    "y_train = train.Stroke\n",
    "\n",
    "X_test = test.drop('Stroke', axis = 1)\n",
    "y_test = test.Stroke\n",
    "\n",
    "\n",
    "lrmodel = LogisticRegression()\n",
    "lrmodel.fit(X_train, y_train)\n",
    "lrpreds = lrmodel.predict(X_test)"
   ]
  },
  {
   "cell_type": "code",
   "execution_count": null,
   "metadata": {
    "colab": {
     "base_uri": "https://localhost:8080/"
    },
    "id": "7tpxZh2ztkLJ",
    "outputId": "8894d485-aae4-42ec-ce2d-050502c3b583"
   },
   "outputs": [
    {
     "name": "stdout",
     "output_type": "stream",
     "text": [
      "True negatives:  782 \n",
      "False positives:  1 \n",
      "False negatives:  50 \n",
      "True Positives:  0\n"
     ]
    }
   ],
   "source": [
    "tn, fp, fn, tp = confusion_matrix(y_test, lrpreds).ravel()\n",
    "print('True negatives: ', tn, '\\nFalse positives: ', fp, '\\nFalse negatives: ', fn, '\\nTrue Positives: ', tp)"
   ]
  },
  {
   "cell_type": "code",
   "execution_count": null,
   "metadata": {
    "colab": {
     "base_uri": "https://localhost:8080/"
    },
    "id": "Xo_lofostkO1",
    "outputId": "48b7d052-fd41-4de3-90cd-7a8d1de0d12f"
   },
   "outputs": [
    {
     "name": "stdout",
     "output_type": "stream",
     "text": [
      "              precision    recall  f1-score   support\n",
      "\n",
      "         0.0       0.94      1.00      0.97       783\n",
      "         1.0       0.00      0.00      0.00        50\n",
      "\n",
      "    accuracy                           0.94       833\n",
      "   macro avg       0.47      0.50      0.48       833\n",
      "weighted avg       0.88      0.94      0.91       833\n",
      "\n"
     ]
    }
   ],
   "source": [
    "print(classification_report(y_test, lrpreds))"
   ]
  },
  {
   "cell_type": "code",
   "execution_count": null,
   "metadata": {
    "colab": {
     "base_uri": "https://localhost:8080/"
    },
    "id": "0Yg72MJjf7Cp",
    "outputId": "ebfa96f0-3757-4d13-e1b7-b2bb5911d383"
   },
   "outputs": [
    {
     "name": "stdout",
     "output_type": "stream",
     "text": [
      "brier score: 0.0510368025137522\n"
     ]
    }
   ],
   "source": [
    "lrprobs = lrmodel.predict_proba(X_test)\n",
    "lrprobs = lrprobs[:, 1]\n",
    "lrloss = brier_score_loss(y_test, lrprobs)\n",
    "print(\"brier score:\", lrloss)"
   ]
  },
  {
   "cell_type": "code",
   "execution_count": null,
   "metadata": {
    "id": "2AUGTpfHvTtr"
   },
   "outputs": [],
   "source": [
    "X_resampled, y_resampled = SMOTE().fit_resample(X_train,y_train)"
   ]
  },
  {
   "cell_type": "code",
   "execution_count": null,
   "metadata": {
    "colab": {
     "base_uri": "https://localhost:8080/"
    },
    "id": "OWvSD9cBvTwQ",
    "outputId": "23f90929-2c02-46e2-dc4f-c64844074530"
   },
   "outputs": [
    {
     "name": "stderr",
     "output_type": "stream",
     "text": [
      "/usr/local/lib/python3.7/dist-packages/sklearn/linear_model/_logistic.py:818: ConvergenceWarning: lbfgs failed to converge (status=1):\n",
      "STOP: TOTAL NO. of ITERATIONS REACHED LIMIT.\n",
      "\n",
      "Increase the number of iterations (max_iter) or scale the data as shown in:\n",
      "    https://scikit-learn.org/stable/modules/preprocessing.html\n",
      "Please also refer to the documentation for alternative solver options:\n",
      "    https://scikit-learn.org/stable/modules/linear_model.html#logistic-regression\n",
      "  extra_warning_msg=_LOGISTIC_SOLVER_CONVERGENCE_MSG,\n"
     ]
    }
   ],
   "source": [
    "lrmodel2 = LogisticRegression()\n",
    "lrmodel2.fit(X_resampled, y_resampled)\n",
    "\n",
    "lrpreds2 = lrmodel2.predict(X_test)"
   ]
  },
  {
   "cell_type": "code",
   "execution_count": null,
   "metadata": {
    "colab": {
     "base_uri": "https://localhost:8080/"
    },
    "id": "Xbj0s66EtkSY",
    "outputId": "69bc7e19-4701-4cb5-b126-6214b2290a1d"
   },
   "outputs": [
    {
     "name": "stdout",
     "output_type": "stream",
     "text": [
      "True negatives:  593 \n",
      "False positives:  190 \n",
      "False negatives:  15 \n",
      "True positives:  35\n"
     ]
    }
   ],
   "source": [
    "tn, fp, fn, tp = confusion_matrix(y_test, lrpreds2).ravel()\n",
    "print('True negatives: ', tn, '\\nFalse positives: ', fp, '\\nFalse negatives: ', fn, '\\nTrue positives: ', tp)"
   ]
  },
  {
   "cell_type": "code",
   "execution_count": null,
   "metadata": {
    "colab": {
     "base_uri": "https://localhost:8080/"
    },
    "id": "nXi4LcCDvdtG",
    "outputId": "15256cb9-7d88-468c-de64-6d93d815e245"
   },
   "outputs": [
    {
     "name": "stdout",
     "output_type": "stream",
     "text": [
      "              precision    recall  f1-score   support\n",
      "\n",
      "         0.0       0.98      0.76      0.85       783\n",
      "         1.0       0.16      0.70      0.25        50\n",
      "\n",
      "    accuracy                           0.75       833\n",
      "   macro avg       0.57      0.73      0.55       833\n",
      "weighted avg       0.93      0.75      0.82       833\n",
      "\n"
     ]
    }
   ],
   "source": [
    "print(classification_report(y_test, lrpreds2))"
   ]
  },
  {
   "cell_type": "code",
   "execution_count": null,
   "metadata": {
    "colab": {
     "base_uri": "https://localhost:8080/"
    },
    "id": "RmtmQ3X5fkR9",
    "outputId": "f72232ce-f286-4221-8f9f-690cd12917a6"
   },
   "outputs": [
    {
     "name": "stdout",
     "output_type": "stream",
     "text": [
      "brier score: 0.17580419715684906\n"
     ]
    }
   ],
   "source": [
    "lrprobs2 = lrmodel2.predict_proba(X_test)\n",
    "lrprobs2 = lrprobs2[:, 1]\n",
    "lrloss2 = brier_score_loss(y_test, lrprobs2)\n",
    "print(\"brier score:\", lrloss2)"
   ]
  },
  {
   "cell_type": "markdown",
   "metadata": {
    "id": "zBSA_3zcxdG7"
   },
   "source": [
    "## 10.2 Modeling Stroke prediction with Random Forest"
   ]
  },
  {
   "cell_type": "code",
   "execution_count": null,
   "metadata": {
    "colab": {
     "base_uri": "https://localhost:8080/"
    },
    "id": "0fSxXzXc0JUH",
    "outputId": "e38af939-27e9-4831-efa4-06bc67f1806a"
   },
   "outputs": [
    {
     "name": "stdout",
     "output_type": "stream",
     "text": [
      "True negatives:  783 \n",
      "False positives:  0 \n",
      "False negatives:  50 \n",
      "True Positives:  0\n",
      "              precision    recall  f1-score   support\n",
      "\n",
      "         0.0       0.94      1.00      0.97       783\n",
      "         1.0       0.00      0.00      0.00        50\n",
      "\n",
      "    accuracy                           0.94       833\n",
      "   macro avg       0.47      0.50      0.48       833\n",
      "weighted avg       0.88      0.94      0.91       833\n",
      "\n",
      "brier score: 0.0519501800720288\n",
      "feature importances:\n",
      " BMI                     0.136023\n",
      "Age                     0.096492\n",
      "Income                  0.091986\n",
      "PhysHlth                0.080336\n",
      "GenHlth                 0.069588\n",
      "Education               0.063874\n",
      "MentHlth                0.051466\n",
      "HeartAttack             0.040986\n",
      "Fruits                  0.036656\n",
      "Diabetes_binary         0.034859\n",
      "PhysActivity            0.033364\n",
      "Smoker                  0.032865\n",
      "HighChol                0.031337\n",
      "Sex                     0.029365\n",
      "DiffWalk                0.028332\n",
      "HighBP                  0.026361\n",
      "CoronaryHeartDisease    0.025718\n",
      "Veggies                 0.025068\n",
      "NoDocbcCost             0.024067\n",
      "KidneyDisease           0.021605\n",
      "HvyAlcoholConsump       0.008458\n",
      "AnyHealthcare           0.006643\n",
      "CholCheck               0.004552\n",
      "dtype: float64\n"
     ]
    },
    {
     "name": "stderr",
     "output_type": "stream",
     "text": [
      "/usr/local/lib/python3.7/dist-packages/sklearn/metrics/_classification.py:1318: UndefinedMetricWarning: Precision and F-score are ill-defined and being set to 0.0 in labels with no predicted samples. Use `zero_division` parameter to control this behavior.\n",
      "  _warn_prf(average, modifier, msg_start, len(result))\n",
      "/usr/local/lib/python3.7/dist-packages/sklearn/metrics/_classification.py:1318: UndefinedMetricWarning: Precision and F-score are ill-defined and being set to 0.0 in labels with no predicted samples. Use `zero_division` parameter to control this behavior.\n",
      "  _warn_prf(average, modifier, msg_start, len(result))\n",
      "/usr/local/lib/python3.7/dist-packages/sklearn/metrics/_classification.py:1318: UndefinedMetricWarning: Precision and F-score are ill-defined and being set to 0.0 in labels with no predicted samples. Use `zero_division` parameter to control this behavior.\n",
      "  _warn_prf(average, modifier, msg_start, len(result))\n"
     ]
    }
   ],
   "source": [
    "# Modeling with Original Dataset\n",
    "X_train = train.drop('Stroke', axis = 1)\n",
    "y_train = train.Stroke\n",
    "\n",
    "X_test = test.drop('Stroke', axis = 1)\n",
    "y_test = test.Stroke\n",
    "\n",
    "\n",
    "rfmodel = RandomForestClassifier()\n",
    "\n",
    "rfmodel.fit(X_train, y_train)\n",
    "\n",
    "rfpreds = rfmodel.predict(X_test)\n",
    "\n",
    "tn, fp, fn, tp = confusion_matrix(y_test, rfpreds).ravel()\n",
    "print('True negatives: ', tn, '\\nFalse positives: ', fp, '\\nFalse negatives: ', fn, '\\nTrue Positives: ', tp)\n",
    "\n",
    "print(classification_report(y_test, rfpreds))\n",
    "\n",
    "rfprobs = rfmodel.predict_proba(X_test)\n",
    "rfprobs = rfprobs[:, 1]\n",
    "rfloss = brier_score_loss(y_test, rfprobs)\n",
    "print(\"brier score:\", rfloss)\n",
    "\n",
    "important_features = pd.Series(data=rfmodel.feature_importances_,index=X_test.columns)\n",
    "important_features.sort_values(ascending=False,inplace=True)\n",
    "print(\"feature importances:\\n\", important_features)"
   ]
  },
  {
   "cell_type": "code",
   "execution_count": null,
   "metadata": {
    "colab": {
     "base_uri": "https://localhost:8080/"
    },
    "id": "ZOagbKCl0JOV",
    "outputId": "ad905c1b-226e-44a7-ca07-1e9eb11f24a3"
   },
   "outputs": [
    {
     "name": "stdout",
     "output_type": "stream",
     "text": [
      "True negatives:  777 \n",
      "False positives:  6 \n",
      "False negatives:  48 \n",
      "True positives:  2\n",
      "              precision    recall  f1-score   support\n",
      "\n",
      "         0.0       0.94      0.99      0.97       783\n",
      "         1.0       0.25      0.04      0.07        50\n",
      "\n",
      "    accuracy                           0.94       833\n",
      "   macro avg       0.60      0.52      0.52       833\n",
      "weighted avg       0.90      0.94      0.91       833\n",
      "\n",
      "brier score: 0.05248415366146459\n",
      "feature importances:\n",
      " GenHlth                 0.091028\n",
      "HeartAttack             0.090272\n",
      "Diabetes_binary         0.081616\n",
      "DiffWalk                0.072992\n",
      "HighChol                0.072949\n",
      "Education               0.064093\n",
      "Income                  0.059738\n",
      "PhysActivity            0.058459\n",
      "Fruits                  0.049259\n",
      "Age                     0.048256\n",
      "Smoker                  0.044939\n",
      "BMI                     0.043851\n",
      "HighBP                  0.043303\n",
      "CoronaryHeartDisease    0.038994\n",
      "Sex                     0.036371\n",
      "PhysHlth                0.028540\n",
      "Veggies                 0.021813\n",
      "MentHlth                0.015392\n",
      "KidneyDisease           0.014027\n",
      "NoDocbcCost             0.012305\n",
      "HvyAlcoholConsump       0.006789\n",
      "AnyHealthcare           0.004210\n",
      "CholCheck               0.000803\n",
      "dtype: float64\n"
     ]
    }
   ],
   "source": [
    "# Modeling with SMOTE-trasnformed data\n",
    "X_resampled, y_resampled = SMOTE().fit_resample(X_train,y_train)\n",
    "\n",
    "rfmodel2 = RandomForestClassifier()\n",
    "\n",
    "rfmodel2.fit(X_resampled, y_resampled)\n",
    "\n",
    "rfpreds2 = rfmodel2.predict(X_test)\n",
    "\n",
    "tn, fp, fn, tp = confusion_matrix(y_test, rfpreds2).ravel()\n",
    "print('True negatives: ', tn, '\\nFalse positives: ', fp, '\\nFalse negatives: ', fn, '\\nTrue positives: ', tp)\n",
    "\n",
    "print(classification_report(y_test, rfpreds2))\n",
    "\n",
    "rfprobs2 = rfmodel2.predict_proba(X_test)\n",
    "rfprobs2 = rfprobs2[:, 1]\n",
    "rfloss2 = brier_score_loss(y_test, rfprobs2)\n",
    "print(\"brier score:\", rfloss2)\n",
    "\n",
    "important_features = pd.Series(data=rfmodel2.feature_importances_,index=X_test.columns)\n",
    "important_features.sort_values(ascending=False,inplace=True)\n",
    "print(\"feature importances:\\n\", important_features)"
   ]
  },
  {
   "cell_type": "markdown",
   "metadata": {
    "id": "r3wy8FTxxdOk"
   },
   "source": [
    "## 10.3 Modeling Stroke prediction with a Multi Layer Perceptron"
   ]
  },
  {
   "cell_type": "code",
   "execution_count": null,
   "metadata": {
    "colab": {
     "base_uri": "https://localhost:8080/"
    },
    "id": "bJ5hbxyI0J_t",
    "outputId": "883ffe59-f423-46b0-fb29-28159d6432d4"
   },
   "outputs": [
    {
     "name": "stdout",
     "output_type": "stream",
     "text": [
      "True negatives:  773 \n",
      "False positives:  10 \n",
      "False negatives:  46 \n",
      "True Positives:  4\n",
      "              precision    recall  f1-score   support\n",
      "\n",
      "         0.0       0.94      0.99      0.97       783\n",
      "         1.0       0.29      0.08      0.12        50\n",
      "\n",
      "    accuracy                           0.93       833\n",
      "   macro avg       0.61      0.53      0.55       833\n",
      "weighted avg       0.90      0.93      0.91       833\n",
      "\n",
      "brier score: 0.053697856369909036\n"
     ]
    },
    {
     "name": "stderr",
     "output_type": "stream",
     "text": [
      "/usr/local/lib/python3.7/dist-packages/sklearn/neural_network/_multilayer_perceptron.py:696: ConvergenceWarning: Stochastic Optimizer: Maximum iterations (200) reached and the optimization hasn't converged yet.\n",
      "  ConvergenceWarning,\n"
     ]
    }
   ],
   "source": [
    "# Modeling with Original Dataset\n",
    "X_train = train.drop('Stroke', axis = 1)\n",
    "y_train = train.Stroke\n",
    "\n",
    "X_test = test.drop('Stroke', axis = 1)\n",
    "y_test = test.Stroke\n",
    "\n",
    "\n",
    "MLPmodel = MLPClassifier()\n",
    "\n",
    "MLPmodel.fit(X_train, y_train)\n",
    "\n",
    "MLPpreds = MLPmodel.predict(X_test)\n",
    "\n",
    "tn, fp, fn, tp = confusion_matrix(y_test, MLPpreds).ravel()\n",
    "print('True negatives: ', tn, '\\nFalse positives: ', fp, '\\nFalse negatives: ', fn, '\\nTrue Positives: ', tp)\n",
    "\n",
    "print(classification_report(y_test, MLPpreds))\n",
    "\n",
    "MLPprobs = MLPmodel.predict_proba(X_test)\n",
    "MLPprobs = MLPprobs[:, 1]\n",
    "MLPloss = brier_score_loss(y_test, MLPprobs)\n",
    "print(\"brier score:\", MLPloss)"
   ]
  },
  {
   "cell_type": "code",
   "execution_count": null,
   "metadata": {
    "colab": {
     "base_uri": "https://localhost:8080/"
    },
    "id": "s-k0uvh50J64",
    "outputId": "bcb5949b-7702-4a21-bf2a-a80ccf88b505"
   },
   "outputs": [
    {
     "name": "stdout",
     "output_type": "stream",
     "text": [
      "True negatives:  709 \n",
      "False positives:  74 \n",
      "False negatives:  35 \n",
      "True positives:  15\n",
      "              precision    recall  f1-score   support\n",
      "\n",
      "         0.0       0.95      0.91      0.93       783\n",
      "         1.0       0.17      0.30      0.22        50\n",
      "\n",
      "    accuracy                           0.87       833\n",
      "   macro avg       0.56      0.60      0.57       833\n",
      "weighted avg       0.91      0.87      0.89       833\n",
      "\n",
      "brier score: 0.1025560480541223\n"
     ]
    },
    {
     "name": "stderr",
     "output_type": "stream",
     "text": [
      "/usr/local/lib/python3.7/dist-packages/sklearn/neural_network/_multilayer_perceptron.py:696: ConvergenceWarning: Stochastic Optimizer: Maximum iterations (200) reached and the optimization hasn't converged yet.\n",
      "  ConvergenceWarning,\n"
     ]
    }
   ],
   "source": [
    "# Modeling with SMOTE-trasnformed data\n",
    "X_resampled, y_resampled = SMOTE().fit_resample(X_train,y_train)\n",
    "\n",
    "MLPmodel2 = MLPClassifier()\n",
    "\n",
    "MLPmodel2.fit(X_resampled, y_resampled)\n",
    "\n",
    "MLPpreds2 = MLPmodel2.predict(X_test)\n",
    "\n",
    "tn, fp, fn, tp = confusion_matrix(y_test, MLPpreds2).ravel()\n",
    "print('True negatives: ', tn, '\\nFalse positives: ', fp, '\\nFalse negatives: ', fn, '\\nTrue positives: ', tp)\n",
    "\n",
    "print(classification_report(y_test, MLPpreds2))\n",
    "\n",
    "MLPprobs2 = MLPmodel2.predict_proba(X_test)\n",
    "MLPprobs2 = MLPprobs2[:, 1]\n",
    "MLPloss2 = brier_score_loss(y_test, MLPprobs2)\n",
    "print(\"brier score:\", MLPloss2)"
   ]
  },
  {
   "cell_type": "markdown",
   "metadata": {
    "id": "MxqEjhsgxdSh"
   },
   "source": [
    "## 10.4 Modeling Stroke prediction with a Support Vector Machine Classifier"
   ]
  },
  {
   "cell_type": "code",
   "execution_count": null,
   "metadata": {
    "colab": {
     "base_uri": "https://localhost:8080/"
    },
    "id": "R1vtvSCX0Knz",
    "outputId": "285b2368-8059-4657-ba6b-111a2aa0dbc4"
   },
   "outputs": [
    {
     "name": "stdout",
     "output_type": "stream",
     "text": [
      "True negatives:  783 \n",
      "False positives:  0 \n",
      "False negatives:  50 \n",
      "True Positives:  0\n",
      "              precision    recall  f1-score   support\n",
      "\n",
      "         0.0       0.94      1.00      0.97       783\n",
      "         1.0       0.00      0.00      0.00        50\n",
      "\n",
      "    accuracy                           0.94       833\n",
      "   macro avg       0.47      0.50      0.48       833\n",
      "weighted avg       0.88      0.94      0.91       833\n",
      "\n",
      "brier score: 0.056209548196383796\n"
     ]
    },
    {
     "name": "stderr",
     "output_type": "stream",
     "text": [
      "/usr/local/lib/python3.7/dist-packages/sklearn/metrics/_classification.py:1318: UndefinedMetricWarning: Precision and F-score are ill-defined and being set to 0.0 in labels with no predicted samples. Use `zero_division` parameter to control this behavior.\n",
      "  _warn_prf(average, modifier, msg_start, len(result))\n",
      "/usr/local/lib/python3.7/dist-packages/sklearn/metrics/_classification.py:1318: UndefinedMetricWarning: Precision and F-score are ill-defined and being set to 0.0 in labels with no predicted samples. Use `zero_division` parameter to control this behavior.\n",
      "  _warn_prf(average, modifier, msg_start, len(result))\n",
      "/usr/local/lib/python3.7/dist-packages/sklearn/metrics/_classification.py:1318: UndefinedMetricWarning: Precision and F-score are ill-defined and being set to 0.0 in labels with no predicted samples. Use `zero_division` parameter to control this behavior.\n",
      "  _warn_prf(average, modifier, msg_start, len(result))\n"
     ]
    }
   ],
   "source": [
    "# Modeling with Original Dataset\n",
    "X_train = train.drop('Stroke', axis = 1)\n",
    "y_train = train.Stroke\n",
    "\n",
    "X_test = test.drop('Stroke', axis = 1)\n",
    "y_test = test.Stroke\n",
    "\n",
    "\n",
    "SVCmodel = SVC(probability=True)\n",
    "\n",
    "SVCmodel.fit(X_train, y_train)\n",
    "\n",
    "SVCpreds = SVCmodel.predict(X_test)\n",
    "\n",
    "tn, fp, fn, tp = confusion_matrix(y_test, SVCpreds).ravel()\n",
    "print('True negatives: ', tn, '\\nFalse positives: ', fp, '\\nFalse negatives: ', fn, '\\nTrue Positives: ', tp)\n",
    "\n",
    "print(classification_report(y_test, SVCpreds))\n",
    "\n",
    "SVCprobs = SVCmodel.predict_proba(X_test)\n",
    "SVCprobs = SVCprobs[:, 1]\n",
    "SVCloss = brier_score_loss(y_test, SVCprobs)\n",
    "print(\"brier score:\", SVCloss)"
   ]
  },
  {
   "cell_type": "code",
   "execution_count": null,
   "metadata": {
    "colab": {
     "base_uri": "https://localhost:8080/"
    },
    "id": "OeoL6POu0Ki2",
    "outputId": "a0c7b84b-53bf-4eca-8792-5ff8d1ac1e2e"
   },
   "outputs": [
    {
     "name": "stdout",
     "output_type": "stream",
     "text": [
      "True negatives:  535 \n",
      "False positives:  248 \n",
      "False negatives:  12 \n",
      "True positives:  38\n",
      "              precision    recall  f1-score   support\n",
      "\n",
      "         0.0       0.98      0.68      0.80       783\n",
      "         1.0       0.13      0.76      0.23        50\n",
      "\n",
      "    accuracy                           0.69       833\n",
      "   macro avg       0.56      0.72      0.52       833\n",
      "weighted avg       0.93      0.69      0.77       833\n",
      "\n",
      "brier score: 0.18190717790299935\n"
     ]
    }
   ],
   "source": [
    "# Modeling with SMOTE-trasnformed data\n",
    "X_resampled, y_resampled = SMOTE().fit_resample(X_train,y_train)\n",
    "\n",
    "SVCmodel2 = SVC(probability=True)\n",
    "\n",
    "SVCmodel2.fit(X_resampled, y_resampled)\n",
    "\n",
    "SVCpreds2 = SVCmodel2.predict(X_test)\n",
    "\n",
    "tn, fp, fn, tp = confusion_matrix(y_test, SVCpreds2).ravel()\n",
    "print('True negatives: ', tn, '\\nFalse positives: ', fp, '\\nFalse negatives: ', fn, '\\nTrue positives: ', tp)\n",
    "\n",
    "print(classification_report(y_test, SVCpreds2))\n",
    "\n",
    "SVCprobs2 = SVCmodel2.predict_proba(X_test)\n",
    "SVCprobs2 = SVCprobs2[:, 1]\n",
    "SVCloss2 = brier_score_loss(y_test, SVCprobs2)\n",
    "print(\"brier score:\", SVCloss2)"
   ]
  },
  {
   "cell_type": "markdown",
   "metadata": {
    "id": "9x5Ib16DxdV_"
   },
   "source": [
    "## 10.5 Modeling Stroke prediction using K Neighbors"
   ]
  },
  {
   "cell_type": "code",
   "execution_count": null,
   "metadata": {
    "colab": {
     "base_uri": "https://localhost:8080/"
    },
    "id": "NjGIKf5s0LNe",
    "outputId": "05aeb8c2-aad1-41f0-9437-89676fb3b355"
   },
   "outputs": [
    {
     "name": "stdout",
     "output_type": "stream",
     "text": [
      "True negatives:  781 \n",
      "False positives:  2 \n",
      "False negatives:  50 \n",
      "True Positives:  0\n",
      "              precision    recall  f1-score   support\n",
      "\n",
      "         0.0       0.94      1.00      0.97       783\n",
      "         1.0       0.00      0.00      0.00        50\n",
      "\n",
      "    accuracy                           0.94       833\n",
      "   macro avg       0.47      0.50      0.48       833\n",
      "weighted avg       0.88      0.94      0.91       833\n",
      "\n",
      "brier score: 0.06060024009603842\n"
     ]
    }
   ],
   "source": [
    "# Modeling with Original Dataset\n",
    "X_train = train.drop('Stroke', axis = 1)\n",
    "y_train = train.Stroke\n",
    "\n",
    "X_test = test.drop('Stroke', axis = 1)\n",
    "y_test = test.Stroke\n",
    "\n",
    "\n",
    "knmodel = KNeighborsClassifier()\n",
    "\n",
    "knmodel.fit(X_train, y_train)\n",
    "\n",
    "knpreds = knmodel.predict(X_test)\n",
    "\n",
    "tn, fp, fn, tp = confusion_matrix(y_test, knpreds).ravel()\n",
    "print('True negatives: ', tn, '\\nFalse positives: ', fp, '\\nFalse negatives: ', fn, '\\nTrue Positives: ', tp)\n",
    "\n",
    "print(classification_report(y_test, knpreds))\n",
    "\n",
    "knprobs = knmodel.predict_proba(X_test)\n",
    "knprobs = knprobs[:, 1]\n",
    "knloss = brier_score_loss(y_test, knprobs)\n",
    "print(\"brier score:\", knloss)"
   ]
  },
  {
   "cell_type": "code",
   "execution_count": null,
   "metadata": {
    "colab": {
     "base_uri": "https://localhost:8080/"
    },
    "id": "ivs4Vb2C0LKU",
    "outputId": "c1f53364-31d6-499f-8835-190957a93240"
   },
   "outputs": [
    {
     "name": "stdout",
     "output_type": "stream",
     "text": [
      "True negatives:  567 \n",
      "False positives:  216 \n",
      "False negatives:  28 \n",
      "True positives:  22\n",
      "              precision    recall  f1-score   support\n",
      "\n",
      "         0.0       0.95      0.72      0.82       783\n",
      "         1.0       0.09      0.44      0.15        50\n",
      "\n",
      "    accuracy                           0.71       833\n",
      "   macro avg       0.52      0.58      0.49       833\n",
      "weighted avg       0.90      0.71      0.78       833\n",
      "\n",
      "brier score: 0.2055702280912365\n"
     ]
    }
   ],
   "source": [
    "# Modeling with SMOTE-trasnformed data\n",
    "X_resampled, y_resampled = SMOTE().fit_resample(X_train,y_train)\n",
    "\n",
    "knmodel2 = KNeighborsClassifier()\n",
    "\n",
    "knmodel2.fit(X_resampled, y_resampled)\n",
    "\n",
    "knpreds2 = knmodel2.predict(X_test)\n",
    "\n",
    "tn, fp, fn, tp = confusion_matrix(y_test, knpreds2).ravel()\n",
    "print('True negatives: ', tn, '\\nFalse positives: ', fp, '\\nFalse negatives: ', fn, '\\nTrue positives: ', tp)\n",
    "\n",
    "print(classification_report(y_test, knpreds2))\n",
    "\n",
    "knprobs2 = knmodel2.predict_proba(X_test)\n",
    "knprobs2 = knprobs2[:, 1]\n",
    "knloss2 = brier_score_loss(y_test, knprobs2)\n",
    "print(\"brier score:\", knloss2)"
   ]
  },
  {
   "cell_type": "markdown",
   "metadata": {
    "id": "2mm98fEHxdbB"
   },
   "source": [
    "## 10.6 Modeling Stroke prediction using a Gaussian Process Classifier"
   ]
  },
  {
   "cell_type": "code",
   "execution_count": null,
   "metadata": {
    "colab": {
     "base_uri": "https://localhost:8080/"
    },
    "id": "h_iYy0OX0L1a",
    "outputId": "13c3e116-febd-471d-fa73-6391908f39e3"
   },
   "outputs": [
    {
     "name": "stdout",
     "output_type": "stream",
     "text": [
      "True negatives:  767 \n",
      "False positives:  16 \n",
      "False negatives:  49 \n",
      "True Positives:  1\n",
      "              precision    recall  f1-score   support\n",
      "\n",
      "         0.0       0.94      0.98      0.96       783\n",
      "         1.0       0.06      0.02      0.03        50\n",
      "\n",
      "    accuracy                           0.92       833\n",
      "   macro avg       0.50      0.50      0.49       833\n",
      "weighted avg       0.89      0.92      0.90       833\n",
      "\n",
      "brier score: 0.2201360732764032\n"
     ]
    }
   ],
   "source": [
    "# Modeling with Original Dataset\n",
    "X_train = train.drop('Stroke', axis = 1)\n",
    "y_train = train.Stroke\n",
    "\n",
    "X_test = test.drop('Stroke', axis = 1)\n",
    "y_test = test.Stroke\n",
    "\n",
    "\n",
    "gpmodel = GaussianProcessClassifier()\n",
    "\n",
    "gpmodel.fit(X_train, y_train)\n",
    "\n",
    "gppreds = gpmodel.predict(X_test)\n",
    "\n",
    "tn, fp, fn, tp = confusion_matrix(y_test, gppreds).ravel()\n",
    "print('True negatives: ', tn, '\\nFalse positives: ', fp, '\\nFalse negatives: ', fn, '\\nTrue Positives: ', tp)\n",
    "\n",
    "print(classification_report(y_test, gppreds))\n",
    "\n",
    "gpprobs = gpmodel.predict_proba(X_test)\n",
    "gpprobs = gpprobs[:, 1]\n",
    "gploss = brier_score_loss(y_test, gpprobs)\n",
    "print(\"brier score:\", gploss)"
   ]
  },
  {
   "cell_type": "code",
   "execution_count": null,
   "metadata": {
    "colab": {
     "base_uri": "https://localhost:8080/"
    },
    "id": "71Cd4ISz0Lxy",
    "outputId": "75b73837-8a4b-4756-f7a6-41fc6edd77db"
   },
   "outputs": [
    {
     "name": "stdout",
     "output_type": "stream",
     "text": [
      "True negatives:  663 \n",
      "False positives:  120 \n",
      "False negatives:  32 \n",
      "True positives:  18\n",
      "              precision    recall  f1-score   support\n",
      "\n",
      "         0.0       0.95      0.85      0.90       783\n",
      "         1.0       0.13      0.36      0.19        50\n",
      "\n",
      "    accuracy                           0.82       833\n",
      "   macro avg       0.54      0.60      0.54       833\n",
      "weighted avg       0.90      0.82      0.85       833\n",
      "\n",
      "brier score: 0.22938375801270813\n"
     ]
    }
   ],
   "source": [
    "# Modeling with SMOTE-trasnformed data\n",
    "X_resampled, y_resampled = SMOTE().fit_resample(X_train,y_train)\n",
    "\n",
    "gpmodel2 = GaussianProcessClassifier()\n",
    "\n",
    "gpmodel2.fit(X_resampled, y_resampled)\n",
    "\n",
    "gppreds2 = gpmodel2.predict(X_test)\n",
    "\n",
    "tn, fp, fn, tp = confusion_matrix(y_test, gppreds2).ravel()\n",
    "print('True negatives: ', tn, '\\nFalse positives: ', fp, '\\nFalse negatives: ', fn, '\\nTrue positives: ', tp)\n",
    "\n",
    "print(classification_report(y_test, gppreds2))\n",
    "\n",
    "gpprobs2 = gpmodel2.predict_proba(X_test)\n",
    "gpprobs2 = gpprobs2[:, 1]\n",
    "gploss2 = brier_score_loss(y_test, gpprobs2)\n",
    "print(\"brier score:\", gploss2)"
   ]
  },
  {
   "cell_type": "markdown",
   "metadata": {
    "id": "T4Ggt0udxdci"
   },
   "source": [
    "## 10.7 Modeling Stroke prediction using an AdaBoost Classifier"
   ]
  },
  {
   "cell_type": "code",
   "execution_count": null,
   "metadata": {
    "colab": {
     "base_uri": "https://localhost:8080/"
    },
    "id": "zQrK8jyk0MQw",
    "outputId": "edff94dc-718c-424f-f0fe-c2eb294f4492"
   },
   "outputs": [
    {
     "name": "stdout",
     "output_type": "stream",
     "text": [
      "True negatives:  778 \n",
      "False positives:  5 \n",
      "False negatives:  48 \n",
      "True Positives:  2\n",
      "              precision    recall  f1-score   support\n",
      "\n",
      "         0.0       0.94      0.99      0.97       783\n",
      "         1.0       0.29      0.04      0.07        50\n",
      "\n",
      "    accuracy                           0.94       833\n",
      "   macro avg       0.61      0.52      0.52       833\n",
      "weighted avg       0.90      0.94      0.91       833\n",
      "\n",
      "brier score: 0.22575450734065367\n"
     ]
    }
   ],
   "source": [
    "# Modeling with Original Dataset\n",
    "X_train = train.drop('Stroke', axis = 1)\n",
    "y_train = train.Stroke\n",
    "\n",
    "X_test = test.drop('Stroke', axis = 1)\n",
    "y_test = test.Stroke\n",
    "\n",
    "\n",
    "ABmodel = AdaBoostClassifier()\n",
    "\n",
    "ABmodel.fit(X_train, y_train)\n",
    "\n",
    "ABpreds = ABmodel.predict(X_test)\n",
    "\n",
    "tn, fp, fn, tp = confusion_matrix(y_test, ABpreds).ravel()\n",
    "print('True negatives: ', tn, '\\nFalse positives: ', fp, '\\nFalse negatives: ', fn, '\\nTrue Positives: ', tp)\n",
    "\n",
    "print(classification_report(y_test, ABpreds))\n",
    "\n",
    "ABprobs = ABmodel.predict_proba(X_test)\n",
    "ABprobs = ABprobs[:, 1]\n",
    "ABloss = brier_score_loss(y_test, ABprobs)\n",
    "print(\"brier score:\", ABloss)"
   ]
  },
  {
   "cell_type": "code",
   "execution_count": null,
   "metadata": {
    "colab": {
     "base_uri": "https://localhost:8080/"
    },
    "id": "IhxHk6EW0MNd",
    "outputId": "3105f76d-5ac1-4c9a-953b-1eeb33a46469"
   },
   "outputs": [
    {
     "name": "stdout",
     "output_type": "stream",
     "text": [
      "True negatives:  776 \n",
      "False positives:  7 \n",
      "False negatives:  44 \n",
      "True positives:  6\n",
      "              precision    recall  f1-score   support\n",
      "\n",
      "         0.0       0.95      0.99      0.97       783\n",
      "         1.0       0.46      0.12      0.19        50\n",
      "\n",
      "    accuracy                           0.94       833\n",
      "   macro avg       0.70      0.56      0.58       833\n",
      "weighted avg       0.92      0.94      0.92       833\n",
      "\n",
      "brier score: 0.22849773731261394\n"
     ]
    }
   ],
   "source": [
    "# Modeling with SMOTE-trasnformed data\n",
    "X_resampled, y_resampled = SMOTE().fit_resample(X_train,y_train)\n",
    "\n",
    "ABmodel2 = AdaBoostClassifier()\n",
    "\n",
    "ABmodel2.fit(X_resampled, y_resampled)\n",
    "\n",
    "ABpreds2 = ABmodel2.predict(X_test)\n",
    "\n",
    "tn, fp, fn, tp = confusion_matrix(y_test, ABpreds2).ravel()\n",
    "print('True negatives: ', tn, '\\nFalse positives: ', fp, '\\nFalse negatives: ', fn, '\\nTrue positives: ', tp)\n",
    "\n",
    "print(classification_report(y_test, ABpreds2))\n",
    "\n",
    "ABprobs2 = ABmodel2.predict_proba(X_test)\n",
    "ABprobs2 = ABprobs2[:, 1]\n",
    "ABloss2 = brier_score_loss(y_test, ABprobs2)\n",
    "print(\"brier score:\", ABloss2)"
   ]
  },
  {
   "cell_type": "markdown",
   "metadata": {
    "id": "KVUwInXtvj4A"
   },
   "source": [
    "# 11. Performing the above modeling steps, but instead using Heart Attack as the target variable"
   ]
  },
  {
   "cell_type": "markdown",
   "metadata": {
    "id": "CX9mXMQ2yKYg"
   },
   "source": [
    "## 11.1 Modeling Heart Attack prediction using Logistic Regression"
   ]
  },
  {
   "cell_type": "code",
   "execution_count": null,
   "metadata": {
    "colab": {
     "base_uri": "https://localhost:8080/"
    },
    "id": "dxZERcfBvh5v",
    "outputId": "c4622dbf-12e4-4daf-ebba-a2a1aa5df328"
   },
   "outputs": [
    {
     "name": "stderr",
     "output_type": "stream",
     "text": [
      "/usr/local/lib/python3.7/dist-packages/sklearn/linear_model/_logistic.py:818: ConvergenceWarning: lbfgs failed to converge (status=1):\n",
      "STOP: TOTAL NO. of ITERATIONS REACHED LIMIT.\n",
      "\n",
      "Increase the number of iterations (max_iter) or scale the data as shown in:\n",
      "    https://scikit-learn.org/stable/modules/preprocessing.html\n",
      "Please also refer to the documentation for alternative solver options:\n",
      "    https://scikit-learn.org/stable/modules/linear_model.html#logistic-regression\n",
      "  extra_warning_msg=_LOGISTIC_SOLVER_CONVERGENCE_MSG,\n"
     ]
    }
   ],
   "source": [
    "train, test = train_test_split(brfss_binary, test_size = 0.3, stratify=brfss_binary.HeartAttack)\n",
    "\n",
    "#X Y Split\n",
    "X_train = train.drop('HeartAttack', axis = 1)\n",
    "y_train = train.HeartAttack\n",
    "\n",
    "X_test = test.drop('HeartAttack', axis = 1)\n",
    "y_test = test.HeartAttack\n",
    "\n",
    "\n",
    "lrmodel = LogisticRegression()\n",
    "lrmodel.fit(X_train, y_train)\n",
    "lrpreds = lrmodel.predict(X_test)"
   ]
  },
  {
   "cell_type": "code",
   "execution_count": null,
   "metadata": {
    "colab": {
     "base_uri": "https://localhost:8080/"
    },
    "id": "bZ9iA-J6vh2f",
    "outputId": "d01bfc77-62a6-42db-c3fc-03cbbd8ab1ae"
   },
   "outputs": [
    {
     "name": "stdout",
     "output_type": "stream",
     "text": [
      "True negatives:  773 \n",
      "False positives:  7 \n",
      "False negatives:  46 \n",
      "True Positives:  7\n"
     ]
    }
   ],
   "source": [
    "tn, fp, fn, tp = confusion_matrix(y_test, lrpreds).ravel()\n",
    "print('True negatives: ', tn, '\\nFalse positives: ', fp, '\\nFalse negatives: ', fn, '\\nTrue Positives: ', tp)"
   ]
  },
  {
   "cell_type": "code",
   "execution_count": null,
   "metadata": {
    "colab": {
     "base_uri": "https://localhost:8080/"
    },
    "id": "4LtkSDuFvhzU",
    "outputId": "913f65d8-7fe3-4e87-fb04-d5de7b53f4bc"
   },
   "outputs": [
    {
     "name": "stdout",
     "output_type": "stream",
     "text": [
      "              precision    recall  f1-score   support\n",
      "\n",
      "         0.0       0.94      0.99      0.97       780\n",
      "         1.0       0.50      0.13      0.21        53\n",
      "\n",
      "    accuracy                           0.94       833\n",
      "   macro avg       0.72      0.56      0.59       833\n",
      "weighted avg       0.92      0.94      0.92       833\n",
      "\n"
     ]
    }
   ],
   "source": [
    "print(classification_report(y_test, lrpreds))"
   ]
  },
  {
   "cell_type": "code",
   "execution_count": null,
   "metadata": {
    "colab": {
     "base_uri": "https://localhost:8080/"
    },
    "id": "zZUDuy1rmHk2",
    "outputId": "38b0bea1-c87a-47c3-971f-870a0462a73d"
   },
   "outputs": [
    {
     "name": "stdout",
     "output_type": "stream",
     "text": [
      "brier score: 0.049784453254562724\n"
     ]
    }
   ],
   "source": [
    "lrprobs = lrmodel.predict_proba(X_test)\n",
    "lrprobs = lrprobs[:, 1]\n",
    "lrloss = brier_score_loss(y_test, lrprobs)\n",
    "print(\"brier score:\", lrloss)"
   ]
  },
  {
   "cell_type": "code",
   "execution_count": null,
   "metadata": {
    "id": "zQSRw-aQvhwZ"
   },
   "outputs": [],
   "source": [
    "X_resampled, y_resampled = SMOTE().fit_resample(X_train,y_train)"
   ]
  },
  {
   "cell_type": "code",
   "execution_count": null,
   "metadata": {
    "colab": {
     "base_uri": "https://localhost:8080/"
    },
    "id": "5J3ohMVTvhtW",
    "outputId": "8ee78dd7-d4a9-4b6b-9563-5544fa42459e"
   },
   "outputs": [
    {
     "name": "stderr",
     "output_type": "stream",
     "text": [
      "/usr/local/lib/python3.7/dist-packages/sklearn/linear_model/_logistic.py:818: ConvergenceWarning: lbfgs failed to converge (status=1):\n",
      "STOP: TOTAL NO. of ITERATIONS REACHED LIMIT.\n",
      "\n",
      "Increase the number of iterations (max_iter) or scale the data as shown in:\n",
      "    https://scikit-learn.org/stable/modules/preprocessing.html\n",
      "Please also refer to the documentation for alternative solver options:\n",
      "    https://scikit-learn.org/stable/modules/linear_model.html#logistic-regression\n",
      "  extra_warning_msg=_LOGISTIC_SOLVER_CONVERGENCE_MSG,\n"
     ]
    }
   ],
   "source": [
    "lrmodel2 = LogisticRegression()\n",
    "lrmodel2.fit(X_resampled, y_resampled)\n",
    "\n",
    "lrpreds2 = lrmodel2.predict(X_test)"
   ]
  },
  {
   "cell_type": "code",
   "execution_count": null,
   "metadata": {
    "colab": {
     "base_uri": "https://localhost:8080/"
    },
    "id": "UGdA0O7bvhqG",
    "outputId": "073aac6d-0bbc-41bb-ea5e-6f5c3c5dbe05"
   },
   "outputs": [
    {
     "name": "stdout",
     "output_type": "stream",
     "text": [
      "True negatives:  662 \n",
      "False positives:  118 \n",
      "False negatives:  19 \n",
      "True positives:  34\n"
     ]
    }
   ],
   "source": [
    "tn, fp, fn, tp = confusion_matrix(y_test, lrpreds2).ravel()\n",
    "print('True negatives: ', tn, '\\nFalse positives: ', fp, '\\nFalse negatives: ', fn, '\\nTrue positives: ', tp)"
   ]
  },
  {
   "cell_type": "code",
   "execution_count": null,
   "metadata": {
    "colab": {
     "base_uri": "https://localhost:8080/"
    },
    "id": "ER58uD6CvhlG",
    "outputId": "4beaf437-2644-4a75-eb16-afb82befe5bf"
   },
   "outputs": [
    {
     "name": "stdout",
     "output_type": "stream",
     "text": [
      "              precision    recall  f1-score   support\n",
      "\n",
      "         0.0       0.97      0.85      0.91       780\n",
      "         1.0       0.22      0.64      0.33        53\n",
      "\n",
      "    accuracy                           0.84       833\n",
      "   macro avg       0.60      0.75      0.62       833\n",
      "weighted avg       0.92      0.84      0.87       833\n",
      "\n"
     ]
    }
   ],
   "source": [
    "print(classification_report(y_test, lrpreds2))"
   ]
  },
  {
   "cell_type": "code",
   "execution_count": null,
   "metadata": {
    "colab": {
     "base_uri": "https://localhost:8080/"
    },
    "id": "-rzHZDFCvhfB",
    "outputId": "4186d8b1-7e78-45b4-b0c4-9fd6f90b98ad"
   },
   "outputs": [
    {
     "name": "stdout",
     "output_type": "stream",
     "text": [
      "brier score: 0.12911856352199377\n"
     ]
    }
   ],
   "source": [
    "lrprobs2 = lrmodel2.predict_proba(X_test)\n",
    "lrprobs2 = lrprobs2[:, 1]\n",
    "lrloss2 = brier_score_loss(y_test, lrprobs2)\n",
    "print(\"brier score:\", lrloss2)"
   ]
  },
  {
   "cell_type": "markdown",
   "metadata": {
    "id": "j5vb8rEuySFm"
   },
   "source": [
    "## 11.2 Modeling Heart Attack prediction with Random Forest\n",
    "\n"
   ]
  },
  {
   "cell_type": "code",
   "execution_count": null,
   "metadata": {
    "colab": {
     "base_uri": "https://localhost:8080/"
    },
    "id": "wvBDUrP00EaL",
    "outputId": "0d403f99-7c55-4fc1-fbc6-48938ea425d5"
   },
   "outputs": [
    {
     "name": "stdout",
     "output_type": "stream",
     "text": [
      "True negatives:  777 \n",
      "False positives:  3 \n",
      "False negatives:  51 \n",
      "True Positives:  2\n",
      "              precision    recall  f1-score   support\n",
      "\n",
      "         0.0       0.94      1.00      0.97       780\n",
      "         1.0       0.40      0.04      0.07        53\n",
      "\n",
      "    accuracy                           0.94       833\n",
      "   macro avg       0.67      0.52      0.52       833\n",
      "weighted avg       0.90      0.94      0.91       833\n",
      "\n",
      "brier score: 0.05313037214885954\n",
      "feature importances:\n",
      " BMI                     0.117215\n",
      "CoronaryHeartDisease    0.098736\n",
      "Age                     0.094798\n",
      "Income                  0.075071\n",
      "PhysHlth                0.072803\n",
      "GenHlth                 0.069729\n",
      "Education               0.066500\n",
      "MentHlth                0.053000\n",
      "Stroke                  0.039411\n",
      "Sex                     0.031895\n",
      "Fruits                  0.031888\n",
      "PhysActivity            0.029711\n",
      "DiffWalk                0.028806\n",
      "Diabetes_binary         0.027449\n",
      "Smoker                  0.027362\n",
      "HighBP                  0.026963\n",
      "HighChol                0.025770\n",
      "Veggies                 0.025474\n",
      "NoDocbcCost             0.019461\n",
      "KidneyDisease           0.016492\n",
      "HvyAlcoholConsump       0.013645\n",
      "AnyHealthcare           0.005361\n",
      "CholCheck               0.002460\n",
      "dtype: float64\n"
     ]
    }
   ],
   "source": [
    "# Modeling with Original Dataset\n",
    "X_train = train.drop('HeartAttack', axis = 1)\n",
    "y_train = train.HeartAttack\n",
    "\n",
    "X_test = test.drop('HeartAttack', axis = 1)\n",
    "y_test = test.HeartAttack\n",
    "\n",
    "\n",
    "rfmodel = RandomForestClassifier()\n",
    "\n",
    "rfmodel.fit(X_train, y_train)\n",
    "\n",
    "rfpreds = rfmodel.predict(X_test)\n",
    "\n",
    "tn, fp, fn, tp = confusion_matrix(y_test, rfpreds).ravel()\n",
    "print('True negatives: ', tn, '\\nFalse positives: ', fp, '\\nFalse negatives: ', fn, '\\nTrue Positives: ', tp)\n",
    "\n",
    "print(classification_report(y_test, rfpreds))\n",
    "\n",
    "rfprobs = rfmodel.predict_proba(X_test)\n",
    "rfprobs = rfprobs[:, 1]\n",
    "rfloss = brier_score_loss(y_test, rfprobs)\n",
    "print(\"brier score:\", rfloss)\n",
    "\n",
    "important_features = pd.Series(data=rfmodel.feature_importances_,index=X_test.columns)\n",
    "important_features.sort_values(ascending=False,inplace=True)\n",
    "print(\"feature importances:\\n\", important_features)"
   ]
  },
  {
   "cell_type": "code",
   "execution_count": null,
   "metadata": {
    "colab": {
     "base_uri": "https://localhost:8080/"
    },
    "id": "9RWERLCB0EWh",
    "outputId": "40a4c4ad-89ed-48df-cfa2-f1f60419e755"
   },
   "outputs": [
    {
     "name": "stdout",
     "output_type": "stream",
     "text": [
      "True negatives:  766 \n",
      "False positives:  14 \n",
      "False negatives:  48 \n",
      "True positives:  5\n",
      "              precision    recall  f1-score   support\n",
      "\n",
      "         0.0       0.94      0.98      0.96       780\n",
      "         1.0       0.26      0.09      0.14        53\n",
      "\n",
      "    accuracy                           0.93       833\n",
      "   macro avg       0.60      0.54      0.55       833\n",
      "weighted avg       0.90      0.93      0.91       833\n",
      "\n",
      "brier score: 0.05483805522208884\n",
      "feature importances:\n",
      " CoronaryHeartDisease    0.200870\n",
      "HighChol                0.080951\n",
      "Stroke                  0.076144\n",
      "Smoker                  0.074792\n",
      "Age                     0.069701\n",
      "HighBP                  0.068883\n",
      "GenHlth                 0.062111\n",
      "DiffWalk                0.041856\n",
      "Diabetes_binary         0.040163\n",
      "Income                  0.038690\n",
      "BMI                     0.035249\n",
      "Sex                     0.034439\n",
      "Education               0.031984\n",
      "PhysActivity            0.029809\n",
      "Fruits                  0.028359\n",
      "PhysHlth                0.021022\n",
      "Veggies                 0.017841\n",
      "MentHlth                0.015268\n",
      "KidneyDisease           0.013905\n",
      "NoDocbcCost             0.008896\n",
      "HvyAlcoholConsump       0.006601\n",
      "AnyHealthcare           0.001679\n",
      "CholCheck               0.000789\n",
      "dtype: float64\n"
     ]
    }
   ],
   "source": [
    "# Modeling with SMOTE-trasnformed data\n",
    "X_resampled, y_resampled = SMOTE().fit_resample(X_train,y_train)\n",
    "\n",
    "rfmodel2 = RandomForestClassifier()\n",
    "\n",
    "rfmodel2.fit(X_resampled, y_resampled)\n",
    "\n",
    "rfpreds2 = rfmodel2.predict(X_test)\n",
    "\n",
    "tn, fp, fn, tp = confusion_matrix(y_test, rfpreds2).ravel()\n",
    "print('True negatives: ', tn, '\\nFalse positives: ', fp, '\\nFalse negatives: ', fn, '\\nTrue positives: ', tp)\n",
    "\n",
    "print(classification_report(y_test, rfpreds2))\n",
    "\n",
    "rfprobs2 = rfmodel2.predict_proba(X_test)\n",
    "rfprobs2 = rfprobs2[:, 1]\n",
    "rfloss2 = brier_score_loss(y_test, rfprobs2)\n",
    "print(\"brier score:\", rfloss2)\n",
    "\n",
    "important_features = pd.Series(data=rfmodel2.feature_importances_,index=X_test.columns)\n",
    "important_features.sort_values(ascending=False,inplace=True)\n",
    "print(\"feature importances:\\n\", important_features)"
   ]
  },
  {
   "cell_type": "markdown",
   "metadata": {
    "id": "PEJlD-EJySNE"
   },
   "source": [
    "## 11.3 Modeling Heart Attack prediction with a Multi Layer Perceptron"
   ]
  },
  {
   "cell_type": "code",
   "execution_count": null,
   "metadata": {
    "colab": {
     "base_uri": "https://localhost:8080/"
    },
    "id": "6OsWxudw0FGu",
    "outputId": "e5d5baae-781a-49f3-f3a4-b6af9758529b"
   },
   "outputs": [
    {
     "name": "stdout",
     "output_type": "stream",
     "text": [
      "True negatives:  767 \n",
      "False positives:  13 \n",
      "False negatives:  44 \n",
      "True Positives:  9\n",
      "              precision    recall  f1-score   support\n",
      "\n",
      "         0.0       0.95      0.98      0.96       780\n",
      "         1.0       0.41      0.17      0.24        53\n",
      "\n",
      "    accuracy                           0.93       833\n",
      "   macro avg       0.68      0.58      0.60       833\n",
      "weighted avg       0.91      0.93      0.92       833\n",
      "\n",
      "brier score: 0.05583670596917198\n"
     ]
    },
    {
     "name": "stderr",
     "output_type": "stream",
     "text": [
      "/usr/local/lib/python3.7/dist-packages/sklearn/neural_network/_multilayer_perceptron.py:696: ConvergenceWarning: Stochastic Optimizer: Maximum iterations (200) reached and the optimization hasn't converged yet.\n",
      "  ConvergenceWarning,\n"
     ]
    }
   ],
   "source": [
    "# Modeling with Original Dataset\n",
    "X_train = train.drop('HeartAttack', axis = 1)\n",
    "y_train = train.HeartAttack\n",
    "\n",
    "X_test = test.drop('HeartAttack', axis = 1)\n",
    "y_test = test.HeartAttack\n",
    "\n",
    "\n",
    "MLPmodel = MLPClassifier()\n",
    "\n",
    "MLPmodel.fit(X_train, y_train)\n",
    "\n",
    "MLPpreds = MLPmodel.predict(X_test)\n",
    "\n",
    "tn, fp, fn, tp = confusion_matrix(y_test, MLPpreds).ravel()\n",
    "print('True negatives: ', tn, '\\nFalse positives: ', fp, '\\nFalse negatives: ', fn, '\\nTrue Positives: ', tp)\n",
    "\n",
    "print(classification_report(y_test, MLPpreds))\n",
    "\n",
    "MLPprobs = MLPmodel.predict_proba(X_test)\n",
    "MLPprobs = MLPprobs[:, 1]\n",
    "MLPloss = brier_score_loss(y_test, MLPprobs)\n",
    "print(\"brier score:\", MLPloss)"
   ]
  },
  {
   "cell_type": "code",
   "execution_count": null,
   "metadata": {
    "colab": {
     "base_uri": "https://localhost:8080/"
    },
    "id": "2TCVWW6V0FDU",
    "outputId": "c4a67076-1138-4995-eb32-02fb01c56122"
   },
   "outputs": [
    {
     "name": "stdout",
     "output_type": "stream",
     "text": [
      "True negatives:  719 \n",
      "False positives:  61 \n",
      "False negatives:  33 \n",
      "True positives:  20\n",
      "              precision    recall  f1-score   support\n",
      "\n",
      "         0.0       0.96      0.92      0.94       780\n",
      "         1.0       0.25      0.38      0.30        53\n",
      "\n",
      "    accuracy                           0.89       833\n",
      "   macro avg       0.60      0.65      0.62       833\n",
      "weighted avg       0.91      0.89      0.90       833\n",
      "\n",
      "brier score: 0.09096564036840422\n"
     ]
    },
    {
     "name": "stderr",
     "output_type": "stream",
     "text": [
      "/usr/local/lib/python3.7/dist-packages/sklearn/neural_network/_multilayer_perceptron.py:696: ConvergenceWarning: Stochastic Optimizer: Maximum iterations (200) reached and the optimization hasn't converged yet.\n",
      "  ConvergenceWarning,\n"
     ]
    }
   ],
   "source": [
    "# Modeling with SMOTE-trasnformed data\n",
    "X_resampled, y_resampled = SMOTE().fit_resample(X_train,y_train)\n",
    "\n",
    "MLPmodel2 = MLPClassifier()\n",
    "\n",
    "MLPmodel2.fit(X_resampled, y_resampled)\n",
    "\n",
    "MLPpreds2 = MLPmodel2.predict(X_test)\n",
    "\n",
    "tn, fp, fn, tp = confusion_matrix(y_test, MLPpreds2).ravel()\n",
    "print('True negatives: ', tn, '\\nFalse positives: ', fp, '\\nFalse negatives: ', fn, '\\nTrue positives: ', tp)\n",
    "\n",
    "print(classification_report(y_test, MLPpreds2))\n",
    "\n",
    "MLPprobs2 = MLPmodel2.predict_proba(X_test)\n",
    "MLPprobs2 = MLPprobs2[:, 1]\n",
    "MLPloss2 = brier_score_loss(y_test, MLPprobs2)\n",
    "print(\"brier score:\", MLPloss2)"
   ]
  },
  {
   "cell_type": "markdown",
   "metadata": {
    "id": "E-J2aAikySP_"
   },
   "source": [
    "## 11.4 Modeling Heart Attack prediction with a Support Vector Machine Classifier"
   ]
  },
  {
   "cell_type": "code",
   "execution_count": null,
   "metadata": {
    "colab": {
     "base_uri": "https://localhost:8080/"
    },
    "id": "cJ99WFMz0FyA",
    "outputId": "59e03b00-e330-4531-f5fb-cb024ddcb4f8"
   },
   "outputs": [
    {
     "name": "stdout",
     "output_type": "stream",
     "text": [
      "True negatives:  780 \n",
      "False positives:  0 \n",
      "False negatives:  53 \n",
      "True Positives:  0\n",
      "              precision    recall  f1-score   support\n",
      "\n",
      "         0.0       0.94      1.00      0.97       780\n",
      "         1.0       0.00      0.00      0.00        53\n",
      "\n",
      "    accuracy                           0.94       833\n",
      "   macro avg       0.47      0.50      0.48       833\n",
      "weighted avg       0.88      0.94      0.91       833\n",
      "\n",
      "brier score: 0.05616829652967341\n"
     ]
    },
    {
     "name": "stderr",
     "output_type": "stream",
     "text": [
      "/usr/local/lib/python3.7/dist-packages/sklearn/metrics/_classification.py:1318: UndefinedMetricWarning: Precision and F-score are ill-defined and being set to 0.0 in labels with no predicted samples. Use `zero_division` parameter to control this behavior.\n",
      "  _warn_prf(average, modifier, msg_start, len(result))\n",
      "/usr/local/lib/python3.7/dist-packages/sklearn/metrics/_classification.py:1318: UndefinedMetricWarning: Precision and F-score are ill-defined and being set to 0.0 in labels with no predicted samples. Use `zero_division` parameter to control this behavior.\n",
      "  _warn_prf(average, modifier, msg_start, len(result))\n",
      "/usr/local/lib/python3.7/dist-packages/sklearn/metrics/_classification.py:1318: UndefinedMetricWarning: Precision and F-score are ill-defined and being set to 0.0 in labels with no predicted samples. Use `zero_division` parameter to control this behavior.\n",
      "  _warn_prf(average, modifier, msg_start, len(result))\n"
     ]
    }
   ],
   "source": [
    "# Modeling with Original Dataset\n",
    "X_train = train.drop('HeartAttack', axis = 1)\n",
    "y_train = train.HeartAttack\n",
    "\n",
    "X_test = test.drop('HeartAttack', axis = 1)\n",
    "y_test = test.HeartAttack\n",
    "\n",
    "\n",
    "SVCmodel = SVC(probability=True)\n",
    "\n",
    "SVCmodel.fit(X_train, y_train)\n",
    "\n",
    "SVCpreds = SVCmodel.predict(X_test)\n",
    "\n",
    "tn, fp, fn, tp = confusion_matrix(y_test, SVCpreds).ravel()\n",
    "print('True negatives: ', tn, '\\nFalse positives: ', fp, '\\nFalse negatives: ', fn, '\\nTrue Positives: ', tp)\n",
    "\n",
    "print(classification_report(y_test, SVCpreds))\n",
    "\n",
    "SVCprobs = SVCmodel.predict_proba(X_test)\n",
    "SVCprobs = SVCprobs[:, 1]\n",
    "SVCloss = brier_score_loss(y_test, SVCprobs)\n",
    "print(\"brier score:\", SVCloss)"
   ]
  },
  {
   "cell_type": "code",
   "execution_count": null,
   "metadata": {
    "colab": {
     "base_uri": "https://localhost:8080/"
    },
    "id": "Hzy1oZHu0FtV",
    "outputId": "4a498617-8fcf-4b34-f5e4-682e419697ed"
   },
   "outputs": [
    {
     "name": "stdout",
     "output_type": "stream",
     "text": [
      "True negatives:  548 \n",
      "False positives:  232 \n",
      "False negatives:  13 \n",
      "True positives:  40\n",
      "              precision    recall  f1-score   support\n",
      "\n",
      "         0.0       0.98      0.70      0.82       780\n",
      "         1.0       0.15      0.75      0.25        53\n",
      "\n",
      "    accuracy                           0.71       833\n",
      "   macro avg       0.56      0.73      0.53       833\n",
      "weighted avg       0.92      0.71      0.78       833\n",
      "\n",
      "brier score: 0.16558010073598478\n"
     ]
    }
   ],
   "source": [
    "# Modeling with SMOTE-trasnformed data\n",
    "X_resampled, y_resampled = SMOTE().fit_resample(X_train,y_train)\n",
    "\n",
    "SVCmodel2 = SVC(probability=True)\n",
    "\n",
    "SVCmodel2.fit(X_resampled, y_resampled)\n",
    "\n",
    "SVCpreds2 = SVCmodel2.predict(X_test)\n",
    "\n",
    "tn, fp, fn, tp = confusion_matrix(y_test, SVCpreds2).ravel()\n",
    "print('True negatives: ', tn, '\\nFalse positives: ', fp, '\\nFalse negatives: ', fn, '\\nTrue positives: ', tp)\n",
    "\n",
    "print(classification_report(y_test, SVCpreds2))\n",
    "\n",
    "SVCprobs2 = SVCmodel2.predict_proba(X_test)\n",
    "SVCprobs2 = SVCprobs2[:, 1]\n",
    "SVCloss2 = brier_score_loss(y_test, SVCprobs2)\n",
    "print(\"brier score:\", SVCloss2)"
   ]
  },
  {
   "cell_type": "markdown",
   "metadata": {
    "id": "NKRAcvHTySSi"
   },
   "source": [
    "## 11.5 Modeling Heart Attack prediction using K Neighbors"
   ]
  },
  {
   "cell_type": "code",
   "execution_count": null,
   "metadata": {
    "colab": {
     "base_uri": "https://localhost:8080/"
    },
    "id": "Ur1DYD930GNS",
    "outputId": "89477766-12c7-498f-dff0-c47a90c4f0b2"
   },
   "outputs": [
    {
     "name": "stdout",
     "output_type": "stream",
     "text": [
      "True negatives:  773 \n",
      "False positives:  7 \n",
      "False negatives:  51 \n",
      "True Positives:  2\n",
      "              precision    recall  f1-score   support\n",
      "\n",
      "         0.0       0.94      0.99      0.96       780\n",
      "         1.0       0.22      0.04      0.06        53\n",
      "\n",
      "    accuracy                           0.93       833\n",
      "   macro avg       0.58      0.51      0.51       833\n",
      "weighted avg       0.89      0.93      0.91       833\n",
      "\n",
      "brier score: 0.0647779111644658\n"
     ]
    }
   ],
   "source": [
    "# Modeling with Original Dataset\n",
    "X_train = train.drop('HeartAttack', axis = 1)\n",
    "y_train = train.HeartAttack\n",
    "\n",
    "X_test = test.drop('HeartAttack', axis = 1)\n",
    "y_test = test.HeartAttack\n",
    "\n",
    "\n",
    "knmodel = KNeighborsClassifier()\n",
    "\n",
    "knmodel.fit(X_train, y_train)\n",
    "\n",
    "knpreds = knmodel.predict(X_test)\n",
    "\n",
    "tn, fp, fn, tp = confusion_matrix(y_test, knpreds).ravel()\n",
    "print('True negatives: ', tn, '\\nFalse positives: ', fp, '\\nFalse negatives: ', fn, '\\nTrue Positives: ', tp)\n",
    "\n",
    "print(classification_report(y_test, knpreds))\n",
    "\n",
    "knprobs = knmodel.predict_proba(X_test)\n",
    "knprobs = knprobs[:, 1]\n",
    "knloss = brier_score_loss(y_test, knprobs)\n",
    "print(\"brier score:\", knloss)"
   ]
  },
  {
   "cell_type": "code",
   "execution_count": null,
   "metadata": {
    "colab": {
     "base_uri": "https://localhost:8080/"
    },
    "id": "q4gQI2sJ0GI3",
    "outputId": "a66fd1e4-5379-4069-d113-bd896ce69cd3"
   },
   "outputs": [
    {
     "name": "stdout",
     "output_type": "stream",
     "text": [
      "True negatives:  586 \n",
      "False positives:  194 \n",
      "False negatives:  27 \n",
      "True positives:  26\n",
      "              precision    recall  f1-score   support\n",
      "\n",
      "         0.0       0.96      0.75      0.84       780\n",
      "         1.0       0.12      0.49      0.19        53\n",
      "\n",
      "    accuracy                           0.73       833\n",
      "   macro avg       0.54      0.62      0.52       833\n",
      "weighted avg       0.90      0.73      0.80       833\n",
      "\n",
      "brier score: 0.20105642256902764\n"
     ]
    }
   ],
   "source": [
    "# Modeling with SMOTE-trasnformed data\n",
    "X_resampled, y_resampled = SMOTE().fit_resample(X_train,y_train)\n",
    "\n",
    "knmodel2 = KNeighborsClassifier()\n",
    "\n",
    "knmodel2.fit(X_resampled, y_resampled)\n",
    "\n",
    "knpreds2 = knmodel2.predict(X_test)\n",
    "\n",
    "tn, fp, fn, tp = confusion_matrix(y_test, knpreds2).ravel()\n",
    "print('True negatives: ', tn, '\\nFalse positives: ', fp, '\\nFalse negatives: ', fn, '\\nTrue positives: ', tp)\n",
    "\n",
    "print(classification_report(y_test, knpreds2))\n",
    "\n",
    "knprobs2 = knmodel2.predict_proba(X_test)\n",
    "knprobs2 = knprobs2[:, 1]\n",
    "knloss2 = brier_score_loss(y_test, knprobs2)\n",
    "print(\"brier score:\", knloss2)"
   ]
  },
  {
   "cell_type": "markdown",
   "metadata": {
    "id": "ku6NJsmKySVt"
   },
   "source": [
    "## 11.6 Modeling Heart Attack prediction using a Gaussian Process Classifier"
   ]
  },
  {
   "cell_type": "code",
   "execution_count": null,
   "metadata": {
    "colab": {
     "base_uri": "https://localhost:8080/"
    },
    "id": "bDcSDL8K0Gpt",
    "outputId": "78e4fbc3-7719-4588-e950-49f941ac9804"
   },
   "outputs": [
    {
     "name": "stdout",
     "output_type": "stream",
     "text": [
      "True negatives:  752 \n",
      "False positives:  28 \n",
      "False negatives:  49 \n",
      "True Positives:  4\n",
      "              precision    recall  f1-score   support\n",
      "\n",
      "         0.0       0.94      0.96      0.95       780\n",
      "         1.0       0.12      0.08      0.09        53\n",
      "\n",
      "    accuracy                           0.91       833\n",
      "   macro avg       0.53      0.52      0.52       833\n",
      "weighted avg       0.89      0.91      0.90       833\n",
      "\n",
      "brier score: 0.2220496214437985\n"
     ]
    }
   ],
   "source": [
    "# Modeling with Original Dataset\n",
    "X_train = train.drop('HeartAttack', axis = 1)\n",
    "y_train = train.HeartAttack\n",
    "\n",
    "X_test = test.drop('HeartAttack', axis = 1)\n",
    "y_test = test.HeartAttack\n",
    "\n",
    "\n",
    "gpmodel = GaussianProcessClassifier()\n",
    "\n",
    "gpmodel.fit(X_train, y_train)\n",
    "\n",
    "gppreds = gpmodel.predict(X_test)\n",
    "\n",
    "tn, fp, fn, tp = confusion_matrix(y_test, gppreds).ravel()\n",
    "print('True negatives: ', tn, '\\nFalse positives: ', fp, '\\nFalse negatives: ', fn, '\\nTrue Positives: ', tp)\n",
    "\n",
    "print(classification_report(y_test, gppreds))\n",
    "\n",
    "gpprobs = gpmodel.predict_proba(X_test)\n",
    "gpprobs = gpprobs[:, 1]\n",
    "gploss = brier_score_loss(y_test, gpprobs)\n",
    "print(\"brier score:\", gploss)"
   ]
  },
  {
   "cell_type": "code",
   "execution_count": null,
   "metadata": {
    "colab": {
     "base_uri": "https://localhost:8080/"
    },
    "id": "soAe4vPX0Glz",
    "outputId": "ceba684c-c424-417c-e391-27de0ffd1059"
   },
   "outputs": [
    {
     "name": "stdout",
     "output_type": "stream",
     "text": [
      "True negatives:  652 \n",
      "False positives:  128 \n",
      "False negatives:  33 \n",
      "True positives:  20\n",
      "              precision    recall  f1-score   support\n",
      "\n",
      "         0.0       0.95      0.84      0.89       780\n",
      "         1.0       0.14      0.38      0.20        53\n",
      "\n",
      "    accuracy                           0.81       833\n",
      "   macro avg       0.54      0.61      0.54       833\n",
      "weighted avg       0.90      0.81      0.85       833\n",
      "\n",
      "brier score: 0.22906943190838186\n"
     ]
    }
   ],
   "source": [
    "# Modeling with SMOTE-trasnformed data\n",
    "X_resampled, y_resampled = SMOTE().fit_resample(X_train,y_train)\n",
    "\n",
    "gpmodel2 = GaussianProcessClassifier()\n",
    "\n",
    "gpmodel2.fit(X_resampled, y_resampled)\n",
    "\n",
    "gppreds2 = gpmodel2.predict(X_test)\n",
    "\n",
    "tn, fp, fn, tp = confusion_matrix(y_test, gppreds2).ravel()\n",
    "print('True negatives: ', tn, '\\nFalse positives: ', fp, '\\nFalse negatives: ', fn, '\\nTrue positives: ', tp)\n",
    "\n",
    "print(classification_report(y_test, gppreds2))\n",
    "\n",
    "gpprobs2 = gpmodel2.predict_proba(X_test)\n",
    "gpprobs2 = gpprobs2[:, 1]\n",
    "gploss2 = brier_score_loss(y_test, gpprobs2)\n",
    "print(\"brier score:\", gploss2)"
   ]
  },
  {
   "cell_type": "markdown",
   "metadata": {
    "id": "TKlxR7g0ySam"
   },
   "source": [
    "## 11.7 Modeling Heart Attack prediction using an AdaBoost Classifier"
   ]
  },
  {
   "cell_type": "code",
   "execution_count": null,
   "metadata": {
    "colab": {
     "base_uri": "https://localhost:8080/"
    },
    "id": "tRyVyyja0HIH",
    "outputId": "a643e049-d80d-47ff-80e2-8672a343cdb5"
   },
   "outputs": [
    {
     "name": "stdout",
     "output_type": "stream",
     "text": [
      "True negatives:  768 \n",
      "False positives:  12 \n",
      "False negatives:  42 \n",
      "True Positives:  11\n",
      "              precision    recall  f1-score   support\n",
      "\n",
      "         0.0       0.95      0.98      0.97       780\n",
      "         1.0       0.48      0.21      0.29        53\n",
      "\n",
      "    accuracy                           0.94       833\n",
      "   macro avg       0.71      0.60      0.63       833\n",
      "weighted avg       0.92      0.94      0.92       833\n",
      "\n",
      "brier score: 0.21669410464839547\n"
     ]
    }
   ],
   "source": [
    "# Modeling with Original Dataset\n",
    "X_train = train.drop('HeartAttack', axis = 1)\n",
    "y_train = train.HeartAttack\n",
    "\n",
    "X_test = test.drop('HeartAttack', axis = 1)\n",
    "y_test = test.HeartAttack\n",
    "\n",
    "\n",
    "ABmodel = AdaBoostClassifier()\n",
    "\n",
    "ABmodel.fit(X_train, y_train)\n",
    "\n",
    "ABpreds = ABmodel.predict(X_test)\n",
    "\n",
    "tn, fp, fn, tp = confusion_matrix(y_test, ABpreds).ravel()\n",
    "print('True negatives: ', tn, '\\nFalse positives: ', fp, '\\nFalse negatives: ', fn, '\\nTrue Positives: ', tp)\n",
    "\n",
    "print(classification_report(y_test, ABpreds))\n",
    "\n",
    "ABprobs = ABmodel.predict_proba(X_test)\n",
    "ABprobs = ABprobs[:, 1]\n",
    "ABloss = brier_score_loss(y_test, ABprobs)\n",
    "print(\"brier score:\", ABloss)"
   ]
  },
  {
   "cell_type": "code",
   "execution_count": null,
   "metadata": {
    "colab": {
     "base_uri": "https://localhost:8080/"
    },
    "id": "ZomBStdA0HEM",
    "outputId": "fb55affe-b59c-4d31-e319-8a1d445f67ca"
   },
   "outputs": [
    {
     "name": "stdout",
     "output_type": "stream",
     "text": [
      "True negatives:  759 \n",
      "False positives:  21 \n",
      "False negatives:  36 \n",
      "True positives:  17\n",
      "              precision    recall  f1-score   support\n",
      "\n",
      "         0.0       0.95      0.97      0.96       780\n",
      "         1.0       0.45      0.32      0.37        53\n",
      "\n",
      "    accuracy                           0.93       833\n",
      "   macro avg       0.70      0.65      0.67       833\n",
      "weighted avg       0.92      0.93      0.93       833\n",
      "\n",
      "brier score: 0.218827421458729\n"
     ]
    }
   ],
   "source": [
    "# Modeling with SMOTE-trasnformed data\n",
    "X_resampled, y_resampled = SMOTE().fit_resample(X_train,y_train)\n",
    "\n",
    "ABmodel2 = AdaBoostClassifier()\n",
    "\n",
    "ABmodel2.fit(X_resampled, y_resampled)\n",
    "\n",
    "ABpreds2 = ABmodel2.predict(X_test)\n",
    "\n",
    "tn, fp, fn, tp = confusion_matrix(y_test, ABpreds2).ravel()\n",
    "print('True negatives: ', tn, '\\nFalse positives: ', fp, '\\nFalse negatives: ', fn, '\\nTrue positives: ', tp)\n",
    "\n",
    "print(classification_report(y_test, ABpreds2))\n",
    "\n",
    "ABprobs2 = ABmodel2.predict_proba(X_test)\n",
    "ABprobs2 = ABprobs2[:, 1]\n",
    "ABloss2 = brier_score_loss(y_test, ABprobs2)\n",
    "print(\"brier score:\", ABloss2)"
   ]
  },
  {
   "cell_type": "markdown",
   "metadata": {
    "id": "FxODFNFwtZVB"
   },
   "source": [
    "# 12. Performing the above modeling steps, but instead using Kidney Disease as the target variable"
   ]
  },
  {
   "cell_type": "markdown",
   "metadata": {
    "id": "gsWuTCvTzSrE"
   },
   "source": [
    "## 12.1 Modeling Kidney Disease prediction using Logistic Regression"
   ]
  },
  {
   "cell_type": "code",
   "execution_count": null,
   "metadata": {
    "colab": {
     "base_uri": "https://localhost:8080/"
    },
    "id": "PWzzP3-5tZuq",
    "outputId": "201b6d18-23c0-458b-a20a-f7572a9ab6a4"
   },
   "outputs": [
    {
     "name": "stderr",
     "output_type": "stream",
     "text": [
      "/usr/local/lib/python3.7/dist-packages/sklearn/linear_model/_logistic.py:818: ConvergenceWarning: lbfgs failed to converge (status=1):\n",
      "STOP: TOTAL NO. of ITERATIONS REACHED LIMIT.\n",
      "\n",
      "Increase the number of iterations (max_iter) or scale the data as shown in:\n",
      "    https://scikit-learn.org/stable/modules/preprocessing.html\n",
      "Please also refer to the documentation for alternative solver options:\n",
      "    https://scikit-learn.org/stable/modules/linear_model.html#logistic-regression\n",
      "  extra_warning_msg=_LOGISTIC_SOLVER_CONVERGENCE_MSG,\n"
     ]
    }
   ],
   "source": [
    "train, test = train_test_split(brfss_binary, test_size = 0.3, stratify=brfss_binary.KidneyDisease)\n",
    "\n",
    "#X Y Split\n",
    "X_train = train.drop('KidneyDisease', axis = 1)\n",
    "y_train = train.KidneyDisease\n",
    "\n",
    "X_test = test.drop('KidneyDisease', axis = 1)\n",
    "y_test = test.KidneyDisease\n",
    "\n",
    "\n",
    "lrmodel = LogisticRegression()\n",
    "lrmodel.fit(X_train, y_train)\n",
    "lrpreds = lrmodel.predict(X_test)"
   ]
  },
  {
   "cell_type": "code",
   "execution_count": null,
   "metadata": {
    "colab": {
     "base_uri": "https://localhost:8080/"
    },
    "id": "Syx4VEintaTa",
    "outputId": "31e1d666-9c75-485f-f7b1-8c6e2304b4b3"
   },
   "outputs": [
    {
     "name": "stdout",
     "output_type": "stream",
     "text": [
      "True negatives:  798 \n",
      "False positives:  0 \n",
      "False negatives:  35 \n",
      "True Positives:  0\n"
     ]
    }
   ],
   "source": [
    "tn, fp, fn, tp = confusion_matrix(y_test, lrpreds).ravel()\n",
    "print('True negatives: ', tn, '\\nFalse positives: ', fp, '\\nFalse negatives: ', fn, '\\nTrue Positives: ', tp)"
   ]
  },
  {
   "cell_type": "code",
   "execution_count": null,
   "metadata": {
    "colab": {
     "base_uri": "https://localhost:8080/"
    },
    "id": "croQPPv1taWA",
    "outputId": "4624aa8c-ceea-4c93-8c59-afe64f67b20b"
   },
   "outputs": [
    {
     "name": "stdout",
     "output_type": "stream",
     "text": [
      "              precision    recall  f1-score   support\n",
      "\n",
      "         0.0       0.96      1.00      0.98       798\n",
      "         1.0       0.00      0.00      0.00        35\n",
      "\n",
      "    accuracy                           0.96       833\n",
      "   macro avg       0.48      0.50      0.49       833\n",
      "weighted avg       0.92      0.96      0.94       833\n",
      "\n"
     ]
    },
    {
     "name": "stderr",
     "output_type": "stream",
     "text": [
      "/usr/local/lib/python3.7/dist-packages/sklearn/metrics/_classification.py:1318: UndefinedMetricWarning: Precision and F-score are ill-defined and being set to 0.0 in labels with no predicted samples. Use `zero_division` parameter to control this behavior.\n",
      "  _warn_prf(average, modifier, msg_start, len(result))\n",
      "/usr/local/lib/python3.7/dist-packages/sklearn/metrics/_classification.py:1318: UndefinedMetricWarning: Precision and F-score are ill-defined and being set to 0.0 in labels with no predicted samples. Use `zero_division` parameter to control this behavior.\n",
      "  _warn_prf(average, modifier, msg_start, len(result))\n",
      "/usr/local/lib/python3.7/dist-packages/sklearn/metrics/_classification.py:1318: UndefinedMetricWarning: Precision and F-score are ill-defined and being set to 0.0 in labels with no predicted samples. Use `zero_division` parameter to control this behavior.\n",
      "  _warn_prf(average, modifier, msg_start, len(result))\n"
     ]
    }
   ],
   "source": [
    "print(classification_report(y_test, lrpreds))"
   ]
  },
  {
   "cell_type": "code",
   "execution_count": null,
   "metadata": {
    "colab": {
     "base_uri": "https://localhost:8080/"
    },
    "id": "vIacXkPLmMiM",
    "outputId": "5c57a99b-8088-427b-c869-15641fd7878c"
   },
   "outputs": [
    {
     "name": "stdout",
     "output_type": "stream",
     "text": [
      "brier score: 0.03860960075683546\n"
     ]
    }
   ],
   "source": [
    "lrprobs = lrmodel.predict_proba(X_test)\n",
    "lrprobs = lrprobs[:, 1]\n",
    "lrloss = brier_score_loss(y_test, lrprobs)\n",
    "print(\"brier score:\", lrloss)"
   ]
  },
  {
   "cell_type": "code",
   "execution_count": null,
   "metadata": {
    "id": "WzezRM_XtaYa"
   },
   "outputs": [],
   "source": [
    "X_resampled, y_resampled = SMOTE().fit_resample(X_train,y_train)"
   ]
  },
  {
   "cell_type": "code",
   "execution_count": null,
   "metadata": {
    "colab": {
     "base_uri": "https://localhost:8080/"
    },
    "id": "fOY0LlV8taa5",
    "outputId": "4407d110-068d-43d5-c98c-0a49c3dd8aed"
   },
   "outputs": [
    {
     "name": "stderr",
     "output_type": "stream",
     "text": [
      "/usr/local/lib/python3.7/dist-packages/sklearn/linear_model/_logistic.py:818: ConvergenceWarning: lbfgs failed to converge (status=1):\n",
      "STOP: TOTAL NO. of ITERATIONS REACHED LIMIT.\n",
      "\n",
      "Increase the number of iterations (max_iter) or scale the data as shown in:\n",
      "    https://scikit-learn.org/stable/modules/preprocessing.html\n",
      "Please also refer to the documentation for alternative solver options:\n",
      "    https://scikit-learn.org/stable/modules/linear_model.html#logistic-regression\n",
      "  extra_warning_msg=_LOGISTIC_SOLVER_CONVERGENCE_MSG,\n"
     ]
    }
   ],
   "source": [
    "lrmodel2 = LogisticRegression()\n",
    "lrmodel2.fit(X_resampled, y_resampled)\n",
    "\n",
    "lrpreds2 = lrmodel2.predict(X_test)"
   ]
  },
  {
   "cell_type": "code",
   "execution_count": null,
   "metadata": {
    "colab": {
     "base_uri": "https://localhost:8080/"
    },
    "id": "clIA9chmtadn",
    "outputId": "ea741366-d96c-4859-8aa8-8e9b86732db9"
   },
   "outputs": [
    {
     "name": "stdout",
     "output_type": "stream",
     "text": [
      "True negatives:  576 \n",
      "False positives:  222 \n",
      "False negatives:  9 \n",
      "True positives:  26\n"
     ]
    }
   ],
   "source": [
    "tn, fp, fn, tp = confusion_matrix(y_test, lrpreds2).ravel()\n",
    "print('True negatives: ', tn, '\\nFalse positives: ', fp, '\\nFalse negatives: ', fn, '\\nTrue positives: ', tp)"
   ]
  },
  {
   "cell_type": "code",
   "execution_count": null,
   "metadata": {
    "colab": {
     "base_uri": "https://localhost:8080/"
    },
    "id": "TB63CcVxtafl",
    "outputId": "d64ac422-f57f-4ed9-db08-b18197827026"
   },
   "outputs": [
    {
     "name": "stdout",
     "output_type": "stream",
     "text": [
      "              precision    recall  f1-score   support\n",
      "\n",
      "         0.0       0.98      0.72      0.83       798\n",
      "         1.0       0.10      0.74      0.18        35\n",
      "\n",
      "    accuracy                           0.72       833\n",
      "   macro avg       0.54      0.73      0.51       833\n",
      "weighted avg       0.95      0.72      0.81       833\n",
      "\n"
     ]
    }
   ],
   "source": [
    "print(classification_report(y_test, lrpreds2))"
   ]
  },
  {
   "cell_type": "code",
   "execution_count": null,
   "metadata": {
    "colab": {
     "base_uri": "https://localhost:8080/"
    },
    "id": "3_wvsTRft7cO",
    "outputId": "7164c3a1-017f-4d4d-b304-3f0ae2344062"
   },
   "outputs": [
    {
     "name": "stdout",
     "output_type": "stream",
     "text": [
      "brier score: 0.18803877906045566\n"
     ]
    }
   ],
   "source": [
    "lrprobs2 = lrmodel2.predict_proba(X_test)\n",
    "lrprobs2 = lrprobs2[:, 1]\n",
    "lrloss2 = brier_score_loss(y_test, lrprobs2)\n",
    "print(\"brier score:\", lrloss2)"
   ]
  },
  {
   "cell_type": "markdown",
   "metadata": {
    "id": "nOIGPonizVLA"
   },
   "source": [
    "## 12.2 Modeling Kidney Disease prediction with Random Forest"
   ]
  },
  {
   "cell_type": "code",
   "execution_count": null,
   "metadata": {
    "colab": {
     "base_uri": "https://localhost:8080/"
    },
    "id": "vTe1Duhuz-em",
    "outputId": "2d0a667d-22d8-4067-cf4f-66a5783e62e7"
   },
   "outputs": [
    {
     "name": "stdout",
     "output_type": "stream",
     "text": [
      "True negatives:  798 \n",
      "False positives:  0 \n",
      "False negatives:  35 \n",
      "True Positives:  0\n",
      "              precision    recall  f1-score   support\n",
      "\n",
      "         0.0       0.96      1.00      0.98       798\n",
      "         1.0       0.00      0.00      0.00        35\n",
      "\n",
      "    accuracy                           0.96       833\n",
      "   macro avg       0.48      0.50      0.49       833\n",
      "weighted avg       0.92      0.96      0.94       833\n",
      "\n",
      "brier score: 0.04026890756302521\n",
      "feature importances:\n",
      " BMI                     0.122368\n",
      "Age                     0.102441\n",
      "PhysHlth                0.096341\n",
      "Income                  0.096132\n",
      "Education               0.081175\n",
      "MentHlth                0.078819\n",
      "GenHlth                 0.067472\n",
      "Smoker                  0.033398\n",
      "Fruits                  0.032646\n",
      "Diabetes_binary         0.029922\n",
      "Sex                     0.029747\n",
      "Stroke                  0.027060\n",
      "DiffWalk                0.026679\n",
      "PhysActivity            0.026246\n",
      "HighChol                0.025853\n",
      "HighBP                  0.023910\n",
      "Veggies                 0.022802\n",
      "CoronaryHeartDisease    0.021783\n",
      "NoDocbcCost             0.019174\n",
      "HeartAttack             0.016769\n",
      "AnyHealthcare           0.009807\n",
      "HvyAlcoholConsump       0.005352\n",
      "CholCheck               0.004103\n",
      "dtype: float64\n"
     ]
    },
    {
     "name": "stderr",
     "output_type": "stream",
     "text": [
      "/usr/local/lib/python3.7/dist-packages/sklearn/metrics/_classification.py:1318: UndefinedMetricWarning: Precision and F-score are ill-defined and being set to 0.0 in labels with no predicted samples. Use `zero_division` parameter to control this behavior.\n",
      "  _warn_prf(average, modifier, msg_start, len(result))\n",
      "/usr/local/lib/python3.7/dist-packages/sklearn/metrics/_classification.py:1318: UndefinedMetricWarning: Precision and F-score are ill-defined and being set to 0.0 in labels with no predicted samples. Use `zero_division` parameter to control this behavior.\n",
      "  _warn_prf(average, modifier, msg_start, len(result))\n",
      "/usr/local/lib/python3.7/dist-packages/sklearn/metrics/_classification.py:1318: UndefinedMetricWarning: Precision and F-score are ill-defined and being set to 0.0 in labels with no predicted samples. Use `zero_division` parameter to control this behavior.\n",
      "  _warn_prf(average, modifier, msg_start, len(result))\n"
     ]
    }
   ],
   "source": [
    "# Modeling with Original Dataset\n",
    "X_train = train.drop('KidneyDisease', axis = 1)\n",
    "y_train = train.KidneyDisease\n",
    "\n",
    "X_test = test.drop('KidneyDisease', axis = 1)\n",
    "y_test = test.KidneyDisease\n",
    "\n",
    "\n",
    "rfmodel = RandomForestClassifier()\n",
    "\n",
    "rfmodel.fit(X_train, y_train)\n",
    "\n",
    "rfpreds = rfmodel.predict(X_test)\n",
    "\n",
    "tn, fp, fn, tp = confusion_matrix(y_test, rfpreds).ravel()\n",
    "print('True negatives: ', tn, '\\nFalse positives: ', fp, '\\nFalse negatives: ', fn, '\\nTrue Positives: ', tp)\n",
    "\n",
    "print(classification_report(y_test, rfpreds))\n",
    "\n",
    "rfprobs = rfmodel.predict_proba(X_test)\n",
    "rfprobs = rfprobs[:, 1]\n",
    "rfloss = brier_score_loss(y_test, rfprobs)\n",
    "print(\"brier score:\", rfloss)\n",
    "\n",
    "important_features = pd.Series(data=rfmodel.feature_importances_,index=X_test.columns)\n",
    "important_features.sort_values(ascending=False,inplace=True)\n",
    "print(\"feature importances:\\n\", important_features)"
   ]
  },
  {
   "cell_type": "code",
   "execution_count": null,
   "metadata": {
    "colab": {
     "base_uri": "https://localhost:8080/"
    },
    "id": "yzXL0c9hz-aT",
    "outputId": "8d0f66da-984a-4c82-e11b-d4ce80bef69c"
   },
   "outputs": [
    {
     "name": "stdout",
     "output_type": "stream",
     "text": [
      "True negatives:  797 \n",
      "False positives:  1 \n",
      "False negatives:  35 \n",
      "True positives:  0\n",
      "              precision    recall  f1-score   support\n",
      "\n",
      "         0.0       0.96      1.00      0.98       798\n",
      "         1.0       0.00      0.00      0.00        35\n",
      "\n",
      "    accuracy                           0.96       833\n",
      "   macro avg       0.48      0.50      0.49       833\n",
      "weighted avg       0.92      0.96      0.94       833\n",
      "\n",
      "brier score: 0.04177322929171669\n",
      "feature importances:\n",
      " GenHlth                 0.112721\n",
      "HighBP                  0.106680\n",
      "DiffWalk                0.089458\n",
      "HighChol                0.081887\n",
      "Diabetes_binary         0.068046\n",
      "Smoker                  0.064285\n",
      "PhysHlth                0.060415\n",
      "Age                     0.053006\n",
      "Fruits                  0.048901\n",
      "BMI                     0.044039\n",
      "PhysActivity            0.043591\n",
      "Stroke                  0.040836\n",
      "MentHlth                0.031179\n",
      "Income                  0.029570\n",
      "Education               0.028615\n",
      "Sex                     0.023563\n",
      "Veggies                 0.019429\n",
      "NoDocbcCost             0.019308\n",
      "CoronaryHeartDisease    0.016886\n",
      "HeartAttack             0.009689\n",
      "AnyHealthcare           0.005382\n",
      "HvyAlcoholConsump       0.001766\n",
      "CholCheck               0.000746\n",
      "dtype: float64\n"
     ]
    }
   ],
   "source": [
    "# Modeling with SMOTE-trasnformed data\n",
    "X_resampled, y_resampled = SMOTE().fit_resample(X_train,y_train)\n",
    "\n",
    "rfmodel2 = RandomForestClassifier()\n",
    "\n",
    "rfmodel2.fit(X_resampled, y_resampled)\n",
    "\n",
    "rfpreds2 = rfmodel2.predict(X_test)\n",
    "\n",
    "tn, fp, fn, tp = confusion_matrix(y_test, rfpreds2).ravel()\n",
    "print('True negatives: ', tn, '\\nFalse positives: ', fp, '\\nFalse negatives: ', fn, '\\nTrue positives: ', tp)\n",
    "\n",
    "print(classification_report(y_test, rfpreds2))\n",
    "\n",
    "rfprobs2 = rfmodel2.predict_proba(X_test)\n",
    "rfprobs2 = rfprobs2[:, 1]\n",
    "rfloss2 = brier_score_loss(y_test, rfprobs2)\n",
    "print(\"brier score:\", rfloss2)\n",
    "\n",
    "important_features = pd.Series(data=rfmodel2.feature_importances_,index=X_test.columns)\n",
    "important_features.sort_values(ascending=False,inplace=True)\n",
    "print(\"feature importances:\\n\", important_features)"
   ]
  },
  {
   "cell_type": "markdown",
   "metadata": {
    "id": "npH53qq8zVNf"
   },
   "source": [
    "## 12.3 Modeling Kidney Disease prediction with a Multi Layer Perceptron"
   ]
  },
  {
   "cell_type": "code",
   "execution_count": null,
   "metadata": {
    "colab": {
     "base_uri": "https://localhost:8080/"
    },
    "id": "hrnEE3mdz-7i",
    "outputId": "04793f33-efae-48f9-d594-f94df6adb16f"
   },
   "outputs": [
    {
     "name": "stdout",
     "output_type": "stream",
     "text": [
      "True negatives:  792 \n",
      "False positives:  6 \n",
      "False negatives:  35 \n",
      "True Positives:  0\n",
      "              precision    recall  f1-score   support\n",
      "\n",
      "         0.0       0.96      0.99      0.97       798\n",
      "         1.0       0.00      0.00      0.00        35\n",
      "\n",
      "    accuracy                           0.95       833\n",
      "   macro avg       0.48      0.50      0.49       833\n",
      "weighted avg       0.92      0.95      0.93       833\n",
      "\n",
      "brier score: 0.043390852646442366\n"
     ]
    },
    {
     "name": "stderr",
     "output_type": "stream",
     "text": [
      "/usr/local/lib/python3.7/dist-packages/sklearn/neural_network/_multilayer_perceptron.py:696: ConvergenceWarning: Stochastic Optimizer: Maximum iterations (200) reached and the optimization hasn't converged yet.\n",
      "  ConvergenceWarning,\n"
     ]
    }
   ],
   "source": [
    "# Modeling with Original Dataset\n",
    "X_train = train.drop('KidneyDisease', axis = 1)\n",
    "y_train = train.KidneyDisease\n",
    "\n",
    "X_test = test.drop('KidneyDisease', axis = 1)\n",
    "y_test = test.KidneyDisease\n",
    "\n",
    "\n",
    "MLPmodel = MLPClassifier()\n",
    "\n",
    "MLPmodel.fit(X_train, y_train)\n",
    "\n",
    "MLPpreds = MLPmodel.predict(X_test)\n",
    "\n",
    "tn, fp, fn, tp = confusion_matrix(y_test, MLPpreds).ravel()\n",
    "print('True negatives: ', tn, '\\nFalse positives: ', fp, '\\nFalse negatives: ', fn, '\\nTrue Positives: ', tp)\n",
    "\n",
    "print(classification_report(y_test, MLPpreds))\n",
    "\n",
    "MLPprobs = MLPmodel.predict_proba(X_test)\n",
    "MLPprobs = MLPprobs[:, 1]\n",
    "MLPloss = brier_score_loss(y_test, MLPprobs)\n",
    "print(\"brier score:\", MLPloss)"
   ]
  },
  {
   "cell_type": "code",
   "execution_count": null,
   "metadata": {
    "colab": {
     "base_uri": "https://localhost:8080/"
    },
    "id": "GT_eJqtUz-3_",
    "outputId": "28eb1127-c391-4dc5-eb39-2f0fdc24cf66"
   },
   "outputs": [
    {
     "name": "stdout",
     "output_type": "stream",
     "text": [
      "True negatives:  745 \n",
      "False positives:  53 \n",
      "False negatives:  29 \n",
      "True positives:  6\n",
      "              precision    recall  f1-score   support\n",
      "\n",
      "         0.0       0.96      0.93      0.95       798\n",
      "         1.0       0.10      0.17      0.13        35\n",
      "\n",
      "    accuracy                           0.90       833\n",
      "   macro avg       0.53      0.55      0.54       833\n",
      "weighted avg       0.93      0.90      0.91       833\n",
      "\n",
      "brier score: 0.08321228226283384\n"
     ]
    },
    {
     "name": "stderr",
     "output_type": "stream",
     "text": [
      "/usr/local/lib/python3.7/dist-packages/sklearn/neural_network/_multilayer_perceptron.py:696: ConvergenceWarning: Stochastic Optimizer: Maximum iterations (200) reached and the optimization hasn't converged yet.\n",
      "  ConvergenceWarning,\n"
     ]
    }
   ],
   "source": [
    "# Modeling with SMOTE-trasnformed data\n",
    "X_resampled, y_resampled = SMOTE().fit_resample(X_train,y_train)\n",
    "\n",
    "MLPmodel2 = MLPClassifier()\n",
    "\n",
    "MLPmodel2.fit(X_resampled, y_resampled)\n",
    "\n",
    "MLPpreds2 = MLPmodel2.predict(X_test)\n",
    "\n",
    "tn, fp, fn, tp = confusion_matrix(y_test, MLPpreds2).ravel()\n",
    "print('True negatives: ', tn, '\\nFalse positives: ', fp, '\\nFalse negatives: ', fn, '\\nTrue positives: ', tp)\n",
    "\n",
    "print(classification_report(y_test, MLPpreds2))\n",
    "\n",
    "MLPprobs2 = MLPmodel2.predict_proba(X_test)\n",
    "MLPprobs2 = MLPprobs2[:, 1]\n",
    "MLPloss2 = brier_score_loss(y_test, MLPprobs2)\n",
    "print(\"brier score:\", MLPloss2)"
   ]
  },
  {
   "cell_type": "markdown",
   "metadata": {
    "id": "zpemSmHbzVQB"
   },
   "source": [
    "## 12.4 Modeling Kidney Disease prediction with a Support Vector Machine Classifier"
   ]
  },
  {
   "cell_type": "code",
   "execution_count": null,
   "metadata": {
    "colab": {
     "base_uri": "https://localhost:8080/"
    },
    "id": "JAZTqoSoz_Wc",
    "outputId": "bd5229c3-988d-4ad5-a6e5-a2d41c155a46"
   },
   "outputs": [
    {
     "name": "stdout",
     "output_type": "stream",
     "text": [
      "True negatives:  798 \n",
      "False positives:  0 \n",
      "False negatives:  35 \n",
      "True Positives:  0\n",
      "              precision    recall  f1-score   support\n",
      "\n",
      "         0.0       0.96      1.00      0.98       798\n",
      "         1.0       0.00      0.00      0.00        35\n",
      "\n",
      "    accuracy                           0.96       833\n",
      "   macro avg       0.48      0.50      0.49       833\n",
      "weighted avg       0.92      0.96      0.94       833\n",
      "\n",
      "brier score: 0.04038926153519082\n"
     ]
    },
    {
     "name": "stderr",
     "output_type": "stream",
     "text": [
      "/usr/local/lib/python3.7/dist-packages/sklearn/metrics/_classification.py:1318: UndefinedMetricWarning: Precision and F-score are ill-defined and being set to 0.0 in labels with no predicted samples. Use `zero_division` parameter to control this behavior.\n",
      "  _warn_prf(average, modifier, msg_start, len(result))\n",
      "/usr/local/lib/python3.7/dist-packages/sklearn/metrics/_classification.py:1318: UndefinedMetricWarning: Precision and F-score are ill-defined and being set to 0.0 in labels with no predicted samples. Use `zero_division` parameter to control this behavior.\n",
      "  _warn_prf(average, modifier, msg_start, len(result))\n",
      "/usr/local/lib/python3.7/dist-packages/sklearn/metrics/_classification.py:1318: UndefinedMetricWarning: Precision and F-score are ill-defined and being set to 0.0 in labels with no predicted samples. Use `zero_division` parameter to control this behavior.\n",
      "  _warn_prf(average, modifier, msg_start, len(result))\n"
     ]
    }
   ],
   "source": [
    "# Modeling with Original Dataset\n",
    "X_train = train.drop('KidneyDisease', axis = 1)\n",
    "y_train = train.KidneyDisease\n",
    "\n",
    "X_test = test.drop('KidneyDisease', axis = 1)\n",
    "y_test = test.KidneyDisease\n",
    "\n",
    "\n",
    "SVCmodel = SVC(probability=True)\n",
    "\n",
    "SVCmodel.fit(X_train, y_train)\n",
    "\n",
    "SVCpreds = SVCmodel.predict(X_test)\n",
    "\n",
    "tn, fp, fn, tp = confusion_matrix(y_test, SVCpreds).ravel()\n",
    "print('True negatives: ', tn, '\\nFalse positives: ', fp, '\\nFalse negatives: ', fn, '\\nTrue Positives: ', tp)\n",
    "\n",
    "print(classification_report(y_test, SVCpreds))\n",
    "\n",
    "SVCprobs = SVCmodel.predict_proba(X_test)\n",
    "SVCprobs = SVCprobs[:, 1]\n",
    "SVCloss = brier_score_loss(y_test, SVCprobs)\n",
    "print(\"brier score:\", SVCloss)"
   ]
  },
  {
   "cell_type": "code",
   "execution_count": null,
   "metadata": {
    "colab": {
     "base_uri": "https://localhost:8080/"
    },
    "id": "f5UqvqEdz_Sl",
    "outputId": "e73370bd-26ac-418d-988a-f114bccb6d9f"
   },
   "outputs": [
    {
     "name": "stdout",
     "output_type": "stream",
     "text": [
      "True negatives:  599 \n",
      "False positives:  199 \n",
      "False negatives:  12 \n",
      "True positives:  23\n",
      "              precision    recall  f1-score   support\n",
      "\n",
      "         0.0       0.98      0.75      0.85       798\n",
      "         1.0       0.10      0.66      0.18        35\n",
      "\n",
      "    accuracy                           0.75       833\n",
      "   macro avg       0.54      0.70      0.51       833\n",
      "weighted avg       0.94      0.75      0.82       833\n",
      "\n",
      "brier score: 0.1619279874687052\n"
     ]
    }
   ],
   "source": [
    "# Modeling with SMOTE-trasnformed data\n",
    "X_resampled, y_resampled = SMOTE().fit_resample(X_train,y_train)\n",
    "\n",
    "SVCmodel2 = SVC(probability=True)\n",
    "\n",
    "SVCmodel2.fit(X_resampled, y_resampled)\n",
    "\n",
    "SVCpreds2 = SVCmodel2.predict(X_test)\n",
    "\n",
    "tn, fp, fn, tp = confusion_matrix(y_test, SVCpreds2).ravel()\n",
    "print('True negatives: ', tn, '\\nFalse positives: ', fp, '\\nFalse negatives: ', fn, '\\nTrue positives: ', tp)\n",
    "\n",
    "print(classification_report(y_test, SVCpreds2))\n",
    "\n",
    "SVCprobs2 = SVCmodel2.predict_proba(X_test)\n",
    "SVCprobs2 = SVCprobs2[:, 1]\n",
    "SVCloss2 = brier_score_loss(y_test, SVCprobs2)\n",
    "print(\"brier score:\", SVCloss2)"
   ]
  },
  {
   "cell_type": "markdown",
   "metadata": {
    "id": "Ww8R857CzVSk"
   },
   "source": [
    "## 12.5 Modeling Kidney Disease prediction using K Neighbors"
   ]
  },
  {
   "cell_type": "code",
   "execution_count": null,
   "metadata": {
    "colab": {
     "base_uri": "https://localhost:8080/"
    },
    "id": "07DlBIX9z_-0",
    "outputId": "d6221734-f20a-4ed3-9ea9-07bd810fa797"
   },
   "outputs": [
    {
     "name": "stdout",
     "output_type": "stream",
     "text": [
      "True negatives:  794 \n",
      "False positives:  4 \n",
      "False negatives:  35 \n",
      "True Positives:  0\n",
      "              precision    recall  f1-score   support\n",
      "\n",
      "         0.0       0.96      0.99      0.98       798\n",
      "         1.0       0.00      0.00      0.00        35\n",
      "\n",
      "    accuracy                           0.95       833\n",
      "   macro avg       0.48      0.50      0.49       833\n",
      "weighted avg       0.92      0.95      0.94       833\n",
      "\n",
      "brier score: 0.048883553421368554\n"
     ]
    }
   ],
   "source": [
    "# Modeling with Original Dataset\n",
    "X_train = train.drop('KidneyDisease', axis = 1)\n",
    "y_train = train.KidneyDisease\n",
    "\n",
    "X_test = test.drop('KidneyDisease', axis = 1)\n",
    "y_test = test.KidneyDisease\n",
    "\n",
    "\n",
    "knmodel = KNeighborsClassifier()\n",
    "\n",
    "knmodel.fit(X_train, y_train)\n",
    "\n",
    "knpreds = knmodel.predict(X_test)\n",
    "\n",
    "tn, fp, fn, tp = confusion_matrix(y_test, knpreds).ravel()\n",
    "print('True negatives: ', tn, '\\nFalse positives: ', fp, '\\nFalse negatives: ', fn, '\\nTrue Positives: ', tp)\n",
    "\n",
    "print(classification_report(y_test, knpreds))\n",
    "\n",
    "knprobs = knmodel.predict_proba(X_test)\n",
    "knprobs = knprobs[:, 1]\n",
    "knloss = brier_score_loss(y_test, knprobs)\n",
    "print(\"brier score:\", knloss)"
   ]
  },
  {
   "cell_type": "code",
   "execution_count": null,
   "metadata": {
    "colab": {
     "base_uri": "https://localhost:8080/"
    },
    "id": "2COKKHi6z_6p",
    "outputId": "c24f023e-7a65-4fb1-f9f9-fd58eb335391"
   },
   "outputs": [
    {
     "name": "stdout",
     "output_type": "stream",
     "text": [
      "True negatives:  654 \n",
      "False positives:  144 \n",
      "False negatives:  27 \n",
      "True positives:  8\n",
      "              precision    recall  f1-score   support\n",
      "\n",
      "         0.0       0.96      0.82      0.88       798\n",
      "         1.0       0.05      0.23      0.09        35\n",
      "\n",
      "    accuracy                           0.79       833\n",
      "   macro avg       0.51      0.52      0.48       833\n",
      "weighted avg       0.92      0.79      0.85       833\n",
      "\n",
      "brier score: 0.1608643457382953\n"
     ]
    }
   ],
   "source": [
    "# Modeling with SMOTE-trasnformed data\n",
    "X_resampled, y_resampled = SMOTE().fit_resample(X_train,y_train)\n",
    "\n",
    "knmodel2 = KNeighborsClassifier()\n",
    "\n",
    "knmodel2.fit(X_resampled, y_resampled)\n",
    "\n",
    "knpreds2 = knmodel2.predict(X_test)\n",
    "\n",
    "tn, fp, fn, tp = confusion_matrix(y_test, knpreds2).ravel()\n",
    "print('True negatives: ', tn, '\\nFalse positives: ', fp, '\\nFalse negatives: ', fn, '\\nTrue positives: ', tp)\n",
    "\n",
    "print(classification_report(y_test, knpreds2))\n",
    "\n",
    "knprobs2 = knmodel2.predict_proba(X_test)\n",
    "knprobs2 = knprobs2[:, 1]\n",
    "knloss2 = brier_score_loss(y_test, knprobs2)\n",
    "print(\"brier score:\", knloss2)"
   ]
  },
  {
   "cell_type": "markdown",
   "metadata": {
    "id": "qBtxNhg9zVU5"
   },
   "source": [
    "## 12.6 Modeling Kidney Disease prediction using a Gaussian Process Classifier"
   ]
  },
  {
   "cell_type": "code",
   "execution_count": null,
   "metadata": {
    "colab": {
     "base_uri": "https://localhost:8080/"
    },
    "id": "NcocLy3b0An9",
    "outputId": "5c2774d8-a5dc-4ece-b78f-4c509d71d082"
   },
   "outputs": [
    {
     "name": "stdout",
     "output_type": "stream",
     "text": [
      "True negatives:  775 \n",
      "False positives:  23 \n",
      "False negatives:  35 \n",
      "True Positives:  0\n",
      "              precision    recall  f1-score   support\n",
      "\n",
      "         0.0       0.96      0.97      0.96       798\n",
      "         1.0       0.00      0.00      0.00        35\n",
      "\n",
      "    accuracy                           0.93       833\n",
      "   macro avg       0.48      0.49      0.48       833\n",
      "weighted avg       0.92      0.93      0.92       833\n",
      "\n",
      "brier score: 0.22186678867692916\n"
     ]
    }
   ],
   "source": [
    "# Modeling with Original Dataset\n",
    "X_train = train.drop('KidneyDisease', axis = 1)\n",
    "y_train = train.KidneyDisease\n",
    "\n",
    "X_test = test.drop('KidneyDisease', axis = 1)\n",
    "y_test = test.KidneyDisease\n",
    "\n",
    "\n",
    "gpmodel = GaussianProcessClassifier()\n",
    "\n",
    "gpmodel.fit(X_train, y_train)\n",
    "\n",
    "gppreds = gpmodel.predict(X_test)\n",
    "\n",
    "tn, fp, fn, tp = confusion_matrix(y_test, gppreds).ravel()\n",
    "print('True negatives: ', tn, '\\nFalse positives: ', fp, '\\nFalse negatives: ', fn, '\\nTrue Positives: ', tp)\n",
    "\n",
    "print(classification_report(y_test, gppreds))\n",
    "\n",
    "gpprobs = gpmodel.predict_proba(X_test)\n",
    "gpprobs = gpprobs[:, 1]\n",
    "gploss = brier_score_loss(y_test, gpprobs)\n",
    "print(\"brier score:\", gploss)"
   ]
  },
  {
   "cell_type": "code",
   "execution_count": null,
   "metadata": {
    "colab": {
     "base_uri": "https://localhost:8080/"
    },
    "id": "tmfY1Hgj0Aj3",
    "outputId": "2d8773d8-2bd2-4d05-ec77-366e892b4d43"
   },
   "outputs": [
    {
     "name": "stdout",
     "output_type": "stream",
     "text": [
      "True negatives:  699 \n",
      "False positives:  99 \n",
      "False negatives:  28 \n",
      "True positives:  7\n",
      "              precision    recall  f1-score   support\n",
      "\n",
      "         0.0       0.96      0.88      0.92       798\n",
      "         1.0       0.07      0.20      0.10        35\n",
      "\n",
      "    accuracy                           0.85       833\n",
      "   macro avg       0.51      0.54      0.51       833\n",
      "weighted avg       0.92      0.85      0.88       833\n",
      "\n",
      "brier score: 0.22674256870846463\n"
     ]
    }
   ],
   "source": [
    "# Modeling with SMOTE-trasnformed data\n",
    "X_resampled, y_resampled = SMOTE().fit_resample(X_train,y_train)\n",
    "\n",
    "gpmodel2 = GaussianProcessClassifier()\n",
    "\n",
    "gpmodel2.fit(X_resampled, y_resampled)\n",
    "\n",
    "gppreds2 = gpmodel2.predict(X_test)\n",
    "\n",
    "tn, fp, fn, tp = confusion_matrix(y_test, gppreds2).ravel()\n",
    "print('True negatives: ', tn, '\\nFalse positives: ', fp, '\\nFalse negatives: ', fn, '\\nTrue positives: ', tp)\n",
    "\n",
    "print(classification_report(y_test, gppreds2))\n",
    "\n",
    "gpprobs2 = gpmodel2.predict_proba(X_test)\n",
    "gpprobs2 = gpprobs2[:, 1]\n",
    "gploss2 = brier_score_loss(y_test, gpprobs2)\n",
    "print(\"brier score:\", gploss2)"
   ]
  },
  {
   "cell_type": "markdown",
   "metadata": {
    "id": "pTADwg8jzVXg"
   },
   "source": [
    "## 12.7 Modeling Kidney Disease prediction using an AdaBoost Classifier\n"
   ]
  },
  {
   "cell_type": "code",
   "execution_count": null,
   "metadata": {
    "colab": {
     "base_uri": "https://localhost:8080/"
    },
    "id": "_o9cbeob0BKG",
    "outputId": "7f6d1bd1-890d-4844-a49c-f6809b00dac6"
   },
   "outputs": [
    {
     "name": "stdout",
     "output_type": "stream",
     "text": [
      "True negatives:  797 \n",
      "False positives:  1 \n",
      "False negatives:  35 \n",
      "True Positives:  0\n",
      "              precision    recall  f1-score   support\n",
      "\n",
      "         0.0       0.96      1.00      0.98       798\n",
      "         1.0       0.00      0.00      0.00        35\n",
      "\n",
      "    accuracy                           0.96       833\n",
      "   macro avg       0.48      0.50      0.49       833\n",
      "weighted avg       0.92      0.96      0.94       833\n",
      "\n",
      "brier score: 0.21297249726533313\n"
     ]
    }
   ],
   "source": [
    "# Modeling with Original Dataset\n",
    "X_train = train.drop('KidneyDisease', axis = 1)\n",
    "y_train = train.KidneyDisease\n",
    "\n",
    "X_test = test.drop('KidneyDisease', axis = 1)\n",
    "y_test = test.KidneyDisease\n",
    "\n",
    "\n",
    "ABmodel = AdaBoostClassifier()\n",
    "\n",
    "ABmodel.fit(X_train, y_train)\n",
    "\n",
    "ABpreds = ABmodel.predict(X_test)\n",
    "\n",
    "tn, fp, fn, tp = confusion_matrix(y_test, ABpreds).ravel()\n",
    "print('True negatives: ', tn, '\\nFalse positives: ', fp, '\\nFalse negatives: ', fn, '\\nTrue Positives: ', tp)\n",
    "\n",
    "print(classification_report(y_test, ABpreds))\n",
    "\n",
    "ABprobs = ABmodel.predict_proba(X_test)\n",
    "ABprobs = ABprobs[:, 1]\n",
    "ABloss = brier_score_loss(y_test, ABprobs)\n",
    "print(\"brier score:\", ABloss)"
   ]
  },
  {
   "cell_type": "code",
   "execution_count": null,
   "metadata": {
    "colab": {
     "base_uri": "https://localhost:8080/"
    },
    "id": "D85cscYs0BFg",
    "outputId": "1cf47a3f-6e39-4f3a-e100-180ff0675c9c"
   },
   "outputs": [
    {
     "name": "stdout",
     "output_type": "stream",
     "text": [
      "True negatives:  784 \n",
      "False positives:  14 \n",
      "False negatives:  32 \n",
      "True positives:  3\n",
      "              precision    recall  f1-score   support\n",
      "\n",
      "         0.0       0.96      0.98      0.97       798\n",
      "         1.0       0.18      0.09      0.12        35\n",
      "\n",
      "    accuracy                           0.94       833\n",
      "   macro avg       0.57      0.53      0.54       833\n",
      "weighted avg       0.93      0.94      0.94       833\n",
      "\n",
      "brier score: 0.226388777106163\n"
     ]
    }
   ],
   "source": [
    "# Modeling with SMOTE-trasnformed data\n",
    "X_resampled, y_resampled = SMOTE().fit_resample(X_train,y_train)\n",
    "\n",
    "ABmodel2 = AdaBoostClassifier()\n",
    "\n",
    "ABmodel2.fit(X_resampled, y_resampled)\n",
    "\n",
    "ABpreds2 = ABmodel2.predict(X_test)\n",
    "\n",
    "tn, fp, fn, tp = confusion_matrix(y_test, ABpreds2).ravel()\n",
    "print('True negatives: ', tn, '\\nFalse positives: ', fp, '\\nFalse negatives: ', fn, '\\nTrue positives: ', tp)\n",
    "\n",
    "print(classification_report(y_test, ABpreds2))\n",
    "\n",
    "ABprobs2 = ABmodel2.predict_proba(X_test)\n",
    "ABprobs2 = ABprobs2[:, 1]\n",
    "ABloss2 = brier_score_loss(y_test, ABprobs2)\n",
    "print(\"brier score:\", ABloss2)"
   ]
  }
 ],
 "metadata": {
  "colab": {
   "collapsed_sections": [
    "M33HQAwqU7U2",
    "xP_fYyJqVOc0",
    "KFipwxuDVj6j",
    "293FuYczV_e5",
    "QSsRR_Y-XELi",
    "PYFBKoqUmP0S",
    "P5RUcZpvqCBU",
    "UW1zLrNgrEIE",
    "pIcbIrrFr0Yz",
    "UxvxiyROsbbL",
    "GsCclPsEu92r",
    "cQcVqerRvF-I",
    "AdpVvdyHvGBc",
    "zmZeF9ejvGEd",
    "tuznahF2vGHu",
    "Ap7prowFvGK8",
    "ao4ibZH9xQAD",
    "r3wy8FTxxdOk",
    "MxqEjhsgxdSh",
    "9x5Ib16DxdV_",
    "2mm98fEHxdbB",
    "T4Ggt0udxdci",
    "CX9mXMQ2yKYg",
    "PEJlD-EJySNE",
    "E-J2aAikySP_",
    "NKRAcvHTySSi",
    "ku6NJsmKySVt",
    "TKlxR7g0ySam",
    "gsWuTCvTzSrE",
    "npH53qq8zVNf",
    "zpemSmHbzVQB",
    "Ww8R857CzVSk",
    "qBtxNhg9zVU5",
    "pTADwg8jzVXg"
   ],
   "include_colab_link": true,
   "name": "Health_Analytics_Final_Project.ipynb",
   "provenance": []
  },
  "kernelspec": {
   "display_name": "Python 3",
   "language": "python",
   "name": "python3"
  },
  "language_info": {
   "codemirror_mode": {
    "name": "ipython",
    "version": 3
   },
   "file_extension": ".py",
   "mimetype": "text/x-python",
   "name": "python",
   "nbconvert_exporter": "python",
   "pygments_lexer": "ipython3",
   "version": "3.8.5"
  }
 },
 "nbformat": 4,
 "nbformat_minor": 1
}
